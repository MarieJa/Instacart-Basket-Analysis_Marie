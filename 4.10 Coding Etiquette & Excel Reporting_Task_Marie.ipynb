{
 "cells": [
  {
   "cell_type": "markdown",
   "id": "2e4b5a2d",
   "metadata": {},
   "source": [
    "# 4.10 Coding Etiquette & Excel Reporting\n",
    "# Task\n",
    "# Marie Jacobsson"
   ]
  },
  {
   "cell_type": "markdown",
   "id": "300aa3ef",
   "metadata": {},
   "source": [
    "1. Import libraries"
   ]
  },
  {
   "cell_type": "markdown",
   "id": "5ce8576f",
   "metadata": {},
   "source": [
    "1. Import data"
   ]
  },
  {
   "cell_type": "markdown",
   "id": "4a303af0",
   "metadata": {},
   "source": [
    "2. Address PII data"
   ]
  },
  {
   "cell_type": "markdown",
   "id": "24467085",
   "metadata": {},
   "source": [
    "3. Customer behavior in different regions "
   ]
  },
  {
   "cell_type": "markdown",
   "id": "51f046e6",
   "metadata": {},
   "source": [
    "4. Exclusion flag"
   ]
  },
  {
   "cell_type": "markdown",
   "id": "94fba319",
   "metadata": {},
   "source": [
    "5. Profiling variable\n",
    "  <ul>\n",
    "<li>5.1 Age</li>\n",
    " <li>5.2 Income</li>\n",
    " <li>5.3 Dependants</li>\n",
    " <li>5.4 Departments</li>\n",
    " <li>5.5 Week of day</li>\n",
    " <li>5.6 Crosstabs</li>\n",
    " <li>5.7 Middle-aged customer</li>\n",
    "  </ul>"
   ]
  },
  {
   "cell_type": "markdown",
   "id": "2fd51fe3",
   "metadata": {},
   "source": [
    "6. Visualizations\n",
    "  <ul>\n",
    "<li>6.1 Bar Age group</li>\n",
    " <li>6.2 Bar Income status</li>\n",
    " <li>6.3 Bar Dependants status</li>\n",
    " <li>6.4 Pie Dependants status</li>\n",
    " <li>6.5 Bar Orders hour of day</li>\n",
    " <li>6.6 Bar Orders day of week</li>\n",
    " <li>6.7 Bar Income / Order day of week</li>\n",
    " <li>6.8 Bar Age / Dependants</li>\n",
    "  </ul>"
   ]
  },
  {
   "cell_type": "markdown",
   "id": "69a0d635",
   "metadata": {},
   "source": [
    "7. Aggregate the max, mean and min\n",
    "  <ul>\n",
    "<li>7.1 Price in Age group</li>\n",
    " <li>7.2 Orders hour of day by income</li>\n",
    " <li>7.3 Number of dependants by age group</li>\n",
    "  </ul>"
   ]
  },
  {
   "cell_type": "markdown",
   "id": "fa70175e",
   "metadata": {},
   "source": [
    "8. Compare customer profile"
   ]
  },
  {
   "cell_type": "markdown",
   "id": "397e2f35",
   "metadata": {},
   "source": [
    "9. Visualizations\n",
    "  <ul>\n",
    "<li>9.1 Bar Loyalty / Order day of week</li>\n",
    " <li>9.2 Bar Loyalty / Department</li>\n",
    " <li>9.3 Bar Income / Region</li>\n",
    " <li>9.4 Bar Number of dependants / Region</li>\n",
    " <li>9.5 Bar Age / Order day of week</li>\n",
    " <li>9.6 Bar Family status / Orders day of week</li>\n",
    " <li>9.7 Pie Family status</li>\n",
    " <li>9.8 Bar Family status / Orders hour of day</li>\n",
    "    <li>9.9 Bar Price range</li>\n",
    "    <li>9.10 Bar Region / Orders day of week</li>\n",
    "  </ul>"
   ]
  },
  {
   "cell_type": "markdown",
   "id": "1bd77981",
   "metadata": {},
   "source": [
    "10. Export visualizations"
   ]
  },
  {
   "cell_type": "markdown",
   "id": "fcc54b91",
   "metadata": {},
   "source": [
    "11. Export data"
   ]
  },
  {
   "cell_type": "markdown",
   "id": "75518c26",
   "metadata": {},
   "source": [
    "# 1. Import libraries"
   ]
  },
  {
   "cell_type": "code",
   "execution_count": 1,
   "id": "6c0188ff",
   "metadata": {},
   "outputs": [],
   "source": [
    "# Import libraries\n",
    "\n",
    "import pandas as pd\n",
    "import numpy as np\n",
    "import os\n",
    "import matplotlib.pyplot as plt\n",
    "import seaborn as sns\n",
    "import scipy"
   ]
  },
  {
   "cell_type": "markdown",
   "id": "ebd35cca",
   "metadata": {},
   "source": [
    "# 1. Import data"
   ]
  },
  {
   "cell_type": "code",
   "execution_count": 2,
   "id": "fdfae9bf",
   "metadata": {},
   "outputs": [],
   "source": [
    "# Create a path\n",
    "\n",
    "path = r'/Users/marie/Documents/CareerFoundry/09-2021 Instacart Basket Analysis'"
   ]
  },
  {
   "cell_type": "code",
   "execution_count": 3,
   "id": "87a20da5",
   "metadata": {},
   "outputs": [],
   "source": [
    "# Import data\n",
    "\n",
    "df = pd.read_pickle(os.path.join(path, '02 Data', 'Prepared Data', 'orders_products_current.pkl'))"
   ]
  },
  {
   "cell_type": "code",
   "execution_count": 4,
   "id": "02b6fa82",
   "metadata": {},
   "outputs": [
    {
     "data": {
      "text/plain": [
       "(32435059, 32)"
      ]
     },
     "execution_count": 4,
     "metadata": {},
     "output_type": "execute_result"
    }
   ],
   "source": [
    "df.shape"
   ]
  },
  {
   "cell_type": "markdown",
   "id": "29b4ceba",
   "metadata": {},
   "source": [
    "# 2. Address PII data"
   ]
  },
  {
   "cell_type": "code",
   "execution_count": 5,
   "id": "cede3f6c",
   "metadata": {},
   "outputs": [
    {
     "data": {
      "text/html": [
       "<div>\n",
       "<style scoped>\n",
       "    .dataframe tbody tr th:only-of-type {\n",
       "        vertical-align: middle;\n",
       "    }\n",
       "\n",
       "    .dataframe tbody tr th {\n",
       "        vertical-align: top;\n",
       "    }\n",
       "\n",
       "    .dataframe thead th {\n",
       "        text-align: right;\n",
       "    }\n",
       "</style>\n",
       "<table border=\"1\" class=\"dataframe\">\n",
       "  <thead>\n",
       "    <tr style=\"text-align: right;\">\n",
       "      <th></th>\n",
       "      <th>order_id</th>\n",
       "      <th>user_id</th>\n",
       "      <th>order_number</th>\n",
       "      <th>orders_day_of_week</th>\n",
       "      <th>order_hour_of_day</th>\n",
       "      <th>days_since_prior_order</th>\n",
       "      <th>product_id</th>\n",
       "      <th>add_to_cart_order</th>\n",
       "      <th>reordered</th>\n",
       "      <th>_merge</th>\n",
       "      <th>...</th>\n",
       "      <th>loyalty_flag</th>\n",
       "      <th>first_name</th>\n",
       "      <th>last_name</th>\n",
       "      <th>gender</th>\n",
       "      <th>state</th>\n",
       "      <th>age</th>\n",
       "      <th>date_joined</th>\n",
       "      <th>n_dependants</th>\n",
       "      <th>fam_status</th>\n",
       "      <th>income</th>\n",
       "    </tr>\n",
       "  </thead>\n",
       "  <tbody>\n",
       "    <tr>\n",
       "      <th>0</th>\n",
       "      <td>2539329</td>\n",
       "      <td>1</td>\n",
       "      <td>1</td>\n",
       "      <td>2</td>\n",
       "      <td>8</td>\n",
       "      <td>NaN</td>\n",
       "      <td>196</td>\n",
       "      <td>1</td>\n",
       "      <td>0</td>\n",
       "      <td>both</td>\n",
       "      <td>...</td>\n",
       "      <td>New customer</td>\n",
       "      <td>Linda</td>\n",
       "      <td>Nguyen</td>\n",
       "      <td>Female</td>\n",
       "      <td>Alabama</td>\n",
       "      <td>31</td>\n",
       "      <td>2/17/2019</td>\n",
       "      <td>3</td>\n",
       "      <td>married</td>\n",
       "      <td>40423</td>\n",
       "    </tr>\n",
       "    <tr>\n",
       "      <th>1</th>\n",
       "      <td>2539329</td>\n",
       "      <td>1</td>\n",
       "      <td>1</td>\n",
       "      <td>2</td>\n",
       "      <td>8</td>\n",
       "      <td>NaN</td>\n",
       "      <td>14084</td>\n",
       "      <td>2</td>\n",
       "      <td>0</td>\n",
       "      <td>both</td>\n",
       "      <td>...</td>\n",
       "      <td>New customer</td>\n",
       "      <td>Linda</td>\n",
       "      <td>Nguyen</td>\n",
       "      <td>Female</td>\n",
       "      <td>Alabama</td>\n",
       "      <td>31</td>\n",
       "      <td>2/17/2019</td>\n",
       "      <td>3</td>\n",
       "      <td>married</td>\n",
       "      <td>40423</td>\n",
       "    </tr>\n",
       "    <tr>\n",
       "      <th>2</th>\n",
       "      <td>2539329</td>\n",
       "      <td>1</td>\n",
       "      <td>1</td>\n",
       "      <td>2</td>\n",
       "      <td>8</td>\n",
       "      <td>NaN</td>\n",
       "      <td>12427</td>\n",
       "      <td>3</td>\n",
       "      <td>0</td>\n",
       "      <td>both</td>\n",
       "      <td>...</td>\n",
       "      <td>New customer</td>\n",
       "      <td>Linda</td>\n",
       "      <td>Nguyen</td>\n",
       "      <td>Female</td>\n",
       "      <td>Alabama</td>\n",
       "      <td>31</td>\n",
       "      <td>2/17/2019</td>\n",
       "      <td>3</td>\n",
       "      <td>married</td>\n",
       "      <td>40423</td>\n",
       "    </tr>\n",
       "    <tr>\n",
       "      <th>3</th>\n",
       "      <td>2539329</td>\n",
       "      <td>1</td>\n",
       "      <td>1</td>\n",
       "      <td>2</td>\n",
       "      <td>8</td>\n",
       "      <td>NaN</td>\n",
       "      <td>26088</td>\n",
       "      <td>4</td>\n",
       "      <td>0</td>\n",
       "      <td>both</td>\n",
       "      <td>...</td>\n",
       "      <td>New customer</td>\n",
       "      <td>Linda</td>\n",
       "      <td>Nguyen</td>\n",
       "      <td>Female</td>\n",
       "      <td>Alabama</td>\n",
       "      <td>31</td>\n",
       "      <td>2/17/2019</td>\n",
       "      <td>3</td>\n",
       "      <td>married</td>\n",
       "      <td>40423</td>\n",
       "    </tr>\n",
       "    <tr>\n",
       "      <th>4</th>\n",
       "      <td>2539329</td>\n",
       "      <td>1</td>\n",
       "      <td>1</td>\n",
       "      <td>2</td>\n",
       "      <td>8</td>\n",
       "      <td>NaN</td>\n",
       "      <td>26405</td>\n",
       "      <td>5</td>\n",
       "      <td>0</td>\n",
       "      <td>both</td>\n",
       "      <td>...</td>\n",
       "      <td>New customer</td>\n",
       "      <td>Linda</td>\n",
       "      <td>Nguyen</td>\n",
       "      <td>Female</td>\n",
       "      <td>Alabama</td>\n",
       "      <td>31</td>\n",
       "      <td>2/17/2019</td>\n",
       "      <td>3</td>\n",
       "      <td>married</td>\n",
       "      <td>40423</td>\n",
       "    </tr>\n",
       "  </tbody>\n",
       "</table>\n",
       "<p>5 rows × 32 columns</p>\n",
       "</div>"
      ],
      "text/plain": [
       "   order_id  user_id  order_number  orders_day_of_week  order_hour_of_day  \\\n",
       "0   2539329        1             1                   2                  8   \n",
       "1   2539329        1             1                   2                  8   \n",
       "2   2539329        1             1                   2                  8   \n",
       "3   2539329        1             1                   2                  8   \n",
       "4   2539329        1             1                   2                  8   \n",
       "\n",
       "   days_since_prior_order  product_id  add_to_cart_order  reordered _merge  \\\n",
       "0                     NaN         196                  1          0   both   \n",
       "1                     NaN       14084                  2          0   both   \n",
       "2                     NaN       12427                  3          0   both   \n",
       "3                     NaN       26088                  4          0   both   \n",
       "4                     NaN       26405                  5          0   both   \n",
       "\n",
       "   ...  loyalty_flag  first_name last_name  gender    state  age date_joined  \\\n",
       "0  ...  New customer       Linda    Nguyen  Female  Alabama   31   2/17/2019   \n",
       "1  ...  New customer       Linda    Nguyen  Female  Alabama   31   2/17/2019   \n",
       "2  ...  New customer       Linda    Nguyen  Female  Alabama   31   2/17/2019   \n",
       "3  ...  New customer       Linda    Nguyen  Female  Alabama   31   2/17/2019   \n",
       "4  ...  New customer       Linda    Nguyen  Female  Alabama   31   2/17/2019   \n",
       "\n",
       "  n_dependants fam_status income  \n",
       "0            3    married  40423  \n",
       "1            3    married  40423  \n",
       "2            3    married  40423  \n",
       "3            3    married  40423  \n",
       "4            3    married  40423  \n",
       "\n",
       "[5 rows x 32 columns]"
      ]
     },
     "execution_count": 5,
     "metadata": {},
     "output_type": "execute_result"
    }
   ],
   "source": [
    "# Print head of dataframe\n",
    "\n",
    "df.head()"
   ]
  },
  {
   "cell_type": "markdown",
   "id": "a3d0f94e",
   "metadata": {},
   "source": [
    "**Answer: PII Data is first name and last name.**"
   ]
  },
  {
   "cell_type": "code",
   "execution_count": 6,
   "id": "a9c5bbb1",
   "metadata": {},
   "outputs": [],
   "source": [
    "# Drop columns with PII data\n",
    "\n",
    "df_2 = df.drop(['first_name', 'last_name'], axis = 1)"
   ]
  },
  {
   "cell_type": "code",
   "execution_count": 7,
   "id": "14389d1b",
   "metadata": {},
   "outputs": [
    {
     "data": {
      "text/html": [
       "<div>\n",
       "<style scoped>\n",
       "    .dataframe tbody tr th:only-of-type {\n",
       "        vertical-align: middle;\n",
       "    }\n",
       "\n",
       "    .dataframe tbody tr th {\n",
       "        vertical-align: top;\n",
       "    }\n",
       "\n",
       "    .dataframe thead th {\n",
       "        text-align: right;\n",
       "    }\n",
       "</style>\n",
       "<table border=\"1\" class=\"dataframe\">\n",
       "  <thead>\n",
       "    <tr style=\"text-align: right;\">\n",
       "      <th></th>\n",
       "      <th>order_id</th>\n",
       "      <th>user_id</th>\n",
       "      <th>order_number</th>\n",
       "      <th>orders_day_of_week</th>\n",
       "      <th>order_hour_of_day</th>\n",
       "      <th>days_since_prior_order</th>\n",
       "      <th>product_id</th>\n",
       "      <th>add_to_cart_order</th>\n",
       "      <th>reordered</th>\n",
       "      <th>_merge</th>\n",
       "      <th>...</th>\n",
       "      <th>busiest_period_of_day</th>\n",
       "      <th>max_order</th>\n",
       "      <th>loyalty_flag</th>\n",
       "      <th>gender</th>\n",
       "      <th>state</th>\n",
       "      <th>age</th>\n",
       "      <th>date_joined</th>\n",
       "      <th>n_dependants</th>\n",
       "      <th>fam_status</th>\n",
       "      <th>income</th>\n",
       "    </tr>\n",
       "  </thead>\n",
       "  <tbody>\n",
       "    <tr>\n",
       "      <th>0</th>\n",
       "      <td>2539329</td>\n",
       "      <td>1</td>\n",
       "      <td>1</td>\n",
       "      <td>2</td>\n",
       "      <td>8</td>\n",
       "      <td>NaN</td>\n",
       "      <td>196</td>\n",
       "      <td>1</td>\n",
       "      <td>0</td>\n",
       "      <td>both</td>\n",
       "      <td>...</td>\n",
       "      <td>Average orders</td>\n",
       "      <td>10</td>\n",
       "      <td>New customer</td>\n",
       "      <td>Female</td>\n",
       "      <td>Alabama</td>\n",
       "      <td>31</td>\n",
       "      <td>2/17/2019</td>\n",
       "      <td>3</td>\n",
       "      <td>married</td>\n",
       "      <td>40423</td>\n",
       "    </tr>\n",
       "    <tr>\n",
       "      <th>1</th>\n",
       "      <td>2539329</td>\n",
       "      <td>1</td>\n",
       "      <td>1</td>\n",
       "      <td>2</td>\n",
       "      <td>8</td>\n",
       "      <td>NaN</td>\n",
       "      <td>14084</td>\n",
       "      <td>2</td>\n",
       "      <td>0</td>\n",
       "      <td>both</td>\n",
       "      <td>...</td>\n",
       "      <td>Average orders</td>\n",
       "      <td>10</td>\n",
       "      <td>New customer</td>\n",
       "      <td>Female</td>\n",
       "      <td>Alabama</td>\n",
       "      <td>31</td>\n",
       "      <td>2/17/2019</td>\n",
       "      <td>3</td>\n",
       "      <td>married</td>\n",
       "      <td>40423</td>\n",
       "    </tr>\n",
       "    <tr>\n",
       "      <th>2</th>\n",
       "      <td>2539329</td>\n",
       "      <td>1</td>\n",
       "      <td>1</td>\n",
       "      <td>2</td>\n",
       "      <td>8</td>\n",
       "      <td>NaN</td>\n",
       "      <td>12427</td>\n",
       "      <td>3</td>\n",
       "      <td>0</td>\n",
       "      <td>both</td>\n",
       "      <td>...</td>\n",
       "      <td>Average orders</td>\n",
       "      <td>10</td>\n",
       "      <td>New customer</td>\n",
       "      <td>Female</td>\n",
       "      <td>Alabama</td>\n",
       "      <td>31</td>\n",
       "      <td>2/17/2019</td>\n",
       "      <td>3</td>\n",
       "      <td>married</td>\n",
       "      <td>40423</td>\n",
       "    </tr>\n",
       "    <tr>\n",
       "      <th>3</th>\n",
       "      <td>2539329</td>\n",
       "      <td>1</td>\n",
       "      <td>1</td>\n",
       "      <td>2</td>\n",
       "      <td>8</td>\n",
       "      <td>NaN</td>\n",
       "      <td>26088</td>\n",
       "      <td>4</td>\n",
       "      <td>0</td>\n",
       "      <td>both</td>\n",
       "      <td>...</td>\n",
       "      <td>Average orders</td>\n",
       "      <td>10</td>\n",
       "      <td>New customer</td>\n",
       "      <td>Female</td>\n",
       "      <td>Alabama</td>\n",
       "      <td>31</td>\n",
       "      <td>2/17/2019</td>\n",
       "      <td>3</td>\n",
       "      <td>married</td>\n",
       "      <td>40423</td>\n",
       "    </tr>\n",
       "    <tr>\n",
       "      <th>4</th>\n",
       "      <td>2539329</td>\n",
       "      <td>1</td>\n",
       "      <td>1</td>\n",
       "      <td>2</td>\n",
       "      <td>8</td>\n",
       "      <td>NaN</td>\n",
       "      <td>26405</td>\n",
       "      <td>5</td>\n",
       "      <td>0</td>\n",
       "      <td>both</td>\n",
       "      <td>...</td>\n",
       "      <td>Average orders</td>\n",
       "      <td>10</td>\n",
       "      <td>New customer</td>\n",
       "      <td>Female</td>\n",
       "      <td>Alabama</td>\n",
       "      <td>31</td>\n",
       "      <td>2/17/2019</td>\n",
       "      <td>3</td>\n",
       "      <td>married</td>\n",
       "      <td>40423</td>\n",
       "    </tr>\n",
       "  </tbody>\n",
       "</table>\n",
       "<p>5 rows × 30 columns</p>\n",
       "</div>"
      ],
      "text/plain": [
       "   order_id  user_id  order_number  orders_day_of_week  order_hour_of_day  \\\n",
       "0   2539329        1             1                   2                  8   \n",
       "1   2539329        1             1                   2                  8   \n",
       "2   2539329        1             1                   2                  8   \n",
       "3   2539329        1             1                   2                  8   \n",
       "4   2539329        1             1                   2                  8   \n",
       "\n",
       "   days_since_prior_order  product_id  add_to_cart_order  reordered _merge  \\\n",
       "0                     NaN         196                  1          0   both   \n",
       "1                     NaN       14084                  2          0   both   \n",
       "2                     NaN       12427                  3          0   both   \n",
       "3                     NaN       26088                  4          0   both   \n",
       "4                     NaN       26405                  5          0   both   \n",
       "\n",
       "   ...  busiest_period_of_day  max_order  loyalty_flag  gender    state  age  \\\n",
       "0  ...         Average orders         10  New customer  Female  Alabama   31   \n",
       "1  ...         Average orders         10  New customer  Female  Alabama   31   \n",
       "2  ...         Average orders         10  New customer  Female  Alabama   31   \n",
       "3  ...         Average orders         10  New customer  Female  Alabama   31   \n",
       "4  ...         Average orders         10  New customer  Female  Alabama   31   \n",
       "\n",
       "  date_joined n_dependants fam_status income  \n",
       "0   2/17/2019            3    married  40423  \n",
       "1   2/17/2019            3    married  40423  \n",
       "2   2/17/2019            3    married  40423  \n",
       "3   2/17/2019            3    married  40423  \n",
       "4   2/17/2019            3    married  40423  \n",
       "\n",
       "[5 rows x 30 columns]"
      ]
     },
     "execution_count": 7,
     "metadata": {},
     "output_type": "execute_result"
    }
   ],
   "source": [
    "# Print head of new dataframe\n",
    "\n",
    "df_2.head()"
   ]
  },
  {
   "cell_type": "markdown",
   "id": "5a9e1198",
   "metadata": {},
   "source": [
    "# 3. Customer behavior in different regions"
   ]
  },
  {
   "cell_type": "markdown",
   "id": "72c570ff",
   "metadata": {},
   "source": [
    "The Instacart officers are interested in comparing customer behavior in different geographic areas. Create a regional segmentation of the data. You’ll need to create a “Region” column based on the “State” column from your customers data set."
   ]
  },
  {
   "cell_type": "code",
   "execution_count": 8,
   "id": "a9f677dd",
   "metadata": {},
   "outputs": [],
   "source": [
    "# Create lists for each region\n",
    "\n",
    "region1 = ['Maine', 'New Hampshire', 'Vermont', 'Massachusetts', 'Rhode Island', 'Connecticut', 'New York', 'Pennsylvania', 'New Jersey']\n",
    "region2 = ['Wisconsin', 'Michigan', 'Illinois', 'Indiana', 'Ohio', 'North Dakota', 'South Dakota', 'Nebraska', 'Kansas', 'Minnesota', 'Iowa', 'Missouri']\n",
    "region3 = ['Delaware','Maryland', 'District of Columbia', 'Virginia', 'West Virginia', 'North Carolina', 'South Carolina', 'Georgia', 'Florida', 'Kentucky', 'Tennessee', 'Mississippi', 'Alabama', 'Oklahoma', 'Texas', 'Arkansas', 'Louisiana']\n",
    "region4 = ['Idaho', 'Montana', 'Wyoming', 'Nevada', 'Utah', 'Colorado', 'Arizona', 'New Mexico', 'Alaska', 'Washington', 'Oregon', 'California', 'Hawaii']"
   ]
  },
  {
   "cell_type": "code",
   "execution_count": 9,
   "id": "c8b4d2cc",
   "metadata": {},
   "outputs": [],
   "source": [
    "#Create a for loop\n",
    "\n",
    "result = []\n",
    "\n",
    "for value in df_2['state']:\n",
    "  if value in region1:\n",
    "    result.append(\"Northeast\")\n",
    "  elif value in region2:\n",
    "    result.append(\"Midwest\")\n",
    "  elif value in region3:\n",
    "    result.append(\"South\")\n",
    "  elif value in region4:\n",
    "    result.append(\"West\")\n",
    "  else:\n",
    "    result.append(\"Unknown\")"
   ]
  },
  {
   "cell_type": "code",
   "execution_count": 10,
   "id": "4349cd5c",
   "metadata": {},
   "outputs": [
    {
     "data": {
      "text/plain": [
       "['South',\n",
       " 'South',\n",
       " 'South',\n",
       " 'South',\n",
       " 'South',\n",
       " 'South',\n",
       " 'South',\n",
       " 'South',\n",
       " 'South',\n",
       " 'South',\n",
       " 'South',\n",
       " 'South',\n",
       " 'South',\n",
       " 'South',\n",
       " 'South',\n",
       " 'South',\n",
       " 'South',\n",
       " 'South',\n",
       " 'South',\n",
       " 'South',\n",
       " 'South',\n",
       " 'South',\n",
       " 'South',\n",
       " 'South',\n",
       " 'South',\n",
       " 'South',\n",
       " 'South',\n",
       " 'South',\n",
       " 'South',\n",
       " 'South',\n",
       " 'South',\n",
       " 'South',\n",
       " 'South',\n",
       " 'South',\n",
       " 'South',\n",
       " 'South',\n",
       " 'South',\n",
       " 'South',\n",
       " 'South',\n",
       " 'South',\n",
       " 'South',\n",
       " 'South',\n",
       " 'South',\n",
       " 'South',\n",
       " 'South',\n",
       " 'South',\n",
       " 'South',\n",
       " 'South',\n",
       " 'South',\n",
       " 'South',\n",
       " 'South',\n",
       " 'South',\n",
       " 'South',\n",
       " 'South',\n",
       " 'South',\n",
       " 'South',\n",
       " 'South',\n",
       " 'South',\n",
       " 'South',\n",
       " 'West',\n",
       " 'West',\n",
       " 'West',\n",
       " 'West',\n",
       " 'West',\n",
       " 'West',\n",
       " 'West',\n",
       " 'West',\n",
       " 'West',\n",
       " 'West',\n",
       " 'West',\n",
       " 'West',\n",
       " 'West',\n",
       " 'West',\n",
       " 'West',\n",
       " 'West',\n",
       " 'West',\n",
       " 'West',\n",
       " 'West',\n",
       " 'West',\n",
       " 'West',\n",
       " 'West',\n",
       " 'West',\n",
       " 'West',\n",
       " 'West',\n",
       " 'West',\n",
       " 'West',\n",
       " 'West',\n",
       " 'West',\n",
       " 'West',\n",
       " 'West',\n",
       " 'West',\n",
       " 'West',\n",
       " 'West',\n",
       " 'West',\n",
       " 'West',\n",
       " 'West',\n",
       " 'West',\n",
       " 'West',\n",
       " 'West',\n",
       " 'West',\n",
       " 'West',\n",
       " 'West',\n",
       " 'West',\n",
       " 'West',\n",
       " 'West',\n",
       " 'West',\n",
       " 'West',\n",
       " 'West',\n",
       " 'West',\n",
       " 'West',\n",
       " 'West',\n",
       " 'West',\n",
       " 'West',\n",
       " 'West',\n",
       " 'West',\n",
       " 'West',\n",
       " 'West',\n",
       " 'West',\n",
       " 'West',\n",
       " 'West',\n",
       " 'West',\n",
       " 'West',\n",
       " 'West',\n",
       " 'West',\n",
       " 'West',\n",
       " 'West',\n",
       " 'West',\n",
       " 'West',\n",
       " 'West',\n",
       " 'West',\n",
       " 'West',\n",
       " 'West',\n",
       " 'West',\n",
       " 'West',\n",
       " 'West',\n",
       " 'West',\n",
       " 'West',\n",
       " 'West',\n",
       " 'West',\n",
       " 'West',\n",
       " 'West',\n",
       " 'West',\n",
       " 'West',\n",
       " 'West',\n",
       " 'West',\n",
       " 'West',\n",
       " 'West',\n",
       " 'West',\n",
       " 'West',\n",
       " 'West',\n",
       " 'West',\n",
       " 'West',\n",
       " 'West',\n",
       " 'West',\n",
       " 'West',\n",
       " 'West',\n",
       " 'West',\n",
       " 'West',\n",
       " 'West',\n",
       " 'West',\n",
       " 'West',\n",
       " 'West',\n",
       " 'West',\n",
       " 'West',\n",
       " 'West',\n",
       " 'West',\n",
       " 'West',\n",
       " 'West',\n",
       " 'West',\n",
       " 'West',\n",
       " 'West',\n",
       " 'West',\n",
       " 'West',\n",
       " 'West',\n",
       " 'West',\n",
       " 'West',\n",
       " 'West',\n",
       " 'West',\n",
       " 'West',\n",
       " 'West',\n",
       " 'West',\n",
       " 'West',\n",
       " 'West',\n",
       " 'West',\n",
       " 'West',\n",
       " 'West',\n",
       " 'West',\n",
       " 'West',\n",
       " 'West',\n",
       " 'West',\n",
       " 'West',\n",
       " 'West',\n",
       " 'West',\n",
       " 'West',\n",
       " 'West',\n",
       " 'West',\n",
       " 'West',\n",
       " 'West',\n",
       " 'West',\n",
       " 'West',\n",
       " 'West',\n",
       " 'West',\n",
       " 'West',\n",
       " 'West',\n",
       " 'West',\n",
       " 'West',\n",
       " 'West',\n",
       " 'West',\n",
       " 'West',\n",
       " 'West',\n",
       " 'West',\n",
       " 'West',\n",
       " 'West',\n",
       " 'West',\n",
       " 'West',\n",
       " 'West',\n",
       " 'West',\n",
       " 'West',\n",
       " 'West',\n",
       " 'West',\n",
       " 'West',\n",
       " 'West',\n",
       " 'West',\n",
       " 'West',\n",
       " 'West',\n",
       " 'West',\n",
       " 'West',\n",
       " 'West',\n",
       " 'West',\n",
       " 'West',\n",
       " 'West',\n",
       " 'West',\n",
       " 'West',\n",
       " 'West',\n",
       " 'West',\n",
       " 'West',\n",
       " 'West',\n",
       " 'West',\n",
       " 'West',\n",
       " 'West',\n",
       " 'West',\n",
       " 'West',\n",
       " 'West',\n",
       " 'West',\n",
       " 'West',\n",
       " 'West',\n",
       " 'West',\n",
       " 'West',\n",
       " 'West',\n",
       " 'West',\n",
       " 'West',\n",
       " 'West',\n",
       " 'West',\n",
       " 'West',\n",
       " 'West',\n",
       " 'West',\n",
       " 'West',\n",
       " 'West',\n",
       " 'West',\n",
       " 'West',\n",
       " 'West',\n",
       " 'West',\n",
       " 'West',\n",
       " 'West',\n",
       " 'West',\n",
       " 'West',\n",
       " 'West',\n",
       " 'West',\n",
       " 'West',\n",
       " 'West',\n",
       " 'West',\n",
       " 'West',\n",
       " 'West',\n",
       " 'West',\n",
       " 'West',\n",
       " 'West',\n",
       " 'West',\n",
       " 'West',\n",
       " 'West',\n",
       " 'West',\n",
       " 'West',\n",
       " 'West',\n",
       " 'West',\n",
       " 'West',\n",
       " 'West',\n",
       " 'West',\n",
       " 'West',\n",
       " 'West',\n",
       " 'West',\n",
       " 'West',\n",
       " 'West',\n",
       " 'West',\n",
       " 'West',\n",
       " 'West',\n",
       " 'West',\n",
       " 'West',\n",
       " 'West',\n",
       " 'West',\n",
       " 'West',\n",
       " 'West',\n",
       " 'West',\n",
       " 'West',\n",
       " 'West',\n",
       " 'West',\n",
       " 'West',\n",
       " 'West',\n",
       " 'West',\n",
       " 'West',\n",
       " 'West',\n",
       " 'West',\n",
       " 'West',\n",
       " 'West',\n",
       " 'West',\n",
       " 'West',\n",
       " 'West',\n",
       " 'West',\n",
       " 'West',\n",
       " 'West',\n",
       " 'West',\n",
       " 'West',\n",
       " 'West',\n",
       " 'West',\n",
       " 'West',\n",
       " 'West',\n",
       " 'West',\n",
       " 'West',\n",
       " 'West',\n",
       " 'West',\n",
       " 'West',\n",
       " 'West',\n",
       " 'West',\n",
       " 'West',\n",
       " 'West',\n",
       " 'West',\n",
       " 'West',\n",
       " 'West',\n",
       " 'West',\n",
       " 'West',\n",
       " 'West',\n",
       " 'West',\n",
       " 'West',\n",
       " 'West',\n",
       " 'South',\n",
       " 'South',\n",
       " 'South',\n",
       " 'South',\n",
       " 'South',\n",
       " 'South',\n",
       " 'South',\n",
       " 'South',\n",
       " 'South',\n",
       " 'South',\n",
       " 'South',\n",
       " 'South',\n",
       " 'South',\n",
       " 'South',\n",
       " 'South',\n",
       " 'South',\n",
       " 'South',\n",
       " 'South',\n",
       " 'West',\n",
       " 'West',\n",
       " 'West',\n",
       " 'West',\n",
       " 'West',\n",
       " 'West',\n",
       " 'West',\n",
       " 'West',\n",
       " 'West',\n",
       " 'West',\n",
       " 'West',\n",
       " 'West',\n",
       " 'West',\n",
       " 'West',\n",
       " 'West',\n",
       " 'West',\n",
       " 'West',\n",
       " 'West',\n",
       " 'West',\n",
       " 'West',\n",
       " 'West',\n",
       " 'West',\n",
       " 'West',\n",
       " 'West',\n",
       " 'West',\n",
       " 'West',\n",
       " 'West',\n",
       " 'West',\n",
       " 'West',\n",
       " 'West',\n",
       " 'West',\n",
       " 'West',\n",
       " 'West',\n",
       " 'West',\n",
       " 'West',\n",
       " 'West',\n",
       " 'West',\n",
       " 'West',\n",
       " 'West',\n",
       " 'West',\n",
       " 'West',\n",
       " 'West',\n",
       " 'West',\n",
       " 'West',\n",
       " 'West',\n",
       " 'West',\n",
       " 'West',\n",
       " 'West',\n",
       " 'West',\n",
       " 'West',\n",
       " 'West',\n",
       " 'Northeast',\n",
       " 'Northeast',\n",
       " 'Northeast',\n",
       " 'Northeast',\n",
       " 'Northeast',\n",
       " 'Northeast',\n",
       " 'Northeast',\n",
       " 'Northeast',\n",
       " 'Northeast',\n",
       " 'Northeast',\n",
       " 'Northeast',\n",
       " 'Northeast',\n",
       " 'Northeast',\n",
       " 'Northeast',\n",
       " 'Northeast',\n",
       " 'Northeast',\n",
       " 'Northeast',\n",
       " 'Northeast',\n",
       " 'Northeast',\n",
       " 'Northeast',\n",
       " 'Northeast',\n",
       " 'Northeast',\n",
       " 'Northeast',\n",
       " 'Northeast',\n",
       " 'Northeast',\n",
       " 'Northeast',\n",
       " 'Northeast',\n",
       " 'Northeast',\n",
       " 'Northeast',\n",
       " 'Northeast',\n",
       " 'Northeast',\n",
       " 'Northeast',\n",
       " 'Northeast',\n",
       " 'Northeast',\n",
       " 'Northeast',\n",
       " 'Northeast',\n",
       " 'Northeast',\n",
       " 'Northeast',\n",
       " 'Northeast',\n",
       " 'Northeast',\n",
       " 'Northeast',\n",
       " 'Northeast',\n",
       " 'Northeast',\n",
       " 'Northeast',\n",
       " 'Northeast',\n",
       " 'Northeast',\n",
       " 'Northeast',\n",
       " 'Northeast',\n",
       " 'Northeast',\n",
       " 'Northeast',\n",
       " 'Northeast',\n",
       " 'Northeast',\n",
       " 'Northeast',\n",
       " 'Northeast',\n",
       " 'Northeast',\n",
       " 'Northeast',\n",
       " 'Northeast',\n",
       " 'Northeast',\n",
       " 'Northeast',\n",
       " 'Northeast',\n",
       " 'Northeast',\n",
       " 'Northeast',\n",
       " 'Northeast',\n",
       " 'Northeast',\n",
       " 'Northeast',\n",
       " 'Northeast',\n",
       " 'Northeast',\n",
       " 'Northeast',\n",
       " 'Northeast',\n",
       " 'Northeast',\n",
       " 'Northeast',\n",
       " 'Northeast',\n",
       " 'Northeast',\n",
       " 'Northeast',\n",
       " 'Northeast',\n",
       " 'Northeast',\n",
       " 'Northeast',\n",
       " 'Northeast',\n",
       " 'Northeast',\n",
       " 'Northeast',\n",
       " 'Northeast',\n",
       " 'Northeast',\n",
       " 'Northeast',\n",
       " 'Northeast',\n",
       " 'Northeast',\n",
       " 'Northeast',\n",
       " 'Northeast',\n",
       " 'Northeast',\n",
       " 'Northeast',\n",
       " 'Northeast',\n",
       " 'Northeast',\n",
       " 'Northeast',\n",
       " 'Northeast',\n",
       " 'Northeast',\n",
       " 'Northeast',\n",
       " 'Northeast',\n",
       " 'Northeast',\n",
       " 'Northeast',\n",
       " 'Northeast',\n",
       " 'Northeast',\n",
       " 'Northeast',\n",
       " 'Northeast',\n",
       " 'Northeast',\n",
       " 'Northeast',\n",
       " 'Northeast',\n",
       " 'Northeast',\n",
       " 'Northeast',\n",
       " 'Northeast',\n",
       " 'Northeast',\n",
       " 'Northeast',\n",
       " 'Northeast',\n",
       " 'Northeast',\n",
       " 'Northeast',\n",
       " 'Northeast',\n",
       " 'Northeast',\n",
       " 'Northeast',\n",
       " 'Northeast',\n",
       " 'Northeast',\n",
       " 'Northeast',\n",
       " 'Northeast',\n",
       " 'Northeast',\n",
       " 'Northeast',\n",
       " 'Northeast',\n",
       " 'Northeast',\n",
       " 'Northeast',\n",
       " 'Northeast',\n",
       " 'Northeast',\n",
       " 'Northeast',\n",
       " 'Northeast',\n",
       " 'Northeast',\n",
       " 'Northeast',\n",
       " 'Northeast',\n",
       " 'Northeast',\n",
       " 'Northeast',\n",
       " 'Northeast',\n",
       " 'Northeast',\n",
       " 'Northeast',\n",
       " 'Northeast',\n",
       " 'Northeast',\n",
       " 'Northeast',\n",
       " 'Northeast',\n",
       " 'Northeast',\n",
       " 'Northeast',\n",
       " 'Northeast',\n",
       " 'Northeast',\n",
       " 'Northeast',\n",
       " 'Northeast',\n",
       " 'Northeast',\n",
       " 'Northeast',\n",
       " 'Northeast',\n",
       " 'Northeast',\n",
       " 'Northeast',\n",
       " 'Northeast',\n",
       " 'Northeast',\n",
       " 'Northeast',\n",
       " 'Northeast',\n",
       " 'Northeast',\n",
       " 'Northeast',\n",
       " 'Northeast',\n",
       " 'Northeast',\n",
       " 'Northeast',\n",
       " 'Northeast',\n",
       " 'Northeast',\n",
       " 'Northeast',\n",
       " 'Northeast',\n",
       " 'Northeast',\n",
       " 'Northeast',\n",
       " 'Northeast',\n",
       " 'Northeast',\n",
       " 'Northeast',\n",
       " 'Northeast',\n",
       " 'Northeast',\n",
       " 'Northeast',\n",
       " 'Northeast',\n",
       " 'Northeast',\n",
       " 'Northeast',\n",
       " 'Northeast',\n",
       " 'Northeast',\n",
       " 'Northeast',\n",
       " 'Northeast',\n",
       " 'Northeast',\n",
       " 'Northeast',\n",
       " 'Northeast',\n",
       " 'Northeast',\n",
       " 'Northeast',\n",
       " 'Northeast',\n",
       " 'Northeast',\n",
       " 'Northeast',\n",
       " 'Northeast',\n",
       " 'Northeast',\n",
       " 'Northeast',\n",
       " 'Northeast',\n",
       " 'Northeast',\n",
       " 'Northeast',\n",
       " 'Northeast',\n",
       " 'Northeast',\n",
       " 'Northeast',\n",
       " 'Northeast',\n",
       " 'Northeast',\n",
       " 'Northeast',\n",
       " 'Northeast',\n",
       " 'Northeast',\n",
       " 'Northeast',\n",
       " 'Northeast',\n",
       " 'Northeast',\n",
       " 'Northeast',\n",
       " 'South',\n",
       " 'South',\n",
       " 'South',\n",
       " 'South',\n",
       " 'South',\n",
       " 'South',\n",
       " 'South',\n",
       " 'South',\n",
       " 'South',\n",
       " 'South',\n",
       " 'South',\n",
       " 'South',\n",
       " 'South',\n",
       " 'South',\n",
       " 'South',\n",
       " 'South',\n",
       " 'South',\n",
       " 'South',\n",
       " 'South',\n",
       " 'South',\n",
       " 'South',\n",
       " 'South',\n",
       " 'South',\n",
       " 'South',\n",
       " 'South',\n",
       " 'South',\n",
       " 'South',\n",
       " 'South',\n",
       " 'South',\n",
       " 'South',\n",
       " 'South',\n",
       " 'South',\n",
       " 'South',\n",
       " 'South',\n",
       " 'South',\n",
       " 'South',\n",
       " 'South',\n",
       " 'South',\n",
       " 'South',\n",
       " 'South',\n",
       " 'South',\n",
       " 'South',\n",
       " 'South',\n",
       " 'South',\n",
       " 'South',\n",
       " 'South',\n",
       " 'South',\n",
       " 'South',\n",
       " 'South',\n",
       " 'South',\n",
       " 'South',\n",
       " 'South',\n",
       " 'South',\n",
       " 'South',\n",
       " 'South',\n",
       " 'South',\n",
       " 'South',\n",
       " 'South',\n",
       " 'South',\n",
       " 'South',\n",
       " 'South',\n",
       " 'South',\n",
       " 'South',\n",
       " 'South',\n",
       " 'South',\n",
       " 'South',\n",
       " 'South',\n",
       " 'South',\n",
       " 'South',\n",
       " 'South',\n",
       " 'South',\n",
       " 'South',\n",
       " 'South',\n",
       " 'South',\n",
       " 'South',\n",
       " 'South',\n",
       " 'South',\n",
       " 'South',\n",
       " 'South',\n",
       " 'South',\n",
       " 'South',\n",
       " 'South',\n",
       " 'South',\n",
       " 'South',\n",
       " 'South',\n",
       " 'South',\n",
       " 'South',\n",
       " 'South',\n",
       " 'South',\n",
       " 'South',\n",
       " 'South',\n",
       " 'South',\n",
       " 'South',\n",
       " 'South',\n",
       " 'South',\n",
       " 'South',\n",
       " 'South',\n",
       " 'South',\n",
       " 'South',\n",
       " 'South',\n",
       " 'South',\n",
       " 'South',\n",
       " 'South',\n",
       " 'South',\n",
       " 'South',\n",
       " 'South',\n",
       " 'South',\n",
       " 'South',\n",
       " 'South',\n",
       " 'South',\n",
       " 'South',\n",
       " 'South',\n",
       " 'South',\n",
       " 'South',\n",
       " 'South',\n",
       " 'South',\n",
       " 'South',\n",
       " 'South',\n",
       " 'South',\n",
       " 'South',\n",
       " 'South',\n",
       " 'South',\n",
       " 'South',\n",
       " 'South',\n",
       " 'South',\n",
       " 'South',\n",
       " 'South',\n",
       " 'South',\n",
       " 'South',\n",
       " 'South',\n",
       " 'South',\n",
       " 'South',\n",
       " 'South',\n",
       " 'South',\n",
       " 'South',\n",
       " 'South',\n",
       " 'South',\n",
       " 'South',\n",
       " 'South',\n",
       " 'South',\n",
       " 'South',\n",
       " 'South',\n",
       " 'South',\n",
       " 'South',\n",
       " 'South',\n",
       " 'South',\n",
       " 'South',\n",
       " 'South',\n",
       " 'South',\n",
       " 'South',\n",
       " 'South',\n",
       " 'South',\n",
       " 'South',\n",
       " 'South',\n",
       " 'South',\n",
       " 'South',\n",
       " 'South',\n",
       " 'South',\n",
       " 'South',\n",
       " 'South',\n",
       " 'South',\n",
       " 'South',\n",
       " 'South',\n",
       " 'South',\n",
       " 'South',\n",
       " 'South',\n",
       " 'South',\n",
       " 'South',\n",
       " 'South',\n",
       " 'South',\n",
       " 'South',\n",
       " 'South',\n",
       " 'South',\n",
       " 'South',\n",
       " 'South',\n",
       " 'South',\n",
       " 'South',\n",
       " 'South',\n",
       " 'South',\n",
       " 'South',\n",
       " 'South',\n",
       " 'South',\n",
       " 'South',\n",
       " 'South',\n",
       " 'South',\n",
       " 'South',\n",
       " 'South',\n",
       " 'South',\n",
       " 'South',\n",
       " 'South',\n",
       " 'South',\n",
       " 'South',\n",
       " 'South',\n",
       " 'South',\n",
       " 'South',\n",
       " 'South',\n",
       " 'South',\n",
       " 'South',\n",
       " 'South',\n",
       " 'South',\n",
       " 'South',\n",
       " 'South',\n",
       " 'South',\n",
       " 'South',\n",
       " 'South',\n",
       " 'South',\n",
       " 'South',\n",
       " 'South',\n",
       " 'South',\n",
       " 'South',\n",
       " 'South',\n",
       " 'South',\n",
       " 'South',\n",
       " 'South',\n",
       " 'South',\n",
       " 'South',\n",
       " 'South',\n",
       " 'South',\n",
       " 'South',\n",
       " 'South',\n",
       " 'South',\n",
       " 'South',\n",
       " 'South',\n",
       " 'South',\n",
       " 'South',\n",
       " 'South',\n",
       " 'South',\n",
       " 'South',\n",
       " 'South',\n",
       " 'South',\n",
       " 'South',\n",
       " 'South',\n",
       " 'South',\n",
       " 'South',\n",
       " 'South',\n",
       " 'South',\n",
       " 'South',\n",
       " 'South',\n",
       " 'South',\n",
       " 'South',\n",
       " 'South',\n",
       " 'South',\n",
       " 'South',\n",
       " 'South',\n",
       " 'South',\n",
       " 'South',\n",
       " 'South',\n",
       " 'South',\n",
       " 'South',\n",
       " 'South',\n",
       " 'South',\n",
       " 'South',\n",
       " 'South',\n",
       " 'South',\n",
       " 'South',\n",
       " 'South',\n",
       " 'South',\n",
       " 'South',\n",
       " 'South',\n",
       " 'South',\n",
       " 'South',\n",
       " 'South',\n",
       " 'South',\n",
       " 'South',\n",
       " 'South',\n",
       " 'South',\n",
       " 'South',\n",
       " 'South',\n",
       " 'South',\n",
       " 'South',\n",
       " 'South',\n",
       " 'South',\n",
       " 'South',\n",
       " 'South',\n",
       " 'South',\n",
       " 'South',\n",
       " 'South',\n",
       " 'South',\n",
       " 'South',\n",
       " 'South',\n",
       " 'South',\n",
       " 'South',\n",
       " 'South',\n",
       " 'South',\n",
       " 'South',\n",
       " 'South',\n",
       " 'South',\n",
       " 'South',\n",
       " 'South',\n",
       " 'South',\n",
       " 'South',\n",
       " 'South',\n",
       " 'South',\n",
       " 'South',\n",
       " 'South',\n",
       " 'South',\n",
       " 'South',\n",
       " 'South',\n",
       " 'South',\n",
       " 'South',\n",
       " 'South',\n",
       " 'South',\n",
       " 'South',\n",
       " 'South',\n",
       " 'South',\n",
       " 'South',\n",
       " 'South',\n",
       " 'South',\n",
       " 'South',\n",
       " 'South',\n",
       " 'South',\n",
       " 'South',\n",
       " 'South',\n",
       " 'South',\n",
       " 'South',\n",
       " 'South',\n",
       " 'South',\n",
       " 'South',\n",
       " 'South',\n",
       " 'South',\n",
       " 'South',\n",
       " 'South',\n",
       " 'South',\n",
       " 'South',\n",
       " 'South',\n",
       " 'South',\n",
       " 'South',\n",
       " 'South',\n",
       " 'South',\n",
       " 'South',\n",
       " 'South',\n",
       " 'South',\n",
       " 'South',\n",
       " 'South',\n",
       " 'South',\n",
       " 'South',\n",
       " 'South',\n",
       " 'South',\n",
       " 'South',\n",
       " 'South',\n",
       " 'South',\n",
       " 'South',\n",
       " 'South',\n",
       " 'South',\n",
       " 'South',\n",
       " 'South',\n",
       " 'South',\n",
       " 'South',\n",
       " 'South',\n",
       " 'South',\n",
       " 'South',\n",
       " 'South',\n",
       " 'South',\n",
       " 'South',\n",
       " 'South',\n",
       " 'South',\n",
       " 'South',\n",
       " 'South',\n",
       " 'South',\n",
       " 'South',\n",
       " 'South',\n",
       " 'South',\n",
       " 'West',\n",
       " 'West',\n",
       " 'West',\n",
       " 'West',\n",
       " 'West',\n",
       " 'West',\n",
       " 'West',\n",
       " 'West',\n",
       " 'West',\n",
       " 'West',\n",
       " 'West',\n",
       " 'West',\n",
       " 'West',\n",
       " 'West',\n",
       " 'West',\n",
       " 'West',\n",
       " 'West',\n",
       " 'West',\n",
       " 'West',\n",
       " 'West',\n",
       " 'West',\n",
       " ...]"
      ]
     },
     "execution_count": 10,
     "metadata": {},
     "output_type": "execute_result"
    }
   ],
   "source": [
    "# Check the output\n",
    "\n",
    "result"
   ]
  },
  {
   "cell_type": "code",
   "execution_count": 11,
   "id": "aaf55a32",
   "metadata": {},
   "outputs": [],
   "source": [
    "# Add a new column \"Region\" to the dataframe and add the \"result\"\n",
    "\n",
    "df_2['region'] = result"
   ]
  },
  {
   "cell_type": "code",
   "execution_count": 12,
   "id": "b3ae86ea",
   "metadata": {},
   "outputs": [
    {
     "data": {
      "text/plain": [
       "South        10801982\n",
       "West          8300617\n",
       "Midwest       7604016\n",
       "Northeast     5728444\n",
       "Name: region, dtype: int64"
      ]
     },
     "execution_count": 12,
     "metadata": {},
     "output_type": "execute_result"
    }
   ],
   "source": [
    "# Check the frequecy\n",
    "\n",
    "df_2['region'].value_counts(dropna = False)"
   ]
  },
  {
   "cell_type": "markdown",
   "id": "b42608d2",
   "metadata": {},
   "source": [
    "Determine whether there’s a difference in spending habits between the different U.S. regions. (Hint: You can do this by crossing the variable you just created with the spending flag.)"
   ]
  },
  {
   "cell_type": "code",
   "execution_count": 13,
   "id": "a282e320",
   "metadata": {},
   "outputs": [],
   "source": [
    "# Create a new column \"spending\" to dataframe\n",
    "# Split the data into groups based on the \"user_id\" and \"prices\" column\n",
    "# Apply the transform() function to generate the mean price for each user.\n",
    "\n",
    "df_2['spending'] = df_2.groupby(['user_id'])['prices'].transform(np.mean)"
   ]
  },
  {
   "cell_type": "code",
   "execution_count": 14,
   "id": "918ca43d",
   "metadata": {
    "scrolled": true
   },
   "outputs": [],
   "source": [
    "# Create spending flag depending on prices\n",
    "\n",
    "df_2.loc[df_2['prices'] < 10, 'spending_flag'] = 'Low spender'\n",
    "df_2.loc[df_2['prices'] >= 10, 'spending_flag'] = 'High spender'"
   ]
  },
  {
   "cell_type": "code",
   "execution_count": 15,
   "id": "776cad96",
   "metadata": {},
   "outputs": [
    {
     "data": {
      "text/plain": [
       "Low spender     21760937\n",
       "High spender    10643922\n",
       "NaN                30200\n",
       "Name: spending_flag, dtype: int64"
      ]
     },
     "execution_count": 15,
     "metadata": {},
     "output_type": "execute_result"
    }
   ],
   "source": [
    "# Check the frequency on new column \"Spending Flag\"\n",
    "\n",
    "df_2['spending_flag'].value_counts(dropna=False)"
   ]
  },
  {
   "cell_type": "code",
   "execution_count": 16,
   "id": "19295b57",
   "metadata": {},
   "outputs": [],
   "source": [
    "# Create a crosstab to determine any d§ifference in spending between the regions\n",
    "\n",
    "crosstab = pd.crosstab(df_2['spending_flag'], df_2['region'], dropna = False)"
   ]
  },
  {
   "cell_type": "code",
   "execution_count": 17,
   "id": "61704c7e",
   "metadata": {},
   "outputs": [],
   "source": [
    "# Copy the table for pasting in Excel.\n",
    "\n",
    "crosstab.to_clipboard()"
   ]
  },
  {
   "cell_type": "markdown",
   "id": "36e96771",
   "metadata": {},
   "source": [
    "**Answer: 33% of the total population in each region is high spenders and 67% are low spenders. Exactly the same amount for each region**"
   ]
  },
  {
   "cell_type": "markdown",
   "id": "de867489",
   "metadata": {},
   "source": [
    "# 4. Exclusion flag"
   ]
  },
  {
   "cell_type": "markdown",
   "id": "355d43b2",
   "metadata": {},
   "source": [
    "The Instacart CFO isn’t interested in customers who don’t generate much revenue for the app. Create an exclusion flag for low-activity customers (customers with less than 5 orders) and exclude them from the data. Make sure you export this sample."
   ]
  },
  {
   "cell_type": "code",
   "execution_count": 18,
   "id": "8ae2bd49",
   "metadata": {},
   "outputs": [
    {
     "data": {
      "text/html": [
       "<div>\n",
       "<style scoped>\n",
       "    .dataframe tbody tr th:only-of-type {\n",
       "        vertical-align: middle;\n",
       "    }\n",
       "\n",
       "    .dataframe tbody tr th {\n",
       "        vertical-align: top;\n",
       "    }\n",
       "\n",
       "    .dataframe thead th {\n",
       "        text-align: right;\n",
       "    }\n",
       "</style>\n",
       "<table border=\"1\" class=\"dataframe\">\n",
       "  <thead>\n",
       "    <tr style=\"text-align: right;\">\n",
       "      <th></th>\n",
       "      <th>order_id</th>\n",
       "      <th>user_id</th>\n",
       "      <th>order_number</th>\n",
       "      <th>orders_day_of_week</th>\n",
       "      <th>order_hour_of_day</th>\n",
       "      <th>days_since_prior_order</th>\n",
       "      <th>product_id</th>\n",
       "      <th>add_to_cart_order</th>\n",
       "      <th>reordered</th>\n",
       "      <th>_merge</th>\n",
       "      <th>Unnamed: 0_y</th>\n",
       "      <th>Unnamed: 0.1_y</th>\n",
       "      <th>product_name</th>\n",
       "      <th>aisle_id</th>\n",
       "      <th>department_id</th>\n",
       "      <th>prices</th>\n",
       "      <th>price_range_loc</th>\n",
       "      <th>busiest_day</th>\n",
       "      <th>busiest_days</th>\n",
       "      <th>Busiest days</th>\n",
       "      <th>busiest_period_of_day</th>\n",
       "      <th>max_order</th>\n",
       "      <th>loyalty_flag</th>\n",
       "      <th>gender</th>\n",
       "      <th>state</th>\n",
       "      <th>age</th>\n",
       "      <th>date_joined</th>\n",
       "      <th>n_dependants</th>\n",
       "      <th>fam_status</th>\n",
       "      <th>income</th>\n",
       "      <th>region</th>\n",
       "      <th>spending</th>\n",
       "      <th>spending_flag</th>\n",
       "    </tr>\n",
       "  </thead>\n",
       "  <tbody>\n",
       "    <tr>\n",
       "      <th>0</th>\n",
       "      <td>2539329</td>\n",
       "      <td>1</td>\n",
       "      <td>1</td>\n",
       "      <td>2</td>\n",
       "      <td>8</td>\n",
       "      <td>NaN</td>\n",
       "      <td>196</td>\n",
       "      <td>1</td>\n",
       "      <td>0</td>\n",
       "      <td>both</td>\n",
       "      <td>192.0</td>\n",
       "      <td>195.0</td>\n",
       "      <td>Soda</td>\n",
       "      <td>77.0</td>\n",
       "      <td>7.0</td>\n",
       "      <td>9.0</td>\n",
       "      <td>Mid range product</td>\n",
       "      <td>Regularly busy</td>\n",
       "      <td>Regular days</td>\n",
       "      <td>Regularly busy</td>\n",
       "      <td>Average orders</td>\n",
       "      <td>10</td>\n",
       "      <td>New customer</td>\n",
       "      <td>Female</td>\n",
       "      <td>Alabama</td>\n",
       "      <td>31</td>\n",
       "      <td>2/17/2019</td>\n",
       "      <td>3</td>\n",
       "      <td>married</td>\n",
       "      <td>40423</td>\n",
       "      <td>South</td>\n",
       "      <td>6.367797</td>\n",
       "      <td>Low spender</td>\n",
       "    </tr>\n",
       "    <tr>\n",
       "      <th>1</th>\n",
       "      <td>2539329</td>\n",
       "      <td>1</td>\n",
       "      <td>1</td>\n",
       "      <td>2</td>\n",
       "      <td>8</td>\n",
       "      <td>NaN</td>\n",
       "      <td>14084</td>\n",
       "      <td>2</td>\n",
       "      <td>0</td>\n",
       "      <td>both</td>\n",
       "      <td>14069.0</td>\n",
       "      <td>14084.0</td>\n",
       "      <td>Organic Unsweetened Vanilla Almond Milk</td>\n",
       "      <td>91.0</td>\n",
       "      <td>16.0</td>\n",
       "      <td>12.5</td>\n",
       "      <td>Mid range product</td>\n",
       "      <td>Regularly busy</td>\n",
       "      <td>Regular days</td>\n",
       "      <td>Regularly busy</td>\n",
       "      <td>Average orders</td>\n",
       "      <td>10</td>\n",
       "      <td>New customer</td>\n",
       "      <td>Female</td>\n",
       "      <td>Alabama</td>\n",
       "      <td>31</td>\n",
       "      <td>2/17/2019</td>\n",
       "      <td>3</td>\n",
       "      <td>married</td>\n",
       "      <td>40423</td>\n",
       "      <td>South</td>\n",
       "      <td>6.367797</td>\n",
       "      <td>High spender</td>\n",
       "    </tr>\n",
       "    <tr>\n",
       "      <th>2</th>\n",
       "      <td>2539329</td>\n",
       "      <td>1</td>\n",
       "      <td>1</td>\n",
       "      <td>2</td>\n",
       "      <td>8</td>\n",
       "      <td>NaN</td>\n",
       "      <td>12427</td>\n",
       "      <td>3</td>\n",
       "      <td>0</td>\n",
       "      <td>both</td>\n",
       "      <td>12412.0</td>\n",
       "      <td>12427.0</td>\n",
       "      <td>Original Beef Jerky</td>\n",
       "      <td>23.0</td>\n",
       "      <td>19.0</td>\n",
       "      <td>4.4</td>\n",
       "      <td>Low range product</td>\n",
       "      <td>Regularly busy</td>\n",
       "      <td>Regular days</td>\n",
       "      <td>Regularly busy</td>\n",
       "      <td>Average orders</td>\n",
       "      <td>10</td>\n",
       "      <td>New customer</td>\n",
       "      <td>Female</td>\n",
       "      <td>Alabama</td>\n",
       "      <td>31</td>\n",
       "      <td>2/17/2019</td>\n",
       "      <td>3</td>\n",
       "      <td>married</td>\n",
       "      <td>40423</td>\n",
       "      <td>South</td>\n",
       "      <td>6.367797</td>\n",
       "      <td>Low spender</td>\n",
       "    </tr>\n",
       "    <tr>\n",
       "      <th>3</th>\n",
       "      <td>2539329</td>\n",
       "      <td>1</td>\n",
       "      <td>1</td>\n",
       "      <td>2</td>\n",
       "      <td>8</td>\n",
       "      <td>NaN</td>\n",
       "      <td>26088</td>\n",
       "      <td>4</td>\n",
       "      <td>0</td>\n",
       "      <td>both</td>\n",
       "      <td>26073.0</td>\n",
       "      <td>26089.0</td>\n",
       "      <td>Aged White Cheddar Popcorn</td>\n",
       "      <td>23.0</td>\n",
       "      <td>19.0</td>\n",
       "      <td>4.7</td>\n",
       "      <td>Low range product</td>\n",
       "      <td>Regularly busy</td>\n",
       "      <td>Regular days</td>\n",
       "      <td>Regularly busy</td>\n",
       "      <td>Average orders</td>\n",
       "      <td>10</td>\n",
       "      <td>New customer</td>\n",
       "      <td>Female</td>\n",
       "      <td>Alabama</td>\n",
       "      <td>31</td>\n",
       "      <td>2/17/2019</td>\n",
       "      <td>3</td>\n",
       "      <td>married</td>\n",
       "      <td>40423</td>\n",
       "      <td>South</td>\n",
       "      <td>6.367797</td>\n",
       "      <td>Low spender</td>\n",
       "    </tr>\n",
       "    <tr>\n",
       "      <th>4</th>\n",
       "      <td>2539329</td>\n",
       "      <td>1</td>\n",
       "      <td>1</td>\n",
       "      <td>2</td>\n",
       "      <td>8</td>\n",
       "      <td>NaN</td>\n",
       "      <td>26405</td>\n",
       "      <td>5</td>\n",
       "      <td>0</td>\n",
       "      <td>both</td>\n",
       "      <td>26390.0</td>\n",
       "      <td>26406.0</td>\n",
       "      <td>XL Pick-A-Size Paper Towel Rolls</td>\n",
       "      <td>54.0</td>\n",
       "      <td>17.0</td>\n",
       "      <td>1.0</td>\n",
       "      <td>Low range product</td>\n",
       "      <td>Regularly busy</td>\n",
       "      <td>Regular days</td>\n",
       "      <td>Regularly busy</td>\n",
       "      <td>Average orders</td>\n",
       "      <td>10</td>\n",
       "      <td>New customer</td>\n",
       "      <td>Female</td>\n",
       "      <td>Alabama</td>\n",
       "      <td>31</td>\n",
       "      <td>2/17/2019</td>\n",
       "      <td>3</td>\n",
       "      <td>married</td>\n",
       "      <td>40423</td>\n",
       "      <td>South</td>\n",
       "      <td>6.367797</td>\n",
       "      <td>Low spender</td>\n",
       "    </tr>\n",
       "  </tbody>\n",
       "</table>\n",
       "</div>"
      ],
      "text/plain": [
       "   order_id  user_id  order_number  orders_day_of_week  order_hour_of_day  \\\n",
       "0   2539329        1             1                   2                  8   \n",
       "1   2539329        1             1                   2                  8   \n",
       "2   2539329        1             1                   2                  8   \n",
       "3   2539329        1             1                   2                  8   \n",
       "4   2539329        1             1                   2                  8   \n",
       "\n",
       "   days_since_prior_order  product_id  add_to_cart_order  reordered _merge  \\\n",
       "0                     NaN         196                  1          0   both   \n",
       "1                     NaN       14084                  2          0   both   \n",
       "2                     NaN       12427                  3          0   both   \n",
       "3                     NaN       26088                  4          0   both   \n",
       "4                     NaN       26405                  5          0   both   \n",
       "\n",
       "   Unnamed: 0_y  Unnamed: 0.1_y                             product_name  \\\n",
       "0         192.0           195.0                                     Soda   \n",
       "1       14069.0         14084.0  Organic Unsweetened Vanilla Almond Milk   \n",
       "2       12412.0         12427.0                      Original Beef Jerky   \n",
       "3       26073.0         26089.0               Aged White Cheddar Popcorn   \n",
       "4       26390.0         26406.0         XL Pick-A-Size Paper Towel Rolls   \n",
       "\n",
       "   aisle_id  department_id  prices    price_range_loc     busiest_day  \\\n",
       "0      77.0            7.0     9.0  Mid range product  Regularly busy   \n",
       "1      91.0           16.0    12.5  Mid range product  Regularly busy   \n",
       "2      23.0           19.0     4.4  Low range product  Regularly busy   \n",
       "3      23.0           19.0     4.7  Low range product  Regularly busy   \n",
       "4      54.0           17.0     1.0  Low range product  Regularly busy   \n",
       "\n",
       "   busiest_days    Busiest days busiest_period_of_day  max_order  \\\n",
       "0  Regular days  Regularly busy        Average orders         10   \n",
       "1  Regular days  Regularly busy        Average orders         10   \n",
       "2  Regular days  Regularly busy        Average orders         10   \n",
       "3  Regular days  Regularly busy        Average orders         10   \n",
       "4  Regular days  Regularly busy        Average orders         10   \n",
       "\n",
       "   loyalty_flag  gender    state  age date_joined  n_dependants fam_status  \\\n",
       "0  New customer  Female  Alabama   31   2/17/2019             3    married   \n",
       "1  New customer  Female  Alabama   31   2/17/2019             3    married   \n",
       "2  New customer  Female  Alabama   31   2/17/2019             3    married   \n",
       "3  New customer  Female  Alabama   31   2/17/2019             3    married   \n",
       "4  New customer  Female  Alabama   31   2/17/2019             3    married   \n",
       "\n",
       "   income region  spending spending_flag  \n",
       "0   40423  South  6.367797   Low spender  \n",
       "1   40423  South  6.367797  High spender  \n",
       "2   40423  South  6.367797   Low spender  \n",
       "3   40423  South  6.367797   Low spender  \n",
       "4   40423  South  6.367797   Low spender  "
      ]
     },
     "execution_count": 18,
     "metadata": {},
     "output_type": "execute_result"
    }
   ],
   "source": [
    "# Check which column to use for the exclusion flag.\n",
    "\n",
    "pd.set_option('display.max_columns', None)\n",
    "df_2.head()"
   ]
  },
  {
   "cell_type": "code",
   "execution_count": 19,
   "id": "493906ae",
   "metadata": {},
   "outputs": [],
   "source": [
    "# Create exclusion flag with loc function\n",
    "\n",
    "df_2.loc[df_2['max_order'] < 5, 'exclusion_flag'] = 'low-activity customer'"
   ]
  },
  {
   "cell_type": "code",
   "execution_count": 20,
   "id": "393d2908",
   "metadata": {},
   "outputs": [],
   "source": [
    "df_2.loc[df_2['max_order'] >= 5, 'exclusion_flag'] = 'ordinary customer'"
   ]
  },
  {
   "cell_type": "code",
   "execution_count": 21,
   "id": "dc4df401",
   "metadata": {},
   "outputs": [
    {
     "data": {
      "text/plain": [
       "ordinary customer        30993489\n",
       "low-activity customer     1441570\n",
       "Name: exclusion_flag, dtype: int64"
      ]
     },
     "execution_count": 21,
     "metadata": {},
     "output_type": "execute_result"
    }
   ],
   "source": [
    "# Check the frequency on exclusion_flag\n",
    "\n",
    "df_2['exclusion_flag'].value_counts(dropna=False)"
   ]
  },
  {
   "cell_type": "code",
   "execution_count": 22,
   "id": "46633ec7",
   "metadata": {},
   "outputs": [
    {
     "data": {
      "text/plain": [
       "(32435059, 34)"
      ]
     },
     "execution_count": 22,
     "metadata": {},
     "output_type": "execute_result"
    }
   ],
   "source": [
    "# Control if the numbers seams to be correct comparing to the whole dataframe\n",
    "\n",
    "df_2.shape"
   ]
  },
  {
   "cell_type": "code",
   "execution_count": 23,
   "id": "0c83cfdb",
   "metadata": {},
   "outputs": [],
   "source": [
    "# Create a subset with low-activity customers to exclude\n",
    "\n",
    "low_activity_customers = df_2[df_2['exclusion_flag'] == 'low-activity customer']"
   ]
  },
  {
   "cell_type": "code",
   "execution_count": 24,
   "id": "2f14f029",
   "metadata": {},
   "outputs": [
    {
     "data": {
      "text/plain": [
       "(1441570, 34)"
      ]
     },
     "execution_count": 24,
     "metadata": {},
     "output_type": "execute_result"
    }
   ],
   "source": [
    "# Check if the subset contains 1441570 rows\n",
    "\n",
    "low_activity_customers.shape"
   ]
  },
  {
   "cell_type": "code",
   "execution_count": 25,
   "id": "9ec0d3df",
   "metadata": {},
   "outputs": [],
   "source": [
    "# Export sample data\n",
    "\n",
    "low_activity_customers.to_pickle(os.path.join(path, '02 Data','Prepared Data', 'low_activity_customers.pkl'))"
   ]
  },
  {
   "cell_type": "code",
   "execution_count": 26,
   "id": "4e19f3f1",
   "metadata": {},
   "outputs": [],
   "source": [
    "# Exclude low-activity customers from dataframe\n",
    "\n",
    "df_3 = df_2[df_2['exclusion_flag'] == 'ordinary customer']"
   ]
  },
  {
   "cell_type": "code",
   "execution_count": 27,
   "id": "cf0d3616",
   "metadata": {},
   "outputs": [
    {
     "data": {
      "text/plain": [
       "ordinary customer    30993489\n",
       "Name: exclusion_flag, dtype: int64"
      ]
     },
     "execution_count": 27,
     "metadata": {},
     "output_type": "execute_result"
    }
   ],
   "source": [
    "# Check the output\n",
    "\n",
    "df_3['exclusion_flag'].value_counts() "
   ]
  },
  {
   "cell_type": "markdown",
   "id": "ef22aa17",
   "metadata": {},
   "source": [
    "# 5. Profiling variable"
   ]
  },
  {
   "cell_type": "markdown",
   "id": "b195800a",
   "metadata": {},
   "source": [
    "The marketing and business strategy units at Instacart want to create more-relevant marketing strategies for different products and are, thus, curious about customer profiling in their database. Create a profiling variable based on age, income, certain goods in the “department_id” column, and number of dependents. You might also use the “orders_day_of_the_week” and “order_hour_of_day” columns if you can think of a way they would impact customer profiles. (Hint: As an example, try thinking of what characteristics would lead you to the profile “Single adult” or “Young parent.”)"
   ]
  },
  {
   "cell_type": "markdown",
   "id": "8b14aedb",
   "metadata": {},
   "source": [
    "**5.1 Age**"
   ]
  },
  {
   "cell_type": "code",
   "execution_count": 28,
   "id": "7ec9fd23",
   "metadata": {},
   "outputs": [
    {
     "data": {
      "text/plain": [
       "18    478848\n",
       "19    496657\n",
       "20    480636\n",
       "21    489613\n",
       "22    491315\n",
       "       ...  \n",
       "77    478495\n",
       "78    471475\n",
       "79    508850\n",
       "80    493150\n",
       "81    486346\n",
       "Name: age, Length: 64, dtype: int64"
      ]
     },
     "execution_count": 28,
     "metadata": {},
     "output_type": "execute_result"
    }
   ],
   "source": [
    "# Check the frequency on age column\n",
    "\n",
    "df_3['age'].value_counts().sort_index()"
   ]
  },
  {
   "cell_type": "code",
   "execution_count": 29,
   "id": "addd76f5",
   "metadata": {},
   "outputs": [
    {
     "name": "stderr",
     "output_type": "stream",
     "text": [
      "/Users/marie/opt/anaconda3/lib/python3.8/site-packages/pandas/core/indexing.py:1599: SettingWithCopyWarning: \n",
      "A value is trying to be set on a copy of a slice from a DataFrame.\n",
      "Try using .loc[row_indexer,col_indexer] = value instead\n",
      "\n",
      "See the caveats in the documentation: https://pandas.pydata.org/pandas-docs/stable/user_guide/indexing.html#returning-a-view-versus-a-copy\n",
      "  self.obj[key] = infer_fill_value(value)\n",
      "/Users/marie/opt/anaconda3/lib/python3.8/site-packages/pandas/core/indexing.py:1720: SettingWithCopyWarning: \n",
      "A value is trying to be set on a copy of a slice from a DataFrame.\n",
      "Try using .loc[row_indexer,col_indexer] = value instead\n",
      "\n",
      "See the caveats in the documentation: https://pandas.pydata.org/pandas-docs/stable/user_guide/indexing.html#returning-a-view-versus-a-copy\n",
      "  self._setitem_single_column(loc, value, pi)\n"
     ]
    }
   ],
   "source": [
    "# Create age_group flag with loc\n",
    "\n",
    "df_3.loc[(df_3['age'] >=18) & (df_3['age'] <=29), 'age_group'] = 'young customer'"
   ]
  },
  {
   "cell_type": "code",
   "execution_count": 30,
   "id": "c3fa2088",
   "metadata": {},
   "outputs": [
    {
     "name": "stderr",
     "output_type": "stream",
     "text": [
      "/Users/marie/opt/anaconda3/lib/python3.8/site-packages/pandas/core/indexing.py:1720: SettingWithCopyWarning: \n",
      "A value is trying to be set on a copy of a slice from a DataFrame.\n",
      "Try using .loc[row_indexer,col_indexer] = value instead\n",
      "\n",
      "See the caveats in the documentation: https://pandas.pydata.org/pandas-docs/stable/user_guide/indexing.html#returning-a-view-versus-a-copy\n",
      "  self._setitem_single_column(loc, value, pi)\n"
     ]
    }
   ],
   "source": [
    "df_3.loc[(df_3['age'] >=30) & (df_3['age'] <=59), 'age_group'] = 'middle aged customer'"
   ]
  },
  {
   "cell_type": "code",
   "execution_count": 31,
   "id": "bd7c412a",
   "metadata": {},
   "outputs": [
    {
     "name": "stderr",
     "output_type": "stream",
     "text": [
      "/Users/marie/opt/anaconda3/lib/python3.8/site-packages/pandas/core/indexing.py:1720: SettingWithCopyWarning: \n",
      "A value is trying to be set on a copy of a slice from a DataFrame.\n",
      "Try using .loc[row_indexer,col_indexer] = value instead\n",
      "\n",
      "See the caveats in the documentation: https://pandas.pydata.org/pandas-docs/stable/user_guide/indexing.html#returning-a-view-versus-a-copy\n",
      "  self._setitem_single_column(loc, value, pi)\n"
     ]
    }
   ],
   "source": [
    "df_3.loc[df_3['age'] >60, 'age_group'] = 'older customer'"
   ]
  },
  {
   "cell_type": "code",
   "execution_count": 32,
   "id": "b7657e1b",
   "metadata": {},
   "outputs": [
    {
     "data": {
      "text/plain": [
       "middle aged customer    14586124\n",
       "older customer          10121834\n",
       "young customer           5823190\n",
       "Name: age_group, dtype: int64"
      ]
     },
     "execution_count": 32,
     "metadata": {},
     "output_type": "execute_result"
    }
   ],
   "source": [
    "# Check the output\n",
    "\n",
    "df_3['age_group'].value_counts() "
   ]
  },
  {
   "cell_type": "markdown",
   "id": "f14570b4",
   "metadata": {},
   "source": [
    "**5.2 Income**"
   ]
  },
  {
   "cell_type": "code",
   "execution_count": 33,
   "id": "8f06b538",
   "metadata": {},
   "outputs": [],
   "source": [
    "# Check max value in column income\n",
    "\n",
    "column = df_3['income']\n",
    "max_value = column.max()"
   ]
  },
  {
   "cell_type": "code",
   "execution_count": 34,
   "id": "d2b60c91",
   "metadata": {},
   "outputs": [
    {
     "name": "stdout",
     "output_type": "stream",
     "text": [
      "593901\n"
     ]
    }
   ],
   "source": [
    "# Check the output\n",
    "\n",
    "print(max_value)"
   ]
  },
  {
   "cell_type": "code",
   "execution_count": 35,
   "id": "607869bc",
   "metadata": {},
   "outputs": [
    {
     "name": "stderr",
     "output_type": "stream",
     "text": [
      "/Users/marie/opt/anaconda3/lib/python3.8/site-packages/pandas/core/indexing.py:1599: SettingWithCopyWarning: \n",
      "A value is trying to be set on a copy of a slice from a DataFrame.\n",
      "Try using .loc[row_indexer,col_indexer] = value instead\n",
      "\n",
      "See the caveats in the documentation: https://pandas.pydata.org/pandas-docs/stable/user_guide/indexing.html#returning-a-view-versus-a-copy\n",
      "  self.obj[key] = infer_fill_value(value)\n",
      "/Users/marie/opt/anaconda3/lib/python3.8/site-packages/pandas/core/indexing.py:1720: SettingWithCopyWarning: \n",
      "A value is trying to be set on a copy of a slice from a DataFrame.\n",
      "Try using .loc[row_indexer,col_indexer] = value instead\n",
      "\n",
      "See the caveats in the documentation: https://pandas.pydata.org/pandas-docs/stable/user_guide/indexing.html#returning-a-view-versus-a-copy\n",
      "  self._setitem_single_column(loc, value, pi)\n"
     ]
    }
   ],
   "source": [
    "# Create income_status flag with loc\n",
    "\n",
    "df_3.loc[(df_3['income'] >=0) & (df_3['income'] <=49900), 'income_status'] = 'low income'"
   ]
  },
  {
   "cell_type": "code",
   "execution_count": 36,
   "id": "064e6c06",
   "metadata": {},
   "outputs": [
    {
     "name": "stderr",
     "output_type": "stream",
     "text": [
      "/Users/marie/opt/anaconda3/lib/python3.8/site-packages/pandas/core/indexing.py:1720: SettingWithCopyWarning: \n",
      "A value is trying to be set on a copy of a slice from a DataFrame.\n",
      "Try using .loc[row_indexer,col_indexer] = value instead\n",
      "\n",
      "See the caveats in the documentation: https://pandas.pydata.org/pandas-docs/stable/user_guide/indexing.html#returning-a-view-versus-a-copy\n",
      "  self._setitem_single_column(loc, value, pi)\n"
     ]
    }
   ],
   "source": [
    "df_3.loc[(df_3['income'] >=50000) & (df_3['income'] <=99900), 'income_status'] = 'regular income'"
   ]
  },
  {
   "cell_type": "code",
   "execution_count": 37,
   "id": "15be278e",
   "metadata": {},
   "outputs": [
    {
     "name": "stderr",
     "output_type": "stream",
     "text": [
      "/Users/marie/opt/anaconda3/lib/python3.8/site-packages/pandas/core/indexing.py:1720: SettingWithCopyWarning: \n",
      "A value is trying to be set on a copy of a slice from a DataFrame.\n",
      "Try using .loc[row_indexer,col_indexer] = value instead\n",
      "\n",
      "See the caveats in the documentation: https://pandas.pydata.org/pandas-docs/stable/user_guide/indexing.html#returning-a-view-versus-a-copy\n",
      "  self._setitem_single_column(loc, value, pi)\n"
     ]
    }
   ],
   "source": [
    "df_3.loc[df_3['income'] >100000, 'income_status'] = 'high income'"
   ]
  },
  {
   "cell_type": "code",
   "execution_count": 38,
   "id": "269d2927",
   "metadata": {},
   "outputs": [
    {
     "data": {
      "text/plain": [
       "high income       14219446\n",
       "regular income    13362566\n",
       "low income         3354844\n",
       "Name: income_status, dtype: int64"
      ]
     },
     "execution_count": 38,
     "metadata": {},
     "output_type": "execute_result"
    }
   ],
   "source": [
    "# Check frequency in the income_staus flag\n",
    "\n",
    "df_3['income_status'].value_counts()"
   ]
  },
  {
   "cell_type": "markdown",
   "id": "b50fcdbb",
   "metadata": {},
   "source": [
    "**5.3 Dependants status**"
   ]
  },
  {
   "cell_type": "code",
   "execution_count": 39,
   "id": "fe322c2d",
   "metadata": {},
   "outputs": [
    {
     "data": {
      "text/plain": [
       "3    7779638\n",
       "0    7747183\n",
       "2    7740539\n",
       "1    7726129\n",
       "Name: n_dependants, dtype: int64"
      ]
     },
     "execution_count": 39,
     "metadata": {},
     "output_type": "execute_result"
    }
   ],
   "source": [
    "# Get the frequency of n_dependants in the dataframe\n",
    "\n",
    "df_3['n_dependants'].value_counts()"
   ]
  },
  {
   "cell_type": "code",
   "execution_count": 40,
   "id": "dc360c25",
   "metadata": {},
   "outputs": [
    {
     "name": "stderr",
     "output_type": "stream",
     "text": [
      "/Users/marie/opt/anaconda3/lib/python3.8/site-packages/pandas/core/indexing.py:1599: SettingWithCopyWarning: \n",
      "A value is trying to be set on a copy of a slice from a DataFrame.\n",
      "Try using .loc[row_indexer,col_indexer] = value instead\n",
      "\n",
      "See the caveats in the documentation: https://pandas.pydata.org/pandas-docs/stable/user_guide/indexing.html#returning-a-view-versus-a-copy\n",
      "  self.obj[key] = infer_fill_value(value)\n",
      "/Users/marie/opt/anaconda3/lib/python3.8/site-packages/pandas/core/indexing.py:1720: SettingWithCopyWarning: \n",
      "A value is trying to be set on a copy of a slice from a DataFrame.\n",
      "Try using .loc[row_indexer,col_indexer] = value instead\n",
      "\n",
      "See the caveats in the documentation: https://pandas.pydata.org/pandas-docs/stable/user_guide/indexing.html#returning-a-view-versus-a-copy\n",
      "  self._setitem_single_column(loc, value, pi)\n",
      "/Users/marie/opt/anaconda3/lib/python3.8/site-packages/pandas/core/indexing.py:1720: SettingWithCopyWarning: \n",
      "A value is trying to be set on a copy of a slice from a DataFrame.\n",
      "Try using .loc[row_indexer,col_indexer] = value instead\n",
      "\n",
      "See the caveats in the documentation: https://pandas.pydata.org/pandas-docs/stable/user_guide/indexing.html#returning-a-view-versus-a-copy\n",
      "  self._setitem_single_column(loc, value, pi)\n"
     ]
    }
   ],
   "source": [
    "# Create dependants flag with loc\n",
    "\n",
    "df_3.loc[df_3['n_dependants'] == 0, 'dependants_status'] = 'No dependants'\n",
    "df_3.loc[df_3['n_dependants'] >= 1, 'dependants_status'] = '>1 dependants'"
   ]
  },
  {
   "cell_type": "code",
   "execution_count": 41,
   "id": "aa00d24f",
   "metadata": {},
   "outputs": [
    {
     "data": {
      "text/plain": [
       ">1 dependants    23246306\n",
       "No dependants     7747183\n",
       "Name: dependants_status, dtype: int64"
      ]
     },
     "execution_count": 41,
     "metadata": {},
     "output_type": "execute_result"
    }
   ],
   "source": [
    "# Get the frequency of dependants status in the dataframe\n",
    "\n",
    "df_3['dependants_status'].value_counts()"
   ]
  },
  {
   "cell_type": "markdown",
   "id": "fefec507",
   "metadata": {},
   "source": [
    "**5.4 Departments**"
   ]
  },
  {
   "cell_type": "code",
   "execution_count": 42,
   "id": "bcca7df9",
   "metadata": {},
   "outputs": [],
   "source": [
    "# Import department file from Original data \n",
    "\n",
    "dep = pd.read_csv(os.path.join(path, '02 Data', 'Original Data', 'departments.csv'), index_col = False)"
   ]
  },
  {
   "cell_type": "code",
   "execution_count": 43,
   "id": "ea175d13",
   "metadata": {},
   "outputs": [
    {
     "data": {
      "text/html": [
       "<div>\n",
       "<style scoped>\n",
       "    .dataframe tbody tr th:only-of-type {\n",
       "        vertical-align: middle;\n",
       "    }\n",
       "\n",
       "    .dataframe tbody tr th {\n",
       "        vertical-align: top;\n",
       "    }\n",
       "\n",
       "    .dataframe thead th {\n",
       "        text-align: right;\n",
       "    }\n",
       "</style>\n",
       "<table border=\"1\" class=\"dataframe\">\n",
       "  <thead>\n",
       "    <tr style=\"text-align: right;\">\n",
       "      <th></th>\n",
       "      <th>department_id</th>\n",
       "      <th>1</th>\n",
       "      <th>2</th>\n",
       "      <th>3</th>\n",
       "      <th>4</th>\n",
       "      <th>5</th>\n",
       "      <th>6</th>\n",
       "      <th>7</th>\n",
       "      <th>8</th>\n",
       "      <th>9</th>\n",
       "      <th>10</th>\n",
       "      <th>11</th>\n",
       "      <th>12</th>\n",
       "      <th>13</th>\n",
       "      <th>14</th>\n",
       "      <th>15</th>\n",
       "      <th>16</th>\n",
       "      <th>17</th>\n",
       "      <th>18</th>\n",
       "      <th>19</th>\n",
       "      <th>20</th>\n",
       "      <th>21</th>\n",
       "    </tr>\n",
       "  </thead>\n",
       "  <tbody>\n",
       "    <tr>\n",
       "      <th>0</th>\n",
       "      <td>department</td>\n",
       "      <td>frozen</td>\n",
       "      <td>other</td>\n",
       "      <td>bakery</td>\n",
       "      <td>produce</td>\n",
       "      <td>alcohol</td>\n",
       "      <td>international</td>\n",
       "      <td>beverages</td>\n",
       "      <td>pets</td>\n",
       "      <td>dry goods pasta</td>\n",
       "      <td>bulk</td>\n",
       "      <td>personal care</td>\n",
       "      <td>meat seafood</td>\n",
       "      <td>pantry</td>\n",
       "      <td>breakfast</td>\n",
       "      <td>canned goods</td>\n",
       "      <td>dairy eggs</td>\n",
       "      <td>household</td>\n",
       "      <td>babies</td>\n",
       "      <td>snacks</td>\n",
       "      <td>deli</td>\n",
       "      <td>missing</td>\n",
       "    </tr>\n",
       "  </tbody>\n",
       "</table>\n",
       "</div>"
      ],
      "text/plain": [
       "  department_id       1      2       3        4        5              6  \\\n",
       "0    department  frozen  other  bakery  produce  alcohol  international   \n",
       "\n",
       "           7     8                9    10             11            12  \\\n",
       "0  beverages  pets  dry goods pasta  bulk  personal care  meat seafood   \n",
       "\n",
       "       13         14            15          16         17      18      19  \\\n",
       "0  pantry  breakfast  canned goods  dairy eggs  household  babies  snacks   \n",
       "\n",
       "     20       21  \n",
       "0  deli  missing  "
      ]
     },
     "execution_count": 43,
     "metadata": {},
     "output_type": "execute_result"
    }
   ],
   "source": [
    "dep.head()"
   ]
  },
  {
   "cell_type": "code",
   "execution_count": 44,
   "id": "4e418a35",
   "metadata": {},
   "outputs": [],
   "source": [
    "#Change columns to rows in dataframe departments permanently \n",
    "\n",
    "df_dep = dep.T"
   ]
  },
  {
   "cell_type": "code",
   "execution_count": 45,
   "id": "c913f04a",
   "metadata": {},
   "outputs": [
    {
     "data": {
      "text/html": [
       "<div>\n",
       "<style scoped>\n",
       "    .dataframe tbody tr th:only-of-type {\n",
       "        vertical-align: middle;\n",
       "    }\n",
       "\n",
       "    .dataframe tbody tr th {\n",
       "        vertical-align: top;\n",
       "    }\n",
       "\n",
       "    .dataframe thead th {\n",
       "        text-align: right;\n",
       "    }\n",
       "</style>\n",
       "<table border=\"1\" class=\"dataframe\">\n",
       "  <thead>\n",
       "    <tr style=\"text-align: right;\">\n",
       "      <th></th>\n",
       "      <th>0</th>\n",
       "    </tr>\n",
       "  </thead>\n",
       "  <tbody>\n",
       "    <tr>\n",
       "      <th>department_id</th>\n",
       "      <td>department</td>\n",
       "    </tr>\n",
       "    <tr>\n",
       "      <th>1</th>\n",
       "      <td>frozen</td>\n",
       "    </tr>\n",
       "    <tr>\n",
       "      <th>2</th>\n",
       "      <td>other</td>\n",
       "    </tr>\n",
       "    <tr>\n",
       "      <th>3</th>\n",
       "      <td>bakery</td>\n",
       "    </tr>\n",
       "    <tr>\n",
       "      <th>4</th>\n",
       "      <td>produce</td>\n",
       "    </tr>\n",
       "    <tr>\n",
       "      <th>5</th>\n",
       "      <td>alcohol</td>\n",
       "    </tr>\n",
       "    <tr>\n",
       "      <th>6</th>\n",
       "      <td>international</td>\n",
       "    </tr>\n",
       "    <tr>\n",
       "      <th>7</th>\n",
       "      <td>beverages</td>\n",
       "    </tr>\n",
       "    <tr>\n",
       "      <th>8</th>\n",
       "      <td>pets</td>\n",
       "    </tr>\n",
       "    <tr>\n",
       "      <th>9</th>\n",
       "      <td>dry goods pasta</td>\n",
       "    </tr>\n",
       "    <tr>\n",
       "      <th>10</th>\n",
       "      <td>bulk</td>\n",
       "    </tr>\n",
       "    <tr>\n",
       "      <th>11</th>\n",
       "      <td>personal care</td>\n",
       "    </tr>\n",
       "    <tr>\n",
       "      <th>12</th>\n",
       "      <td>meat seafood</td>\n",
       "    </tr>\n",
       "    <tr>\n",
       "      <th>13</th>\n",
       "      <td>pantry</td>\n",
       "    </tr>\n",
       "    <tr>\n",
       "      <th>14</th>\n",
       "      <td>breakfast</td>\n",
       "    </tr>\n",
       "    <tr>\n",
       "      <th>15</th>\n",
       "      <td>canned goods</td>\n",
       "    </tr>\n",
       "    <tr>\n",
       "      <th>16</th>\n",
       "      <td>dairy eggs</td>\n",
       "    </tr>\n",
       "    <tr>\n",
       "      <th>17</th>\n",
       "      <td>household</td>\n",
       "    </tr>\n",
       "    <tr>\n",
       "      <th>18</th>\n",
       "      <td>babies</td>\n",
       "    </tr>\n",
       "    <tr>\n",
       "      <th>19</th>\n",
       "      <td>snacks</td>\n",
       "    </tr>\n",
       "    <tr>\n",
       "      <th>20</th>\n",
       "      <td>deli</td>\n",
       "    </tr>\n",
       "    <tr>\n",
       "      <th>21</th>\n",
       "      <td>missing</td>\n",
       "    </tr>\n",
       "  </tbody>\n",
       "</table>\n",
       "</div>"
      ],
      "text/plain": [
       "                             0\n",
       "department_id       department\n",
       "1                       frozen\n",
       "2                        other\n",
       "3                       bakery\n",
       "4                      produce\n",
       "5                      alcohol\n",
       "6                international\n",
       "7                    beverages\n",
       "8                         pets\n",
       "9              dry goods pasta\n",
       "10                        bulk\n",
       "11               personal care\n",
       "12                meat seafood\n",
       "13                      pantry\n",
       "14                   breakfast\n",
       "15                canned goods\n",
       "16                  dairy eggs\n",
       "17                   household\n",
       "18                      babies\n",
       "19                      snacks\n",
       "20                        deli\n",
       "21                     missing"
      ]
     },
     "execution_count": 45,
     "metadata": {},
     "output_type": "execute_result"
    }
   ],
   "source": [
    "# Check the output\n",
    "\n",
    "df_dep"
   ]
  },
  {
   "cell_type": "code",
   "execution_count": 46,
   "id": "19a89d00",
   "metadata": {},
   "outputs": [
    {
     "data": {
      "text/html": [
       "<div>\n",
       "<style scoped>\n",
       "    .dataframe tbody tr th:only-of-type {\n",
       "        vertical-align: middle;\n",
       "    }\n",
       "\n",
       "    .dataframe tbody tr th {\n",
       "        vertical-align: top;\n",
       "    }\n",
       "\n",
       "    .dataframe thead th {\n",
       "        text-align: right;\n",
       "    }\n",
       "</style>\n",
       "<table border=\"1\" class=\"dataframe\">\n",
       "  <thead>\n",
       "    <tr style=\"text-align: right;\">\n",
       "      <th></th>\n",
       "      <th>index</th>\n",
       "      <th>0</th>\n",
       "    </tr>\n",
       "  </thead>\n",
       "  <tbody>\n",
       "    <tr>\n",
       "      <th>0</th>\n",
       "      <td>department_id</td>\n",
       "      <td>department</td>\n",
       "    </tr>\n",
       "    <tr>\n",
       "      <th>1</th>\n",
       "      <td>1</td>\n",
       "      <td>frozen</td>\n",
       "    </tr>\n",
       "    <tr>\n",
       "      <th>2</th>\n",
       "      <td>2</td>\n",
       "      <td>other</td>\n",
       "    </tr>\n",
       "    <tr>\n",
       "      <th>3</th>\n",
       "      <td>3</td>\n",
       "      <td>bakery</td>\n",
       "    </tr>\n",
       "    <tr>\n",
       "      <th>4</th>\n",
       "      <td>4</td>\n",
       "      <td>produce</td>\n",
       "    </tr>\n",
       "    <tr>\n",
       "      <th>5</th>\n",
       "      <td>5</td>\n",
       "      <td>alcohol</td>\n",
       "    </tr>\n",
       "    <tr>\n",
       "      <th>6</th>\n",
       "      <td>6</td>\n",
       "      <td>international</td>\n",
       "    </tr>\n",
       "    <tr>\n",
       "      <th>7</th>\n",
       "      <td>7</td>\n",
       "      <td>beverages</td>\n",
       "    </tr>\n",
       "    <tr>\n",
       "      <th>8</th>\n",
       "      <td>8</td>\n",
       "      <td>pets</td>\n",
       "    </tr>\n",
       "    <tr>\n",
       "      <th>9</th>\n",
       "      <td>9</td>\n",
       "      <td>dry goods pasta</td>\n",
       "    </tr>\n",
       "    <tr>\n",
       "      <th>10</th>\n",
       "      <td>10</td>\n",
       "      <td>bulk</td>\n",
       "    </tr>\n",
       "    <tr>\n",
       "      <th>11</th>\n",
       "      <td>11</td>\n",
       "      <td>personal care</td>\n",
       "    </tr>\n",
       "    <tr>\n",
       "      <th>12</th>\n",
       "      <td>12</td>\n",
       "      <td>meat seafood</td>\n",
       "    </tr>\n",
       "    <tr>\n",
       "      <th>13</th>\n",
       "      <td>13</td>\n",
       "      <td>pantry</td>\n",
       "    </tr>\n",
       "    <tr>\n",
       "      <th>14</th>\n",
       "      <td>14</td>\n",
       "      <td>breakfast</td>\n",
       "    </tr>\n",
       "    <tr>\n",
       "      <th>15</th>\n",
       "      <td>15</td>\n",
       "      <td>canned goods</td>\n",
       "    </tr>\n",
       "    <tr>\n",
       "      <th>16</th>\n",
       "      <td>16</td>\n",
       "      <td>dairy eggs</td>\n",
       "    </tr>\n",
       "    <tr>\n",
       "      <th>17</th>\n",
       "      <td>17</td>\n",
       "      <td>household</td>\n",
       "    </tr>\n",
       "    <tr>\n",
       "      <th>18</th>\n",
       "      <td>18</td>\n",
       "      <td>babies</td>\n",
       "    </tr>\n",
       "    <tr>\n",
       "      <th>19</th>\n",
       "      <td>19</td>\n",
       "      <td>snacks</td>\n",
       "    </tr>\n",
       "    <tr>\n",
       "      <th>20</th>\n",
       "      <td>20</td>\n",
       "      <td>deli</td>\n",
       "    </tr>\n",
       "    <tr>\n",
       "      <th>21</th>\n",
       "      <td>21</td>\n",
       "      <td>missing</td>\n",
       "    </tr>\n",
       "  </tbody>\n",
       "</table>\n",
       "</div>"
      ],
      "text/plain": [
       "            index                0\n",
       "0   department_id       department\n",
       "1               1           frozen\n",
       "2               2            other\n",
       "3               3           bakery\n",
       "4               4          produce\n",
       "5               5          alcohol\n",
       "6               6    international\n",
       "7               7        beverages\n",
       "8               8             pets\n",
       "9               9  dry goods pasta\n",
       "10             10             bulk\n",
       "11             11    personal care\n",
       "12             12     meat seafood\n",
       "13             13           pantry\n",
       "14             14        breakfast\n",
       "15             15     canned goods\n",
       "16             16       dairy eggs\n",
       "17             17        household\n",
       "18             18           babies\n",
       "19             19           snacks\n",
       "20             20             deli\n",
       "21             21          missing"
      ]
     },
     "execution_count": 46,
     "metadata": {},
     "output_type": "execute_result"
    }
   ],
   "source": [
    "#Adding index\n",
    "\n",
    "df_dep.reset_index()"
   ]
  },
  {
   "cell_type": "code",
   "execution_count": 47,
   "id": "f0c4481a",
   "metadata": {},
   "outputs": [],
   "source": [
    "#Create a header, (the first row of df_dep)\n",
    "\n",
    "new_header = df_dep.iloc[0]"
   ]
  },
  {
   "cell_type": "code",
   "execution_count": 48,
   "id": "253a7e21",
   "metadata": {},
   "outputs": [],
   "source": [
    "#Copying df_dep without first row (0) to a new dataframe df_dep_new\n",
    "\n",
    "df_dep_new = df_dep[1:]"
   ]
  },
  {
   "cell_type": "code",
   "execution_count": 49,
   "id": "7fe2bb1f",
   "metadata": {},
   "outputs": [],
   "source": [
    "# Set the header row as the df_dep_new header\n",
    "\n",
    "df_dep_new.columns = new_header"
   ]
  },
  {
   "cell_type": "code",
   "execution_count": 50,
   "id": "a6602497",
   "metadata": {},
   "outputs": [
    {
     "data": {
      "text/html": [
       "<div>\n",
       "<style scoped>\n",
       "    .dataframe tbody tr th:only-of-type {\n",
       "        vertical-align: middle;\n",
       "    }\n",
       "\n",
       "    .dataframe tbody tr th {\n",
       "        vertical-align: top;\n",
       "    }\n",
       "\n",
       "    .dataframe thead th {\n",
       "        text-align: right;\n",
       "    }\n",
       "</style>\n",
       "<table border=\"1\" class=\"dataframe\">\n",
       "  <thead>\n",
       "    <tr style=\"text-align: right;\">\n",
       "      <th>department_id</th>\n",
       "      <th>department</th>\n",
       "    </tr>\n",
       "  </thead>\n",
       "  <tbody>\n",
       "    <tr>\n",
       "      <th>1</th>\n",
       "      <td>frozen</td>\n",
       "    </tr>\n",
       "    <tr>\n",
       "      <th>2</th>\n",
       "      <td>other</td>\n",
       "    </tr>\n",
       "    <tr>\n",
       "      <th>3</th>\n",
       "      <td>bakery</td>\n",
       "    </tr>\n",
       "    <tr>\n",
       "      <th>4</th>\n",
       "      <td>produce</td>\n",
       "    </tr>\n",
       "    <tr>\n",
       "      <th>5</th>\n",
       "      <td>alcohol</td>\n",
       "    </tr>\n",
       "    <tr>\n",
       "      <th>6</th>\n",
       "      <td>international</td>\n",
       "    </tr>\n",
       "    <tr>\n",
       "      <th>7</th>\n",
       "      <td>beverages</td>\n",
       "    </tr>\n",
       "    <tr>\n",
       "      <th>8</th>\n",
       "      <td>pets</td>\n",
       "    </tr>\n",
       "    <tr>\n",
       "      <th>9</th>\n",
       "      <td>dry goods pasta</td>\n",
       "    </tr>\n",
       "    <tr>\n",
       "      <th>10</th>\n",
       "      <td>bulk</td>\n",
       "    </tr>\n",
       "    <tr>\n",
       "      <th>11</th>\n",
       "      <td>personal care</td>\n",
       "    </tr>\n",
       "    <tr>\n",
       "      <th>12</th>\n",
       "      <td>meat seafood</td>\n",
       "    </tr>\n",
       "    <tr>\n",
       "      <th>13</th>\n",
       "      <td>pantry</td>\n",
       "    </tr>\n",
       "    <tr>\n",
       "      <th>14</th>\n",
       "      <td>breakfast</td>\n",
       "    </tr>\n",
       "    <tr>\n",
       "      <th>15</th>\n",
       "      <td>canned goods</td>\n",
       "    </tr>\n",
       "    <tr>\n",
       "      <th>16</th>\n",
       "      <td>dairy eggs</td>\n",
       "    </tr>\n",
       "    <tr>\n",
       "      <th>17</th>\n",
       "      <td>household</td>\n",
       "    </tr>\n",
       "    <tr>\n",
       "      <th>18</th>\n",
       "      <td>babies</td>\n",
       "    </tr>\n",
       "    <tr>\n",
       "      <th>19</th>\n",
       "      <td>snacks</td>\n",
       "    </tr>\n",
       "    <tr>\n",
       "      <th>20</th>\n",
       "      <td>deli</td>\n",
       "    </tr>\n",
       "    <tr>\n",
       "      <th>21</th>\n",
       "      <td>missing</td>\n",
       "    </tr>\n",
       "  </tbody>\n",
       "</table>\n",
       "</div>"
      ],
      "text/plain": [
       "department_id       department\n",
       "1                       frozen\n",
       "2                        other\n",
       "3                       bakery\n",
       "4                      produce\n",
       "5                      alcohol\n",
       "6                international\n",
       "7                    beverages\n",
       "8                         pets\n",
       "9              dry goods pasta\n",
       "10                        bulk\n",
       "11               personal care\n",
       "12                meat seafood\n",
       "13                      pantry\n",
       "14                   breakfast\n",
       "15                canned goods\n",
       "16                  dairy eggs\n",
       "17                   household\n",
       "18                      babies\n",
       "19                      snacks\n",
       "20                        deli\n",
       "21                     missing"
      ]
     },
     "execution_count": 50,
     "metadata": {},
     "output_type": "execute_result"
    }
   ],
   "source": [
    "# Check the output\n",
    "\n",
    "df_dep_new"
   ]
  },
  {
   "cell_type": "code",
   "execution_count": 51,
   "id": "0c4f9e0f",
   "metadata": {},
   "outputs": [
    {
     "name": "stderr",
     "output_type": "stream",
     "text": [
      "/Users/marie/opt/anaconda3/lib/python3.8/site-packages/pandas/core/indexing.py:1599: SettingWithCopyWarning: \n",
      "A value is trying to be set on a copy of a slice from a DataFrame.\n",
      "Try using .loc[row_indexer,col_indexer] = value instead\n",
      "\n",
      "See the caveats in the documentation: https://pandas.pydata.org/pandas-docs/stable/user_guide/indexing.html#returning-a-view-versus-a-copy\n",
      "  self.obj[key] = infer_fill_value(value)\n",
      "/Users/marie/opt/anaconda3/lib/python3.8/site-packages/pandas/core/indexing.py:1720: SettingWithCopyWarning: \n",
      "A value is trying to be set on a copy of a slice from a DataFrame.\n",
      "Try using .loc[row_indexer,col_indexer] = value instead\n",
      "\n",
      "See the caveats in the documentation: https://pandas.pydata.org/pandas-docs/stable/user_guide/indexing.html#returning-a-view-versus-a-copy\n",
      "  self._setitem_single_column(loc, value, pi)\n",
      "/Users/marie/opt/anaconda3/lib/python3.8/site-packages/pandas/core/indexing.py:1720: SettingWithCopyWarning: \n",
      "A value is trying to be set on a copy of a slice from a DataFrame.\n",
      "Try using .loc[row_indexer,col_indexer] = value instead\n",
      "\n",
      "See the caveats in the documentation: https://pandas.pydata.org/pandas-docs/stable/user_guide/indexing.html#returning-a-view-versus-a-copy\n",
      "  self._setitem_single_column(loc, value, pi)\n",
      "/Users/marie/opt/anaconda3/lib/python3.8/site-packages/pandas/core/indexing.py:1720: SettingWithCopyWarning: \n",
      "A value is trying to be set on a copy of a slice from a DataFrame.\n",
      "Try using .loc[row_indexer,col_indexer] = value instead\n",
      "\n",
      "See the caveats in the documentation: https://pandas.pydata.org/pandas-docs/stable/user_guide/indexing.html#returning-a-view-versus-a-copy\n",
      "  self._setitem_single_column(loc, value, pi)\n",
      "/Users/marie/opt/anaconda3/lib/python3.8/site-packages/pandas/core/indexing.py:1720: SettingWithCopyWarning: \n",
      "A value is trying to be set on a copy of a slice from a DataFrame.\n",
      "Try using .loc[row_indexer,col_indexer] = value instead\n",
      "\n",
      "See the caveats in the documentation: https://pandas.pydata.org/pandas-docs/stable/user_guide/indexing.html#returning-a-view-versus-a-copy\n",
      "  self._setitem_single_column(loc, value, pi)\n",
      "/Users/marie/opt/anaconda3/lib/python3.8/site-packages/pandas/core/indexing.py:1720: SettingWithCopyWarning: \n",
      "A value is trying to be set on a copy of a slice from a DataFrame.\n",
      "Try using .loc[row_indexer,col_indexer] = value instead\n",
      "\n",
      "See the caveats in the documentation: https://pandas.pydata.org/pandas-docs/stable/user_guide/indexing.html#returning-a-view-versus-a-copy\n",
      "  self._setitem_single_column(loc, value, pi)\n",
      "/Users/marie/opt/anaconda3/lib/python3.8/site-packages/pandas/core/indexing.py:1720: SettingWithCopyWarning: \n",
      "A value is trying to be set on a copy of a slice from a DataFrame.\n",
      "Try using .loc[row_indexer,col_indexer] = value instead\n",
      "\n",
      "See the caveats in the documentation: https://pandas.pydata.org/pandas-docs/stable/user_guide/indexing.html#returning-a-view-versus-a-copy\n",
      "  self._setitem_single_column(loc, value, pi)\n",
      "/Users/marie/opt/anaconda3/lib/python3.8/site-packages/pandas/core/indexing.py:1720: SettingWithCopyWarning: \n",
      "A value is trying to be set on a copy of a slice from a DataFrame.\n",
      "Try using .loc[row_indexer,col_indexer] = value instead\n",
      "\n",
      "See the caveats in the documentation: https://pandas.pydata.org/pandas-docs/stable/user_guide/indexing.html#returning-a-view-versus-a-copy\n",
      "  self._setitem_single_column(loc, value, pi)\n",
      "/Users/marie/opt/anaconda3/lib/python3.8/site-packages/pandas/core/indexing.py:1720: SettingWithCopyWarning: \n",
      "A value is trying to be set on a copy of a slice from a DataFrame.\n",
      "Try using .loc[row_indexer,col_indexer] = value instead\n",
      "\n",
      "See the caveats in the documentation: https://pandas.pydata.org/pandas-docs/stable/user_guide/indexing.html#returning-a-view-versus-a-copy\n",
      "  self._setitem_single_column(loc, value, pi)\n",
      "/Users/marie/opt/anaconda3/lib/python3.8/site-packages/pandas/core/indexing.py:1720: SettingWithCopyWarning: \n",
      "A value is trying to be set on a copy of a slice from a DataFrame.\n",
      "Try using .loc[row_indexer,col_indexer] = value instead\n",
      "\n",
      "See the caveats in the documentation: https://pandas.pydata.org/pandas-docs/stable/user_guide/indexing.html#returning-a-view-versus-a-copy\n",
      "  self._setitem_single_column(loc, value, pi)\n",
      "/Users/marie/opt/anaconda3/lib/python3.8/site-packages/pandas/core/indexing.py:1720: SettingWithCopyWarning: \n",
      "A value is trying to be set on a copy of a slice from a DataFrame.\n",
      "Try using .loc[row_indexer,col_indexer] = value instead\n",
      "\n",
      "See the caveats in the documentation: https://pandas.pydata.org/pandas-docs/stable/user_guide/indexing.html#returning-a-view-versus-a-copy\n",
      "  self._setitem_single_column(loc, value, pi)\n",
      "/Users/marie/opt/anaconda3/lib/python3.8/site-packages/pandas/core/indexing.py:1720: SettingWithCopyWarning: \n",
      "A value is trying to be set on a copy of a slice from a DataFrame.\n",
      "Try using .loc[row_indexer,col_indexer] = value instead\n",
      "\n",
      "See the caveats in the documentation: https://pandas.pydata.org/pandas-docs/stable/user_guide/indexing.html#returning-a-view-versus-a-copy\n",
      "  self._setitem_single_column(loc, value, pi)\n",
      "/Users/marie/opt/anaconda3/lib/python3.8/site-packages/pandas/core/indexing.py:1720: SettingWithCopyWarning: \n",
      "A value is trying to be set on a copy of a slice from a DataFrame.\n",
      "Try using .loc[row_indexer,col_indexer] = value instead\n",
      "\n",
      "See the caveats in the documentation: https://pandas.pydata.org/pandas-docs/stable/user_guide/indexing.html#returning-a-view-versus-a-copy\n",
      "  self._setitem_single_column(loc, value, pi)\n",
      "/Users/marie/opt/anaconda3/lib/python3.8/site-packages/pandas/core/indexing.py:1720: SettingWithCopyWarning: \n",
      "A value is trying to be set on a copy of a slice from a DataFrame.\n",
      "Try using .loc[row_indexer,col_indexer] = value instead\n",
      "\n",
      "See the caveats in the documentation: https://pandas.pydata.org/pandas-docs/stable/user_guide/indexing.html#returning-a-view-versus-a-copy\n",
      "  self._setitem_single_column(loc, value, pi)\n",
      "/Users/marie/opt/anaconda3/lib/python3.8/site-packages/pandas/core/indexing.py:1720: SettingWithCopyWarning: \n",
      "A value is trying to be set on a copy of a slice from a DataFrame.\n",
      "Try using .loc[row_indexer,col_indexer] = value instead\n",
      "\n",
      "See the caveats in the documentation: https://pandas.pydata.org/pandas-docs/stable/user_guide/indexing.html#returning-a-view-versus-a-copy\n",
      "  self._setitem_single_column(loc, value, pi)\n",
      "/Users/marie/opt/anaconda3/lib/python3.8/site-packages/pandas/core/indexing.py:1720: SettingWithCopyWarning: \n",
      "A value is trying to be set on a copy of a slice from a DataFrame.\n",
      "Try using .loc[row_indexer,col_indexer] = value instead\n",
      "\n",
      "See the caveats in the documentation: https://pandas.pydata.org/pandas-docs/stable/user_guide/indexing.html#returning-a-view-versus-a-copy\n",
      "  self._setitem_single_column(loc, value, pi)\n",
      "/Users/marie/opt/anaconda3/lib/python3.8/site-packages/pandas/core/indexing.py:1720: SettingWithCopyWarning: \n",
      "A value is trying to be set on a copy of a slice from a DataFrame.\n",
      "Try using .loc[row_indexer,col_indexer] = value instead\n",
      "\n",
      "See the caveats in the documentation: https://pandas.pydata.org/pandas-docs/stable/user_guide/indexing.html#returning-a-view-versus-a-copy\n",
      "  self._setitem_single_column(loc, value, pi)\n",
      "/Users/marie/opt/anaconda3/lib/python3.8/site-packages/pandas/core/indexing.py:1720: SettingWithCopyWarning: \n",
      "A value is trying to be set on a copy of a slice from a DataFrame.\n",
      "Try using .loc[row_indexer,col_indexer] = value instead\n",
      "\n",
      "See the caveats in the documentation: https://pandas.pydata.org/pandas-docs/stable/user_guide/indexing.html#returning-a-view-versus-a-copy\n",
      "  self._setitem_single_column(loc, value, pi)\n",
      "/Users/marie/opt/anaconda3/lib/python3.8/site-packages/pandas/core/indexing.py:1720: SettingWithCopyWarning: \n",
      "A value is trying to be set on a copy of a slice from a DataFrame.\n",
      "Try using .loc[row_indexer,col_indexer] = value instead\n",
      "\n",
      "See the caveats in the documentation: https://pandas.pydata.org/pandas-docs/stable/user_guide/indexing.html#returning-a-view-versus-a-copy\n",
      "  self._setitem_single_column(loc, value, pi)\n",
      "/Users/marie/opt/anaconda3/lib/python3.8/site-packages/pandas/core/indexing.py:1720: SettingWithCopyWarning: \n",
      "A value is trying to be set on a copy of a slice from a DataFrame.\n",
      "Try using .loc[row_indexer,col_indexer] = value instead\n",
      "\n",
      "See the caveats in the documentation: https://pandas.pydata.org/pandas-docs/stable/user_guide/indexing.html#returning-a-view-versus-a-copy\n",
      "  self._setitem_single_column(loc, value, pi)\n"
     ]
    },
    {
     "name": "stderr",
     "output_type": "stream",
     "text": [
      "/Users/marie/opt/anaconda3/lib/python3.8/site-packages/pandas/core/indexing.py:1720: SettingWithCopyWarning: \n",
      "A value is trying to be set on a copy of a slice from a DataFrame.\n",
      "Try using .loc[row_indexer,col_indexer] = value instead\n",
      "\n",
      "See the caveats in the documentation: https://pandas.pydata.org/pandas-docs/stable/user_guide/indexing.html#returning-a-view-versus-a-copy\n",
      "  self._setitem_single_column(loc, value, pi)\n",
      "/Users/marie/opt/anaconda3/lib/python3.8/site-packages/pandas/core/indexing.py:1720: SettingWithCopyWarning: \n",
      "A value is trying to be set on a copy of a slice from a DataFrame.\n",
      "Try using .loc[row_indexer,col_indexer] = value instead\n",
      "\n",
      "See the caveats in the documentation: https://pandas.pydata.org/pandas-docs/stable/user_guide/indexing.html#returning-a-view-versus-a-copy\n",
      "  self._setitem_single_column(loc, value, pi)\n"
     ]
    }
   ],
   "source": [
    "# Create departments name with loc\n",
    "\n",
    "\n",
    "df_3.loc[df_3['department_id'] == 1, 'department'] = 'Frozen'\n",
    "df_3.loc[df_3['department_id'] == 2, 'department'] = 'Other'\n",
    "df_3.loc[df_3['department_id'] == 3, 'department'] = 'Bakery'\n",
    "df_3.loc[df_3['department_id'] == 4, 'department'] = 'Produce'\n",
    "df_3.loc[df_3['department_id'] == 5, 'department'] = 'Alcohol'\n",
    "df_3.loc[df_3['department_id'] == 6, 'department'] = 'International'\n",
    "df_3.loc[df_3['department_id'] == 7, 'department'] = 'Beverages'\n",
    "df_3.loc[df_3['department_id'] == 8, 'department'] = 'Pets'\n",
    "df_3.loc[df_3['department_id'] == 9, 'department'] = 'Dry goods pasta'\n",
    "df_3.loc[df_3['department_id'] == 10, 'department'] = 'Bulk'\n",
    "df_3.loc[df_3['department_id'] == 11, 'department'] = 'Personal care'\n",
    "df_3.loc[df_3['department_id'] == 12, 'department'] = 'Meat seafood'\n",
    "df_3.loc[df_3['department_id'] == 13, 'department'] = 'Pantry'\n",
    "df_3.loc[df_3['department_id'] == 14, 'department'] = 'Breakfast'\n",
    "df_3.loc[df_3['department_id'] == 15, 'department'] = 'Canned goods'\n",
    "df_3.loc[df_3['department_id'] == 16, 'department'] = 'Dairy eggs'\n",
    "df_3.loc[df_3['department_id'] == 17, 'department'] = 'Households'\n",
    "df_3.loc[df_3['department_id'] == 18, 'department'] = 'Babies'\n",
    "df_3.loc[df_3['department_id'] == 19, 'department'] = 'Snacks'\n",
    "df_3.loc[df_3['department_id'] == 20, 'department'] = 'Deli'\n",
    "df_3.loc[df_3['department_id'] == 21, 'department'] = 'Missing'"
   ]
  },
  {
   "cell_type": "code",
   "execution_count": 52,
   "id": "cece0c68",
   "metadata": {},
   "outputs": [
    {
     "data": {
      "text/plain": [
       "Produce            9079276\n",
       "Dairy eggs         5177183\n",
       "Snacks             2766406\n",
       "Beverages          2571901\n",
       "Frozen             2121732\n",
       "Pantry             1782705\n",
       "Bakery             1120828\n",
       "Canned goods       1012074\n",
       "Deli               1003834\n",
       "Dry goods pasta     822136\n",
       "Households          699858\n",
       "Meat seafood        674781\n",
       "Breakfast           670850\n",
       "Personal care       424306\n",
       "Babies              410392\n",
       "International       255991\n",
       "Alcohol             144627\n",
       "Pets                 93060\n",
       "Missing              64768\n",
       "Other                34411\n",
       "Bulk                 33451\n",
       "Name: department, dtype: int64"
      ]
     },
     "execution_count": 52,
     "metadata": {},
     "output_type": "execute_result"
    }
   ],
   "source": [
    "# Check the output\n",
    "\n",
    "df_3['department'].value_counts()"
   ]
  },
  {
   "cell_type": "markdown",
   "id": "f4c1bfb9",
   "metadata": {},
   "source": [
    "**5.5 Week of day**"
   ]
  },
  {
   "cell_type": "code",
   "execution_count": 53,
   "id": "7d47617c",
   "metadata": {},
   "outputs": [
    {
     "name": "stderr",
     "output_type": "stream",
     "text": [
      "/Users/marie/opt/anaconda3/lib/python3.8/site-packages/pandas/core/indexing.py:1599: SettingWithCopyWarning: \n",
      "A value is trying to be set on a copy of a slice from a DataFrame.\n",
      "Try using .loc[row_indexer,col_indexer] = value instead\n",
      "\n",
      "See the caveats in the documentation: https://pandas.pydata.org/pandas-docs/stable/user_guide/indexing.html#returning-a-view-versus-a-copy\n",
      "  self.obj[key] = infer_fill_value(value)\n",
      "/Users/marie/opt/anaconda3/lib/python3.8/site-packages/pandas/core/indexing.py:1720: SettingWithCopyWarning: \n",
      "A value is trying to be set on a copy of a slice from a DataFrame.\n",
      "Try using .loc[row_indexer,col_indexer] = value instead\n",
      "\n",
      "See the caveats in the documentation: https://pandas.pydata.org/pandas-docs/stable/user_guide/indexing.html#returning-a-view-versus-a-copy\n",
      "  self._setitem_single_column(loc, value, pi)\n",
      "/Users/marie/opt/anaconda3/lib/python3.8/site-packages/pandas/core/indexing.py:1720: SettingWithCopyWarning: \n",
      "A value is trying to be set on a copy of a slice from a DataFrame.\n",
      "Try using .loc[row_indexer,col_indexer] = value instead\n",
      "\n",
      "See the caveats in the documentation: https://pandas.pydata.org/pandas-docs/stable/user_guide/indexing.html#returning-a-view-versus-a-copy\n",
      "  self._setitem_single_column(loc, value, pi)\n",
      "/Users/marie/opt/anaconda3/lib/python3.8/site-packages/pandas/core/indexing.py:1720: SettingWithCopyWarning: \n",
      "A value is trying to be set on a copy of a slice from a DataFrame.\n",
      "Try using .loc[row_indexer,col_indexer] = value instead\n",
      "\n",
      "See the caveats in the documentation: https://pandas.pydata.org/pandas-docs/stable/user_guide/indexing.html#returning-a-view-versus-a-copy\n",
      "  self._setitem_single_column(loc, value, pi)\n",
      "/Users/marie/opt/anaconda3/lib/python3.8/site-packages/pandas/core/indexing.py:1720: SettingWithCopyWarning: \n",
      "A value is trying to be set on a copy of a slice from a DataFrame.\n",
      "Try using .loc[row_indexer,col_indexer] = value instead\n",
      "\n",
      "See the caveats in the documentation: https://pandas.pydata.org/pandas-docs/stable/user_guide/indexing.html#returning-a-view-versus-a-copy\n",
      "  self._setitem_single_column(loc, value, pi)\n",
      "/Users/marie/opt/anaconda3/lib/python3.8/site-packages/pandas/core/indexing.py:1720: SettingWithCopyWarning: \n",
      "A value is trying to be set on a copy of a slice from a DataFrame.\n",
      "Try using .loc[row_indexer,col_indexer] = value instead\n",
      "\n",
      "See the caveats in the documentation: https://pandas.pydata.org/pandas-docs/stable/user_guide/indexing.html#returning-a-view-versus-a-copy\n",
      "  self._setitem_single_column(loc, value, pi)\n",
      "/Users/marie/opt/anaconda3/lib/python3.8/site-packages/pandas/core/indexing.py:1720: SettingWithCopyWarning: \n",
      "A value is trying to be set on a copy of a slice from a DataFrame.\n",
      "Try using .loc[row_indexer,col_indexer] = value instead\n",
      "\n",
      "See the caveats in the documentation: https://pandas.pydata.org/pandas-docs/stable/user_guide/indexing.html#returning-a-view-versus-a-copy\n",
      "  self._setitem_single_column(loc, value, pi)\n",
      "/Users/marie/opt/anaconda3/lib/python3.8/site-packages/pandas/core/indexing.py:1720: SettingWithCopyWarning: \n",
      "A value is trying to be set on a copy of a slice from a DataFrame.\n",
      "Try using .loc[row_indexer,col_indexer] = value instead\n",
      "\n",
      "See the caveats in the documentation: https://pandas.pydata.org/pandas-docs/stable/user_guide/indexing.html#returning-a-view-versus-a-copy\n",
      "  self._setitem_single_column(loc, value, pi)\n"
     ]
    }
   ],
   "source": [
    "# Creating week of day with loc  \n",
    "\n",
    "df_3.loc[df_3['orders_day_of_week'] == 0, 'day of week'] = 'Saturday'\n",
    "df_3.loc[df_3['orders_day_of_week'] == 1, 'day of week'] = 'Sunday'\n",
    "df_3.loc[df_3['orders_day_of_week'] == 2, 'day of week'] = 'Monday'\n",
    "df_3.loc[df_3['orders_day_of_week'] == 3, 'day of week'] = 'Tuesday'\n",
    "df_3.loc[df_3['orders_day_of_week'] == 4, 'day of week'] = 'Wednesday'\n",
    "df_3.loc[df_3['orders_day_of_week'] == 5, 'day of week'] = 'Thursday'\n",
    "df_3.loc[df_3['orders_day_of_week'] == 6, 'day of week'] = 'Friday'"
   ]
  },
  {
   "cell_type": "code",
   "execution_count": 54,
   "id": "cbe95cfb",
   "metadata": {},
   "outputs": [
    {
     "data": {
      "text/plain": [
       "Saturday     5913988\n",
       "Sunday       5417154\n",
       "Friday       4295043\n",
       "Thursday     4037411\n",
       "Monday       4028561\n",
       "Tuesday      3673006\n",
       "Wednesday    3628326\n",
       "Name: day of week, dtype: int64"
      ]
     },
     "execution_count": 54,
     "metadata": {},
     "output_type": "execute_result"
    }
   ],
   "source": [
    "# Check the output\n",
    "\n",
    "df_3['day of week'].value_counts()"
   ]
  },
  {
   "cell_type": "markdown",
   "id": "5fec8154",
   "metadata": {},
   "source": [
    "**5.6 Crosstabs**"
   ]
  },
  {
   "cell_type": "code",
   "execution_count": 55,
   "id": "45b83063",
   "metadata": {},
   "outputs": [],
   "source": [
    "# Create crosstabs for further analyze in Excel, correlation age - department\n",
    "\n",
    "crosstab_age_department = pd.crosstab(df_3['age_group'], df_3['department'], dropna = False)"
   ]
  },
  {
   "cell_type": "code",
   "execution_count": 56,
   "id": "27103f9b",
   "metadata": {},
   "outputs": [],
   "source": [
    "# Copy the table for pasting in Excel\n",
    "\n",
    "crosstab_age_department.to_clipboard()"
   ]
  },
  {
   "cell_type": "code",
   "execution_count": 57,
   "id": "d303112a",
   "metadata": {},
   "outputs": [],
   "source": [
    "# Create crosstabs for further analyze in Excel, correlation age - order hour of day\n",
    "\n",
    "crosstab_age_order_hod = pd.crosstab(df_3['age_group'], df_3['order_hour_of_day'], dropna = False)"
   ]
  },
  {
   "cell_type": "code",
   "execution_count": 58,
   "id": "1710494d",
   "metadata": {},
   "outputs": [],
   "source": [
    "# Copy the table for pasting in Excel\n",
    "\n",
    "crosstab_age_order_hod.to_clipboard()"
   ]
  },
  {
   "cell_type": "code",
   "execution_count": 59,
   "id": "1bceb76f",
   "metadata": {},
   "outputs": [],
   "source": [
    "# Create crosstabs for further analyze in Excel, correlation age - order day of week\n",
    "\n",
    "crosstab_age_order_dow = pd.crosstab(df_3['age_group'], df_3['day of week'], dropna = False)"
   ]
  },
  {
   "cell_type": "code",
   "execution_count": 60,
   "id": "eb18a49c",
   "metadata": {},
   "outputs": [],
   "source": [
    "# Copy the table for pasting in Excel\n",
    "\n",
    "crosstab_age_order_dow.to_clipboard()"
   ]
  },
  {
   "cell_type": "code",
   "execution_count": 61,
   "id": "be355d7f",
   "metadata": {},
   "outputs": [],
   "source": [
    "# Create crosstabs for further analyze in Excel, correlation age - dependants status\n",
    "\n",
    "crosstab_age_dependants = pd.crosstab(df_3['age_group'], df_3['dependants_status'], dropna = False)"
   ]
  },
  {
   "cell_type": "code",
   "execution_count": 62,
   "id": "e83f8f12",
   "metadata": {},
   "outputs": [],
   "source": [
    "# Copy the table for pasting in Excel\n",
    "\n",
    "crosstab_age_dependants.to_clipboard()"
   ]
  },
  {
   "cell_type": "code",
   "execution_count": 63,
   "id": "5e7358ef",
   "metadata": {},
   "outputs": [],
   "source": [
    "# Create crosstabs for further analyze in Excel, correlation age - income status\n",
    "\n",
    "crosstab_age_income = pd.crosstab(df_3['age_group'], df_3['income_status'], dropna = False)"
   ]
  },
  {
   "cell_type": "code",
   "execution_count": 64,
   "id": "6b3e6d14",
   "metadata": {},
   "outputs": [],
   "source": [
    "# Copy the table for pasting in Excel\n",
    "\n",
    "crosstab_age_income.to_clipboard()"
   ]
  },
  {
   "cell_type": "markdown",
   "id": "b5f20e9f",
   "metadata": {},
   "source": [
    "**5.7 Profiling the middle-aged customer:** <br>The most ordered items is in the category \"Produce\".<br> 29% of total purchased items for a middle-aged customer is in category \"Produce\".<br> Saturday is the most common day for ordering at Instacart. <br> The most common time at day to order is 10 am.<br>75% of the middel-aged customers has >1 dependants. <br> 45,5 % of the middle-aged customers has a high-income, <br> 43,5 % of the middle-aged customers has a regular income and <br> 11 % of the middle-aged customers has a low income."
   ]
  },
  {
   "cell_type": "markdown",
   "id": "a5c2af20",
   "metadata": {},
   "source": [
    "# 6. Visualizations"
   ]
  },
  {
   "cell_type": "markdown",
   "id": "dc5ebfbf",
   "metadata": {},
   "source": [
    "**6.1 Bar Age group**"
   ]
  },
  {
   "cell_type": "code",
   "execution_count": 65,
   "id": "cac14ab9",
   "metadata": {},
   "outputs": [
    {
     "data": {
      "image/png": "[encoded data removed]",
      "text/plain": [
       "<Figure size 432x288 with 1 Axes>"
      ]
     },
     "metadata": {
      "needs_background": "light"
     },
     "output_type": "display_data"
    }
   ],
   "source": [
    "bar_age_group = df_3['age_group'].value_counts().sort_index().plot.bar()"
   ]
  },
  {
   "cell_type": "markdown",
   "id": "852607cd",
   "metadata": {},
   "source": [
    "**6.2 Bar Income status**"
   ]
  },
  {
   "cell_type": "code",
   "execution_count": 66,
   "id": "3d190157",
   "metadata": {},
   "outputs": [
    {
     "data": {
      "image/png": "[encoded data removed]",
      "text/plain": [
       "<Figure size 432x288 with 1 Axes>"
      ]
     },
     "metadata": {
      "needs_background": "light"
     },
     "output_type": "display_data"
    }
   ],
   "source": [
    "bar_income_status = df_3['income_status'].value_counts().sort_index().plot.bar(color = 'pink')"
   ]
  },
  {
   "cell_type": "markdown",
   "id": "26a058a3",
   "metadata": {},
   "source": [
    "**6.3 Bar Dependants status**"
   ]
  },
  {
   "cell_type": "code",
   "execution_count": 67,
   "id": "73e6c5aa",
   "metadata": {},
   "outputs": [
    {
     "data": {
      "image/png": "[encoded data removed]",
      "text/plain": [
       "<Figure size 432x288 with 1 Axes>"
      ]
     },
     "metadata": {
      "needs_background": "light"
     },
     "output_type": "display_data"
    }
   ],
   "source": [
    "bar_dependants_status = df_3['dependants_status'].value_counts().sort_index().plot.bar(color = 'cyan')"
   ]
  },
  {
   "cell_type": "markdown",
   "id": "e820285e",
   "metadata": {},
   "source": [
    "**6.4 Pie Dependants status**"
   ]
  },
  {
   "cell_type": "code",
   "execution_count": 68,
   "id": "4d46c09d",
   "metadata": {},
   "outputs": [
    {
     "data": {
      "text/plain": [
       "Text(0, 0.5, '')"
      ]
     },
     "execution_count": 68,
     "metadata": {},
     "output_type": "execute_result"
    },
    {
     "data": {
      "image/png": "[encoded data removed]",
      "text/plain": [
       "<Figure size 432x288 with 1 Axes>"
      ]
     },
     "metadata": {},
     "output_type": "display_data"
    }
   ],
   "source": [
    "# Create pie chart of dependants status \n",
    "\n",
    "pie_dependants_status = df_3['dependants_status'].value_counts().plot.pie(autopct='%1.1f%%', colors = sns.color_palette('Set2',2))\n",
    "plt.ylabel('')"
   ]
  },
  {
   "cell_type": "markdown",
   "id": "c3ebe462",
   "metadata": {},
   "source": [
    "**These four visualizations shows that the most common customer is middle-aged, with high income (or regular close by) and is a parent. \n",
    "Looks logical.**"
   ]
  },
  {
   "cell_type": "code",
   "execution_count": 69,
   "id": "8986ca55",
   "metadata": {},
   "outputs": [],
   "source": [
    "# Export visualizations as image files\n",
    "\n",
    "bar_age_group.figure.savefig(os.path.join(path, '04 Analysis','Visualizations', 'bar_age_group.png'))"
   ]
  },
  {
   "cell_type": "code",
   "execution_count": 70,
   "id": "7f9ba714",
   "metadata": {},
   "outputs": [],
   "source": [
    "bar_income_status.figure.savefig(os.path.join(path, '04 Analysis','Visualizations', 'bar_income_status.png'))"
   ]
  },
  {
   "cell_type": "code",
   "execution_count": 71,
   "id": "87cf79df",
   "metadata": {},
   "outputs": [],
   "source": [
    "bar_dependants_status.figure.savefig(os.path.join(path, '04 Analysis','Visualizations', 'bar_dependants_status.png'))"
   ]
  },
  {
   "cell_type": "code",
   "execution_count": 72,
   "id": "174520b6",
   "metadata": {},
   "outputs": [],
   "source": [
    "pie_dependants_status.figure.savefig(os.path.join(path, '04 Analysis','Visualizations', 'pie_dependants_status.png'))"
   ]
  },
  {
   "cell_type": "markdown",
   "id": "5c0f913a",
   "metadata": {},
   "source": [
    "**6.5 Bar Order hour of day**"
   ]
  },
  {
   "cell_type": "code",
   "execution_count": 73,
   "id": "75db229b",
   "metadata": {},
   "outputs": [
    {
     "data": {
      "text/plain": [
       "Text(0.5, 0, 'Hour')"
      ]
     },
     "execution_count": 73,
     "metadata": {},
     "output_type": "execute_result"
    },
    {
     "data": {
      "image/png": "[encoded data removed]",
      "text/plain": [
       "<Figure size 432x288 with 1 Axes>"
      ]
     },
     "metadata": {
      "needs_background": "light"
     },
     "output_type": "display_data"
    }
   ],
   "source": [
    "# Create a bar chart over order hour of day \n",
    "\n",
    "bar_order_hod = df_3['order_hour_of_day'].value_counts().sort_index().plot.bar()\n",
    "plt.title('Orders')\n",
    "plt.xlabel('Hour')"
   ]
  },
  {
   "cell_type": "markdown",
   "id": "05d00efc",
   "metadata": {},
   "source": [
    "Most orders are placed between 9-16."
   ]
  },
  {
   "cell_type": "markdown",
   "id": "f53104ec",
   "metadata": {},
   "source": [
    "**6.6 Bar Orders day of week**"
   ]
  },
  {
   "cell_type": "code",
   "execution_count": 74,
   "id": "7f4a48d0",
   "metadata": {},
   "outputs": [
    {
     "data": {
      "text/plain": [
       "Text(0.5, 0, 'Day')"
      ]
     },
     "execution_count": 74,
     "metadata": {},
     "output_type": "execute_result"
    },
    {
     "data": {
      "image/png": "[encoded data removed]",
      "text/plain": [
       "<Figure size 432x288 with 1 Axes>"
      ]
     },
     "metadata": {
      "needs_background": "light"
     },
     "output_type": "display_data"
    }
   ],
   "source": [
    "# Create a bar chart over order day of week \n",
    "\n",
    "bar_order_dow = df_3['day of week'].value_counts().sort_index().plot.bar(color = sns.color_palette('Blues', 7))\n",
    "plt.title('Orders')\n",
    "plt.xlabel('Day')"
   ]
  },
  {
   "cell_type": "markdown",
   "id": "831ff4aa",
   "metadata": {},
   "source": [
    "The most orders are placed on Saturdays, followed by Sundays."
   ]
  },
  {
   "cell_type": "markdown",
   "id": "5f905d15",
   "metadata": {},
   "source": [
    "**6.7 Bar Income/Orders day of week**"
   ]
  },
  {
   "cell_type": "code",
   "execution_count": 75,
   "id": "cc9480cf",
   "metadata": {},
   "outputs": [],
   "source": [
    "# Crosstab for income and order day of week\n",
    "\n",
    "ct_income_order_dow = pd.crosstab(df_3['income_status'], df_3['day of week'], dropna = False)"
   ]
  },
  {
   "cell_type": "code",
   "execution_count": 76,
   "id": "543c1d9e",
   "metadata": {},
   "outputs": [
    {
     "data": {
      "image/png": "[encoded data removed]",
      "text/plain": [
       "<Figure size 432x288 with 1 Axes>"
      ]
     },
     "metadata": {
      "needs_background": "light"
     },
     "output_type": "display_data"
    }
   ],
   "source": [
    "# Create a bar chart from crosstab income/order day of week\n",
    "\n",
    "bar_income_orderdow = ct_income_order_dow.plot.bar(stacked = True, color = sns.color_palette('Greens', 7))"
   ]
  },
  {
   "cell_type": "markdown",
   "id": "ea43854d",
   "metadata": {},
   "source": [
    "**6.8 Bar Age/Dependants**"
   ]
  },
  {
   "cell_type": "code",
   "execution_count": 77,
   "id": "298f2284",
   "metadata": {},
   "outputs": [],
   "source": [
    "# Crosstab for age group and number of dependants\n",
    "\n",
    "ct_age_dependants = pd.crosstab(df_3['age_group'], df_3['n_dependants'], dropna = False)"
   ]
  },
  {
   "cell_type": "code",
   "execution_count": 78,
   "id": "618dbdaa",
   "metadata": {},
   "outputs": [
    {
     "data": {
      "image/png": "[encoded data removed]",
      "text/plain": [
       "<Figure size 432x288 with 1 Axes>"
      ]
     },
     "metadata": {
      "needs_background": "light"
     },
     "output_type": "display_data"
    }
   ],
   "source": [
    "# Create a bar chart from crosstab age/number of depandants\n",
    "\n",
    "bar_age_dependants = ct_age_dependants.plot.bar(stacked = True, color = sns.color_palette('Set2', 4))"
   ]
  },
  {
   "cell_type": "code",
   "execution_count": 79,
   "id": "0e923376",
   "metadata": {},
   "outputs": [],
   "source": [
    "# Export visualizations as image files\n",
    "\n",
    "bar_order_hod.figure.savefig(os.path.join(path, '04 Analysis','Visualizations', 'bar_order_hod.png'))"
   ]
  },
  {
   "cell_type": "code",
   "execution_count": 80,
   "id": "b645e23e",
   "metadata": {},
   "outputs": [],
   "source": [
    "bar_order_dow.figure.savefig(os.path.join(path, '04 Analysis','Visualizations', 'bar_order_dow.png'))"
   ]
  },
  {
   "cell_type": "code",
   "execution_count": 81,
   "id": "8eb87f3a",
   "metadata": {},
   "outputs": [],
   "source": [
    "bar_income_orderdow.figure.savefig(os.path.join(path, '04 Analysis','Visualizations', 'bar_income_orderdow.png'))"
   ]
  },
  {
   "cell_type": "code",
   "execution_count": 82,
   "id": "0d8f7feb",
   "metadata": {},
   "outputs": [],
   "source": [
    "bar_age_dependants.figure.savefig(os.path.join(path, '04 Analysis','Visualizations', 'bar_age_dependants.png'))"
   ]
  },
  {
   "cell_type": "markdown",
   "id": "f675a9f7",
   "metadata": {},
   "source": [
    "# 7. Aggregate the max, mean and min"
   ]
  },
  {
   "cell_type": "markdown",
   "id": "e3f06261",
   "metadata": {},
   "source": [
    "**7.1 Price in Age group**"
   ]
  },
  {
   "cell_type": "code",
   "execution_count": 83,
   "id": "659d539e",
   "metadata": {},
   "outputs": [],
   "source": [
    "# Aggregate the max, mean and min for prices in the age group\n",
    "\n",
    "agg_age_price = df_3.groupby('age_group').agg({'prices': ['mean', 'min', 'max']})"
   ]
  },
  {
   "cell_type": "code",
   "execution_count": 84,
   "id": "2adc8852",
   "metadata": {},
   "outputs": [
    {
     "data": {
      "text/html": [
       "<div>\n",
       "<style scoped>\n",
       "    .dataframe tbody tr th:only-of-type {\n",
       "        vertical-align: middle;\n",
       "    }\n",
       "\n",
       "    .dataframe tbody tr th {\n",
       "        vertical-align: top;\n",
       "    }\n",
       "\n",
       "    .dataframe thead tr th {\n",
       "        text-align: left;\n",
       "    }\n",
       "\n",
       "    .dataframe thead tr:last-of-type th {\n",
       "        text-align: right;\n",
       "    }\n",
       "</style>\n",
       "<table border=\"1\" class=\"dataframe\">\n",
       "  <thead>\n",
       "    <tr>\n",
       "      <th></th>\n",
       "      <th colspan=\"3\" halign=\"left\">prices</th>\n",
       "    </tr>\n",
       "    <tr>\n",
       "      <th></th>\n",
       "      <th>mean</th>\n",
       "      <th>min</th>\n",
       "      <th>max</th>\n",
       "    </tr>\n",
       "    <tr>\n",
       "      <th>age_group</th>\n",
       "      <th></th>\n",
       "      <th></th>\n",
       "      <th></th>\n",
       "    </tr>\n",
       "  </thead>\n",
       "  <tbody>\n",
       "    <tr>\n",
       "      <th>middle aged customer</th>\n",
       "      <td>11.979373</td>\n",
       "      <td>1.0</td>\n",
       "      <td>99999.0</td>\n",
       "    </tr>\n",
       "    <tr>\n",
       "      <th>older customer</th>\n",
       "      <td>11.806147</td>\n",
       "      <td>1.0</td>\n",
       "      <td>99999.0</td>\n",
       "    </tr>\n",
       "    <tr>\n",
       "      <th>young customer</th>\n",
       "      <td>12.198693</td>\n",
       "      <td>1.0</td>\n",
       "      <td>99999.0</td>\n",
       "    </tr>\n",
       "  </tbody>\n",
       "</table>\n",
       "</div>"
      ],
      "text/plain": [
       "                         prices              \n",
       "                           mean  min      max\n",
       "age_group                                    \n",
       "middle aged customer  11.979373  1.0  99999.0\n",
       "older customer        11.806147  1.0  99999.0\n",
       "young customer        12.198693  1.0  99999.0"
      ]
     },
     "execution_count": 84,
     "metadata": {},
     "output_type": "execute_result"
    }
   ],
   "source": [
    "# Check the output\n",
    "\n",
    "agg_age_price"
   ]
  },
  {
   "cell_type": "markdown",
   "id": "71e230da",
   "metadata": {},
   "source": [
    "**7.2 Orders hour of day by income**"
   ]
  },
  {
   "cell_type": "code",
   "execution_count": 85,
   "id": "af94b5de",
   "metadata": {},
   "outputs": [],
   "source": [
    "# Aggregate the max, mean and min for orders hour of day by income status\n",
    "\n",
    "agg_ordershod_income = df_3.groupby('income_status').agg({'order_hour_of_day': ['mean', 'min', 'max']})"
   ]
  },
  {
   "cell_type": "code",
   "execution_count": 86,
   "id": "fcac0258",
   "metadata": {},
   "outputs": [
    {
     "data": {
      "text/html": [
       "<div>\n",
       "<style scoped>\n",
       "    .dataframe tbody tr th:only-of-type {\n",
       "        vertical-align: middle;\n",
       "    }\n",
       "\n",
       "    .dataframe tbody tr th {\n",
       "        vertical-align: top;\n",
       "    }\n",
       "\n",
       "    .dataframe thead tr th {\n",
       "        text-align: left;\n",
       "    }\n",
       "\n",
       "    .dataframe thead tr:last-of-type th {\n",
       "        text-align: right;\n",
       "    }\n",
       "</style>\n",
       "<table border=\"1\" class=\"dataframe\">\n",
       "  <thead>\n",
       "    <tr>\n",
       "      <th></th>\n",
       "      <th colspan=\"3\" halign=\"left\">order_hour_of_day</th>\n",
       "    </tr>\n",
       "    <tr>\n",
       "      <th></th>\n",
       "      <th>mean</th>\n",
       "      <th>min</th>\n",
       "      <th>max</th>\n",
       "    </tr>\n",
       "    <tr>\n",
       "      <th>income_status</th>\n",
       "      <th></th>\n",
       "      <th></th>\n",
       "      <th></th>\n",
       "    </tr>\n",
       "  </thead>\n",
       "  <tbody>\n",
       "    <tr>\n",
       "      <th>high income</th>\n",
       "      <td>13.448590</td>\n",
       "      <td>0</td>\n",
       "      <td>23</td>\n",
       "    </tr>\n",
       "    <tr>\n",
       "      <th>low income</th>\n",
       "      <td>13.213228</td>\n",
       "      <td>0</td>\n",
       "      <td>23</td>\n",
       "    </tr>\n",
       "    <tr>\n",
       "      <th>regular income</th>\n",
       "      <td>13.420910</td>\n",
       "      <td>0</td>\n",
       "      <td>23</td>\n",
       "    </tr>\n",
       "  </tbody>\n",
       "</table>\n",
       "</div>"
      ],
      "text/plain": [
       "               order_hour_of_day        \n",
       "                            mean min max\n",
       "income_status                           \n",
       "high income            13.448590   0  23\n",
       "low income             13.213228   0  23\n",
       "regular income         13.420910   0  23"
      ]
     },
     "execution_count": 86,
     "metadata": {},
     "output_type": "execute_result"
    }
   ],
   "source": [
    "# Check the output\n",
    "\n",
    "agg_ordershod_income"
   ]
  },
  {
   "cell_type": "markdown",
   "id": "bb29296f",
   "metadata": {},
   "source": [
    "**7.3 Number of dependants by age group**"
   ]
  },
  {
   "cell_type": "code",
   "execution_count": 87,
   "id": "a78aaecd",
   "metadata": {},
   "outputs": [],
   "source": [
    "# Aggregate the max, mean and min for number of dependants by age group\n",
    "\n",
    "agg_age_dependants = df_3.groupby('age_group').agg({'n_dependants': ['mean', 'min', 'max']})"
   ]
  },
  {
   "cell_type": "code",
   "execution_count": 88,
   "id": "7159a3e0",
   "metadata": {},
   "outputs": [
    {
     "data": {
      "text/html": [
       "<div>\n",
       "<style scoped>\n",
       "    .dataframe tbody tr th:only-of-type {\n",
       "        vertical-align: middle;\n",
       "    }\n",
       "\n",
       "    .dataframe tbody tr th {\n",
       "        vertical-align: top;\n",
       "    }\n",
       "\n",
       "    .dataframe thead tr th {\n",
       "        text-align: left;\n",
       "    }\n",
       "\n",
       "    .dataframe thead tr:last-of-type th {\n",
       "        text-align: right;\n",
       "    }\n",
       "</style>\n",
       "<table border=\"1\" class=\"dataframe\">\n",
       "  <thead>\n",
       "    <tr>\n",
       "      <th></th>\n",
       "      <th colspan=\"3\" halign=\"left\">n_dependants</th>\n",
       "    </tr>\n",
       "    <tr>\n",
       "      <th></th>\n",
       "      <th>mean</th>\n",
       "      <th>min</th>\n",
       "      <th>max</th>\n",
       "    </tr>\n",
       "    <tr>\n",
       "      <th>age_group</th>\n",
       "      <th></th>\n",
       "      <th></th>\n",
       "      <th></th>\n",
       "    </tr>\n",
       "  </thead>\n",
       "  <tbody>\n",
       "    <tr>\n",
       "      <th>middle aged customer</th>\n",
       "      <td>1.497890</td>\n",
       "      <td>0</td>\n",
       "      <td>3</td>\n",
       "    </tr>\n",
       "    <tr>\n",
       "      <th>older customer</th>\n",
       "      <td>1.503830</td>\n",
       "      <td>0</td>\n",
       "      <td>3</td>\n",
       "    </tr>\n",
       "    <tr>\n",
       "      <th>young customer</th>\n",
       "      <td>1.502044</td>\n",
       "      <td>0</td>\n",
       "      <td>3</td>\n",
       "    </tr>\n",
       "  </tbody>\n",
       "</table>\n",
       "</div>"
      ],
      "text/plain": [
       "                     n_dependants        \n",
       "                             mean min max\n",
       "age_group                                \n",
       "middle aged customer     1.497890   0   3\n",
       "older customer           1.503830   0   3\n",
       "young customer           1.502044   0   3"
      ]
     },
     "execution_count": 88,
     "metadata": {},
     "output_type": "execute_result"
    }
   ],
   "source": [
    "# Check the output\n",
    "\n",
    "agg_age_dependants"
   ]
  },
  {
   "cell_type": "markdown",
   "id": "caa45d10",
   "metadata": {},
   "source": [
    "# 8. Compare customer profile"
   ]
  },
  {
   "cell_type": "markdown",
   "id": "3c048275",
   "metadata": {},
   "source": [
    "The marketing and sales teams are particularly interested in the different types of \t\t\t\t\t\t\t\n",
    "customers in their system and how their ordering behaviors differ. For example: \t\t\t\t\t\t\t\n",
    " \t\t\t\t\t\t\t\n",
    "**‣  Are there differences in ordering habits based on a customer’s loyalty status?**\t\t\t\t\t\t\t"
   ]
  },
  {
   "cell_type": "code",
   "execution_count": 89,
   "id": "02b9066c",
   "metadata": {},
   "outputs": [],
   "source": [
    "# Crosstab loyalty flag/orders day of week\n",
    "\n",
    "ct_loyalty_ordersdow = pd.crosstab(df_3['orders_day_of_week'], df_3['loyalty_flag'], dropna = False)"
   ]
  },
  {
   "cell_type": "markdown",
   "id": "3429e794",
   "metadata": {},
   "source": [
    "### Visualization 9.1"
   ]
  },
  {
   "cell_type": "code",
   "execution_count": 90,
   "id": "7b891a8e",
   "metadata": {},
   "outputs": [
    {
     "data": {
      "image/png": "[encoded data removed]",
      "text/plain": [
       "<Figure size 432x288 with 1 Axes>"
      ]
     },
     "metadata": {
      "needs_background": "light"
     },
     "output_type": "display_data"
    }
   ],
   "source": [
    "# Bar chart loyalty flag / orders day of week\n",
    "\n",
    "bar_loyalty_ordersdow = ct_loyalty_ordersdow.plot.bar(color = sns.color_palette('Set1', 3))"
   ]
  },
  {
   "cell_type": "markdown",
   "id": "433e4e0a",
   "metadata": {},
   "source": [
    "There is no different in the pattern except ONE thing; Loyal customer place the most orders on Sundays, while the rest of the customer stock place the most orders on Saturdays."
   ]
  },
  {
   "cell_type": "code",
   "execution_count": 91,
   "id": "0297faf5",
   "metadata": {},
   "outputs": [],
   "source": [
    "# Crosstab loyalty flag/orders hour of day\n",
    "\n",
    "ct_loyalty_orders_hod = pd.crosstab(df_3['order_hour_of_day'], df_3['loyalty_flag'], dropna = False)"
   ]
  },
  {
   "cell_type": "markdown",
   "id": "889f6b71",
   "metadata": {},
   "source": [
    "### Visualization 9.2"
   ]
  },
  {
   "cell_type": "code",
   "execution_count": 92,
   "id": "9c3638db",
   "metadata": {},
   "outputs": [
    {
     "data": {
      "image/png": "[encoded data removed]",
      "text/plain": [
       "<Figure size 432x288 with 1 Axes>"
      ]
     },
     "metadata": {
      "needs_background": "light"
     },
     "output_type": "display_data"
    }
   ],
   "source": [
    "# Bar chart loyalty flag/orders hour of day\n",
    "\n",
    "bar_loyalty_orders_hod = ct_loyalty_orders_hod.plot(kind = 'bar', stacked = True, color = sns.color_palette('Blues',3))"
   ]
  },
  {
   "cell_type": "code",
   "execution_count": 93,
   "id": "6d5b2878",
   "metadata": {},
   "outputs": [],
   "source": [
    "# Copy the table for pasting in Excel for further information\n",
    "\n",
    "ct_loyalty_orders_hod.to_clipboard()"
   ]
  },
  {
   "cell_type": "markdown",
   "id": "ed9002c5",
   "metadata": {},
   "source": [
    "Loyal customer place their most orders at 10 am, new customer at 15 and regular customer at 11 a´clock."
   ]
  },
  {
   "cell_type": "markdown",
   "id": "52e9ccfa",
   "metadata": {},
   "source": [
    "**‣  Are there differences in ordering habits based on a customer’s region?**"
   ]
  },
  {
   "cell_type": "code",
   "execution_count": 94,
   "id": "10bc6e86",
   "metadata": {},
   "outputs": [],
   "source": [
    "# Compare income and region.\n",
    "\n",
    "ct_income_region = pd.crosstab(df_3['income_status'], df_3['region'], dropna = False)"
   ]
  },
  {
   "cell_type": "markdown",
   "id": "beeaeb6e",
   "metadata": {},
   "source": [
    "### Visualization 9.3"
   ]
  },
  {
   "cell_type": "code",
   "execution_count": 95,
   "id": "64b256b7",
   "metadata": {},
   "outputs": [
    {
     "data": {
      "image/png": "[encoded data removed]",
      "text/plain": [
       "<Figure size 432x288 with 1 Axes>"
      ]
     },
     "metadata": {
      "needs_background": "light"
     },
     "output_type": "display_data"
    }
   ],
   "source": [
    "# Create a bar chart from crosstab income/region\n",
    "\n",
    "bar_income_region = ct_income_region.plot.bar(color = sns.color_palette('Purples'))"
   ]
  },
  {
   "cell_type": "markdown",
   "id": "96529a54",
   "metadata": {},
   "source": [
    "Customers from South represent most of the high- low- and regular income customers. 40% of the entire population is from the region South."
   ]
  },
  {
   "cell_type": "code",
   "execution_count": 97,
   "id": "dba848e0",
   "metadata": {},
   "outputs": [],
   "source": [
    "# Compare region and number of dependants\n",
    "\n",
    "ct_dependants_region = pd.crosstab(df_3['n_dependants'], df_3['region'], dropna = False)"
   ]
  },
  {
   "cell_type": "markdown",
   "id": "a16ee4d4",
   "metadata": {},
   "source": [
    "### Visualization 9.4"
   ]
  },
  {
   "cell_type": "code",
   "execution_count": 98,
   "id": "9b38b602",
   "metadata": {},
   "outputs": [
    {
     "data": {
      "image/png": "[encoded data removed]",
      "text/plain": [
       "<Figure size 432x288 with 1 Axes>"
      ]
     },
     "metadata": {
      "needs_background": "light"
     },
     "output_type": "display_data"
    }
   ],
   "source": [
    "# Create a bar chart from crosstab region/dependants\n",
    "\n",
    "bar_dependants_region = ct_dependants_region.plot.bar()"
   ]
  },
  {
   "cell_type": "markdown",
   "id": "81b8052b",
   "metadata": {},
   "source": [
    "There is no difference between the regions regarding number of dependants."
   ]
  },
  {
   "cell_type": "markdown",
   "id": "3f48e1e5",
   "metadata": {},
   "source": [
    "**‣  Is there a connection between age and family status in terms of ordering habits?**"
   ]
  },
  {
   "cell_type": "code",
   "execution_count": 99,
   "id": "56faed68",
   "metadata": {},
   "outputs": [],
   "source": [
    "# Compare age_group and orders_day_of_week\n",
    "\n",
    "ct_age_orders_dow = pd.crosstab(df_3['age_group'], df_3['orders_day_of_week'], dropna = False)"
   ]
  },
  {
   "cell_type": "markdown",
   "id": "127dea07",
   "metadata": {},
   "source": [
    "### Visualization 9.5"
   ]
  },
  {
   "cell_type": "code",
   "execution_count": 100,
   "id": "789475e1",
   "metadata": {},
   "outputs": [
    {
     "data": {
      "image/png": "[encoded data removed]",
      "text/plain": [
       "<Figure size 432x288 with 1 Axes>"
      ]
     },
     "metadata": {
      "needs_background": "light"
     },
     "output_type": "display_data"
    }
   ],
   "source": [
    "# Create a bar chart from crosstab age/order day of week\n",
    "\n",
    "bar_age_orders_dow = ct_age_orders_dow.plot.bar(color = sns.color_palette('PuBu'))"
   ]
  },
  {
   "cell_type": "markdown",
   "id": "552eebb2",
   "metadata": {},
   "source": [
    "All age groups have the same ordering pattern. Saturdays is the most busiest days, followed by Sundays.\n",
    "**0 Sunday, 1 Saturday, 2 Monday, 3 Tuesday, 4 Wednesday, 5 Thursday, 6 Friday**"
   ]
  },
  {
   "cell_type": "markdown",
   "id": "2875e131",
   "metadata": {},
   "source": [
    "**‣  Is there a connection between age and family status in terms of ordering habits?**"
   ]
  },
  {
   "cell_type": "code",
   "execution_count": 101,
   "id": "443b8927",
   "metadata": {},
   "outputs": [],
   "source": [
    "# Compare family_status and orders_day_of_week\n",
    "\n",
    "ct_family_orders_dow = pd.crosstab(df_3['fam_status'], df_3['orders_day_of_week'], dropna = False)"
   ]
  },
  {
   "cell_type": "markdown",
   "id": "3c720b43",
   "metadata": {},
   "source": [
    "### Visualization 9.6"
   ]
  },
  {
   "cell_type": "code",
   "execution_count": 102,
   "id": "a04c69fc",
   "metadata": {},
   "outputs": [
    {
     "data": {
      "image/png": "[encoded data removed]",
      "text/plain": [
       "<Figure size 432x288 with 1 Axes>"
      ]
     },
     "metadata": {
      "needs_background": "light"
     },
     "output_type": "display_data"
    }
   ],
   "source": [
    "# Create a bar chart from crosstab family status/order day of week\n",
    "\n",
    "bar_family_orders_dow = ct_family_orders_dow.plot.bar(stacked = True, color = sns.color_palette('Blues'))"
   ]
  },
  {
   "cell_type": "markdown",
   "id": "a6ee4f1c",
   "metadata": {},
   "source": [
    "There are no significant difference between order day of week and family status."
   ]
  },
  {
   "cell_type": "code",
   "execution_count": 103,
   "id": "055144e7",
   "metadata": {},
   "outputs": [],
   "source": [
    "# Compare family_status and order_hour_of_day\n",
    "\n",
    "ct_family_orders_hod = pd.crosstab(df_3['fam_status'], df_3['order_hour_of_day'], dropna = False)"
   ]
  },
  {
   "cell_type": "markdown",
   "id": "e7b51b56",
   "metadata": {},
   "source": [
    "### Visualization 9.7"
   ]
  },
  {
   "cell_type": "code",
   "execution_count": 114,
   "id": "1c81cde2",
   "metadata": {},
   "outputs": [
    {
     "data": {
      "text/plain": [
       "Text(0, 0.5, '')"
      ]
     },
     "execution_count": 114,
     "metadata": {},
     "output_type": "execute_result"
    },
    {
     "data": {
      "image/png": "[encoded data removed]",
      "text/plain": [
       "<Figure size 432x288 with 1 Axes>"
      ]
     },
     "metadata": {},
     "output_type": "display_data"
    }
   ],
   "source": [
    "# Show a pie chart over family status\n",
    "\n",
    "pie_family = df_3['fam_status'].value_counts().plot.pie(autopct='%1.1f%%', colors = sns.color_palette('Set2',2))\n",
    "plt.ylabel('')"
   ]
  },
  {
   "cell_type": "markdown",
   "id": "79ab517b",
   "metadata": {},
   "source": [
    "### Visualization 9.8"
   ]
  },
  {
   "cell_type": "code",
   "execution_count": 105,
   "id": "c9f68287",
   "metadata": {},
   "outputs": [
    {
     "data": {
      "text/plain": [
       "<matplotlib.legend.Legend at 0x7fb490800c70>"
      ]
     },
     "execution_count": 105,
     "metadata": {},
     "output_type": "execute_result"
    },
    {
     "data": {
      "image/png": "[encoded data removed]",
      "text/plain": [
       "<Figure size 432x288 with 1 Axes>"
      ]
     },
     "metadata": {
      "needs_background": "light"
     },
     "output_type": "display_data"
    }
   ],
   "source": [
    "# Stacked bar chart over family status and orders hour of day\n",
    "\n",
    "bar_family_orders_hod = ct_family_orders_hod.plot.bar(stacked = True, color = sns.color_palette('Blues'))\n",
    "plt.legend(bbox_to_anchor=(1.05, 1))"
   ]
  },
  {
   "cell_type": "markdown",
   "id": "d949ee65",
   "metadata": {},
   "source": [
    "Again the pattern looks similair between the different family status groups."
   ]
  },
  {
   "cell_type": "code",
   "execution_count": 122,
   "id": "5545583a",
   "metadata": {},
   "outputs": [],
   "source": [
    "# Define price_label function to dataframe\n",
    "\n",
    "def price_label(row):\n",
    "    \n",
    "    if row['prices'] <=5:\n",
    "        return 'Low range product'\n",
    "    elif (row['prices'] >5) and (row['prices'] <=15):\n",
    "        return 'Mid range product'\n",
    "    elif row ['prices'] >15:\n",
    "        return 'High range product'\n",
    "    else: return np.nan"
   ]
  },
  {
   "cell_type": "code",
   "execution_count": 125,
   "id": "6adb9c37",
   "metadata": {},
   "outputs": [
    {
     "name": "stderr",
     "output_type": "stream",
     "text": [
      "<ipython-input-125-c80d565a771b>:3: SettingWithCopyWarning: \n",
      "A value is trying to be set on a copy of a slice from a DataFrame.\n",
      "Try using .loc[row_indexer,col_indexer] = value instead\n",
      "\n",
      "See the caveats in the documentation: https://pandas.pydata.org/pandas-docs/stable/user_guide/indexing.html#returning-a-view-versus-a-copy\n",
      "  df_3['price_range'] = df_3.apply(price_label, axis=1)\n"
     ]
    }
   ],
   "source": [
    "# Apply the \"price_label\" to dataframe\n",
    "\n",
    "df_3['price_range'] = df_3.apply(price_label, axis=1)"
   ]
  },
  {
   "cell_type": "code",
   "execution_count": 127,
   "id": "387d7164",
   "metadata": {},
   "outputs": [
    {
     "data": {
      "text/plain": [
       "Mid range product     20891775\n",
       "Low range product      9674842\n",
       "High range product      397953\n",
       "NaN                      28919\n",
       "Name: price_range, dtype: int64"
      ]
     },
     "execution_count": 127,
     "metadata": {},
     "output_type": "execute_result"
    }
   ],
   "source": [
    "# Check values in the new column \"price_range\"\n",
    "\n",
    "df_3['price_range'].value_counts(dropna = False)"
   ]
  },
  {
   "cell_type": "markdown",
   "id": "b3177657",
   "metadata": {},
   "source": [
    "### Visualization 9.9"
   ]
  },
  {
   "cell_type": "code",
   "execution_count": 137,
   "id": "02224a6a",
   "metadata": {},
   "outputs": [
    {
     "data": {
      "image/png": "[encoded data removed]",
      "text/plain": [
       "<Figure size 432x288 with 1 Axes>"
      ]
     },
     "metadata": {
      "needs_background": "light"
     },
     "output_type": "display_data"
    }
   ],
   "source": [
    "# Create a bar chart over price range products.\n",
    "\n",
    "bar_price_range = df_3['price_range'].value_counts().sort_index().plot.bar(color = 'purple')"
   ]
  },
  {
   "cell_type": "code",
   "execution_count": 139,
   "id": "43889f14",
   "metadata": {},
   "outputs": [],
   "source": [
    "# Compare region and orders_day_of_week.\n",
    "\n",
    "ct_region_orders_dow = pd.crosstab(df_3['region'], df_3['orders_day_of_week'], dropna = False)"
   ]
  },
  {
   "cell_type": "markdown",
   "id": "0c6638d8",
   "metadata": {},
   "source": [
    "### Visualization 9.10"
   ]
  },
  {
   "cell_type": "code",
   "execution_count": 148,
   "id": "14073ed8",
   "metadata": {},
   "outputs": [
    {
     "data": {
      "text/plain": [
       "<matplotlib.legend.Legend at 0x7fb4a9803250>"
      ]
     },
     "execution_count": 148,
     "metadata": {},
     "output_type": "execute_result"
    },
    {
     "data": {
      "image/png": "[encoded data removed]",
      "text/plain": [
       "<Figure size 432x288 with 1 Axes>"
      ]
     },
     "metadata": {
      "needs_background": "light"
     },
     "output_type": "display_data"
    }
   ],
   "source": [
    "# Create a bar chart from crosstab region / orders day of week\n",
    "\n",
    "bar_region_orders_dow = ct_region_orders_dow.plot.bar(color = sns.color_palette('Oranges'))\n",
    "plt.legend(bbox_to_anchor=(1.05, 1))"
   ]
  },
  {
   "cell_type": "markdown",
   "id": "1b721826",
   "metadata": {},
   "source": [
    "# 9. Visualizations (above, under each customer profiling question)"
   ]
  },
  {
   "cell_type": "markdown",
   "id": "7132054c",
   "metadata": {},
   "source": [
    "# 10. Export visualizations"
   ]
  },
  {
   "cell_type": "code",
   "execution_count": 106,
   "id": "f4d24090",
   "metadata": {},
   "outputs": [],
   "source": [
    "# Export visualizations as image files\n",
    "\n",
    "bar_income_region.figure.savefig(os.path.join(path, '04 Analysis','Visualizations', 'bar_income_region.png'))"
   ]
  },
  {
   "cell_type": "code",
   "execution_count": 118,
   "id": "c0c875dc",
   "metadata": {},
   "outputs": [],
   "source": [
    "# Export visualizations as image files\n",
    "\n",
    "bar_loyalty_orders_hod.figure.savefig(os.path.join(path, '04 Analysis','Visualizations', 'bar_loyalty_orders_hod.png'))"
   ]
  },
  {
   "cell_type": "code",
   "execution_count": 119,
   "id": "64680b7c",
   "metadata": {},
   "outputs": [],
   "source": [
    "# Export visualizations as image files\n",
    "\n",
    "bar_loyalty_ordersdow.figure.savefig(os.path.join(path, '04 Analysis','Visualizations', 'bar_loyalty_ordersdow.png'))"
   ]
  },
  {
   "cell_type": "code",
   "execution_count": 120,
   "id": "c74f2328",
   "metadata": {},
   "outputs": [],
   "source": [
    "# Export visualizations as image files\n",
    "\n",
    "bar_income_region.figure.savefig(os.path.join(path, '04 Analysis','Visualizations', 'bar_income_region.png'))"
   ]
  },
  {
   "cell_type": "code",
   "execution_count": 110,
   "id": "844e50f5",
   "metadata": {},
   "outputs": [],
   "source": [
    "# Export visualizations as image files\n",
    "\n",
    "bar_dependants_region.figure.savefig(os.path.join(path, '04 Analysis','Visualizations', 'bar_dependants_region.png'))"
   ]
  },
  {
   "cell_type": "code",
   "execution_count": 111,
   "id": "3ae59a03",
   "metadata": {},
   "outputs": [],
   "source": [
    "# Export visualizations as image files\n",
    "\n",
    "bar_age_orders_dow.figure.savefig(os.path.join(path, '04 Analysis','Visualizations', 'bar_age_orders_dow.png'))"
   ]
  },
  {
   "cell_type": "code",
   "execution_count": 112,
   "id": "595c9366",
   "metadata": {},
   "outputs": [],
   "source": [
    "# Export visualizations as image files\n",
    "\n",
    "bar_family_orders_dow .figure.savefig(os.path.join(path, '04 Analysis','Visualizations', 'bar_family_orders_dow.png'))"
   ]
  },
  {
   "cell_type": "code",
   "execution_count": 115,
   "id": "91443bee",
   "metadata": {},
   "outputs": [],
   "source": [
    "# Export visualizations as image files\n",
    "\n",
    "pie_family.figure.savefig(os.path.join(path, '04 Analysis','Visualizations', 'pie_family.png'))"
   ]
  },
  {
   "cell_type": "code",
   "execution_count": 116,
   "id": "32a0b4f5",
   "metadata": {},
   "outputs": [],
   "source": [
    "# Export visualizations as image files\n",
    "\n",
    "bar_family_orders_hod .figure.savefig(os.path.join(path, '04 Analysis','Visualizations', 'bar_family_orders_hod.png'))"
   ]
  },
  {
   "cell_type": "code",
   "execution_count": 138,
   "id": "8d5cf798",
   "metadata": {},
   "outputs": [],
   "source": [
    "# Export visualizations as image files\n",
    "\n",
    "bar_price_range.figure.savefig(os.path.join(path, '04 Analysis','Visualizations', 'bar_price_range.png'))"
   ]
  },
  {
   "cell_type": "code",
   "execution_count": 150,
   "id": "977ded72",
   "metadata": {},
   "outputs": [],
   "source": [
    "# Export visualizations as image files\n",
    "\n",
    "bar_region_orders_dow.figure.savefig(os.path.join(path, '04 Analysis','Visualizations', 'bar_region_orders_dow.png'))"
   ]
  },
  {
   "cell_type": "markdown",
   "id": "cad3396a",
   "metadata": {},
   "source": [
    "# 11. Export data"
   ]
  },
  {
   "cell_type": "code",
   "execution_count": 117,
   "id": "fe29933c",
   "metadata": {},
   "outputs": [],
   "source": [
    "# Export dataframe in pickle format to Prepared data\n",
    "\n",
    "df_3.to_pickle(os.path.join(path, '02 Data','Prepared Data', 'orders_products_latest.pkl'))"
   ]
  },
  {
   "cell_type": "code",
   "execution_count": null,
   "id": "a5c7372b",
   "metadata": {},
   "outputs": [],
   "source": []
  }
 ],
 "metadata": {
  "kernelspec": {
   "display_name": "Python 3",
   "language": "python",
   "name": "python3"
  },
  "language_info": {
   "codemirror_mode": {
    "name": "ipython",
    "version": 3
   },
   "file_extension": ".py",
   "mimetype": "text/x-python",
   "name": "python",
   "nbconvert_exporter": "python",
   "pygments_lexer": "ipython3",
   "version": "3.8.8"
  }
 },
 "nbformat": 4,
 "nbformat_minor": 5
}
