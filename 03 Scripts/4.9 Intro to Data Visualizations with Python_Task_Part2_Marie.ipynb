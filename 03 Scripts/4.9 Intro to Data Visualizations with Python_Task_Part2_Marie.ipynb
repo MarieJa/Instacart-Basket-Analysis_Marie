{
 "cells": [
  {
   "cell_type": "markdown",
   "id": "67d42d9b",
   "metadata": {},
   "source": [
    "# 4.9 Intro to Data Visualizations with Python\n",
    "# Part 2"
   ]
  },
  {
   "cell_type": "markdown",
   "id": "c45dde6f",
   "metadata": {},
   "source": [
    "1. Import libraries (direction 1)"
   ]
  },
  {
   "cell_type": "markdown",
   "id": "b11f869a",
   "metadata": {},
   "source": [
    "2. Import data (direction 1)"
   ]
  },
  {
   "cell_type": "markdown",
   "id": "3243976a",
   "metadata": {},
   "source": [
    "3. Histogram (direction 3)"
   ]
  },
  {
   "cell_type": "markdown",
   "id": "60192cb5",
   "metadata": {},
   "source": [
    "4. Bar chart (direction 4)"
   ]
  },
  {
   "cell_type": "markdown",
   "id": "a4e61c0d",
   "metadata": {},
   "source": [
    "5. Line chart (direction 5 and 6)"
   ]
  },
  {
   "cell_type": "markdown",
   "id": "40e2d00b",
   "metadata": {},
   "source": [
    "6. Scatterplot (direction 7)"
   ]
  },
  {
   "cell_type": "markdown",
   "id": "014b6b5b",
   "metadata": {},
   "source": [
    "7. Export visualizations (direction 8)"
   ]
  },
  {
   "cell_type": "markdown",
   "id": "423dd697",
   "metadata": {},
   "source": [
    "# 1. Import libraries"
   ]
  },
  {
   "cell_type": "code",
   "execution_count": 1,
   "id": "9b8596dd",
   "metadata": {},
   "outputs": [],
   "source": [
    "import pandas as pd\n",
    "import numpy as np\n",
    "import os\n",
    "import matplotlib.pyplot as plt\n",
    "import seaborn as sns\n",
    "import scipy"
   ]
  },
  {
   "cell_type": "markdown",
   "id": "d2dd24be",
   "metadata": {},
   "source": [
    "# 2. Import data"
   ]
  },
  {
   "cell_type": "code",
   "execution_count": 2,
   "id": "7956eb52",
   "metadata": {},
   "outputs": [],
   "source": [
    "# Create a path\n",
    "\n",
    "path = r'/Users/marie/Documents/CareerFoundry/09-2021 Instacart Basket Analysis'"
   ]
  },
  {
   "cell_type": "code",
   "execution_count": 3,
   "id": "4b2412d7",
   "metadata": {},
   "outputs": [],
   "source": [
    "ords_prods = pd.read_pickle(os.path.join(path, '02 Data', 'Prepared Data', 'orders_products_current.pkl'))"
   ]
  },
  {
   "cell_type": "code",
   "execution_count": 4,
   "id": "042afcd7",
   "metadata": {},
   "outputs": [
    {
     "data": {
      "text/html": [
       "<div>\n",
       "<style scoped>\n",
       "    .dataframe tbody tr th:only-of-type {\n",
       "        vertical-align: middle;\n",
       "    }\n",
       "\n",
       "    .dataframe tbody tr th {\n",
       "        vertical-align: top;\n",
       "    }\n",
       "\n",
       "    .dataframe thead th {\n",
       "        text-align: right;\n",
       "    }\n",
       "</style>\n",
       "<table border=\"1\" class=\"dataframe\">\n",
       "  <thead>\n",
       "    <tr style=\"text-align: right;\">\n",
       "      <th></th>\n",
       "      <th>order_id</th>\n",
       "      <th>user_id</th>\n",
       "      <th>order_number</th>\n",
       "      <th>orders_day_of_week</th>\n",
       "      <th>order_hour_of_day</th>\n",
       "      <th>days_since_prior_order</th>\n",
       "      <th>product_id</th>\n",
       "      <th>add_to_cart_order</th>\n",
       "      <th>reordered</th>\n",
       "      <th>_merge</th>\n",
       "      <th>...</th>\n",
       "      <th>loyalty_flag</th>\n",
       "      <th>first_name</th>\n",
       "      <th>last_name</th>\n",
       "      <th>gender</th>\n",
       "      <th>state</th>\n",
       "      <th>age</th>\n",
       "      <th>date_joined</th>\n",
       "      <th>n_dependants</th>\n",
       "      <th>fam_status</th>\n",
       "      <th>income</th>\n",
       "    </tr>\n",
       "  </thead>\n",
       "  <tbody>\n",
       "    <tr>\n",
       "      <th>0</th>\n",
       "      <td>2539329</td>\n",
       "      <td>1</td>\n",
       "      <td>1</td>\n",
       "      <td>2</td>\n",
       "      <td>8</td>\n",
       "      <td>NaN</td>\n",
       "      <td>196</td>\n",
       "      <td>1</td>\n",
       "      <td>0</td>\n",
       "      <td>both</td>\n",
       "      <td>...</td>\n",
       "      <td>New customer</td>\n",
       "      <td>Linda</td>\n",
       "      <td>Nguyen</td>\n",
       "      <td>Female</td>\n",
       "      <td>Alabama</td>\n",
       "      <td>31</td>\n",
       "      <td>2/17/2019</td>\n",
       "      <td>3</td>\n",
       "      <td>married</td>\n",
       "      <td>40423</td>\n",
       "    </tr>\n",
       "    <tr>\n",
       "      <th>1</th>\n",
       "      <td>2539329</td>\n",
       "      <td>1</td>\n",
       "      <td>1</td>\n",
       "      <td>2</td>\n",
       "      <td>8</td>\n",
       "      <td>NaN</td>\n",
       "      <td>14084</td>\n",
       "      <td>2</td>\n",
       "      <td>0</td>\n",
       "      <td>both</td>\n",
       "      <td>...</td>\n",
       "      <td>New customer</td>\n",
       "      <td>Linda</td>\n",
       "      <td>Nguyen</td>\n",
       "      <td>Female</td>\n",
       "      <td>Alabama</td>\n",
       "      <td>31</td>\n",
       "      <td>2/17/2019</td>\n",
       "      <td>3</td>\n",
       "      <td>married</td>\n",
       "      <td>40423</td>\n",
       "    </tr>\n",
       "    <tr>\n",
       "      <th>2</th>\n",
       "      <td>2539329</td>\n",
       "      <td>1</td>\n",
       "      <td>1</td>\n",
       "      <td>2</td>\n",
       "      <td>8</td>\n",
       "      <td>NaN</td>\n",
       "      <td>12427</td>\n",
       "      <td>3</td>\n",
       "      <td>0</td>\n",
       "      <td>both</td>\n",
       "      <td>...</td>\n",
       "      <td>New customer</td>\n",
       "      <td>Linda</td>\n",
       "      <td>Nguyen</td>\n",
       "      <td>Female</td>\n",
       "      <td>Alabama</td>\n",
       "      <td>31</td>\n",
       "      <td>2/17/2019</td>\n",
       "      <td>3</td>\n",
       "      <td>married</td>\n",
       "      <td>40423</td>\n",
       "    </tr>\n",
       "    <tr>\n",
       "      <th>3</th>\n",
       "      <td>2539329</td>\n",
       "      <td>1</td>\n",
       "      <td>1</td>\n",
       "      <td>2</td>\n",
       "      <td>8</td>\n",
       "      <td>NaN</td>\n",
       "      <td>26088</td>\n",
       "      <td>4</td>\n",
       "      <td>0</td>\n",
       "      <td>both</td>\n",
       "      <td>...</td>\n",
       "      <td>New customer</td>\n",
       "      <td>Linda</td>\n",
       "      <td>Nguyen</td>\n",
       "      <td>Female</td>\n",
       "      <td>Alabama</td>\n",
       "      <td>31</td>\n",
       "      <td>2/17/2019</td>\n",
       "      <td>3</td>\n",
       "      <td>married</td>\n",
       "      <td>40423</td>\n",
       "    </tr>\n",
       "    <tr>\n",
       "      <th>4</th>\n",
       "      <td>2539329</td>\n",
       "      <td>1</td>\n",
       "      <td>1</td>\n",
       "      <td>2</td>\n",
       "      <td>8</td>\n",
       "      <td>NaN</td>\n",
       "      <td>26405</td>\n",
       "      <td>5</td>\n",
       "      <td>0</td>\n",
       "      <td>both</td>\n",
       "      <td>...</td>\n",
       "      <td>New customer</td>\n",
       "      <td>Linda</td>\n",
       "      <td>Nguyen</td>\n",
       "      <td>Female</td>\n",
       "      <td>Alabama</td>\n",
       "      <td>31</td>\n",
       "      <td>2/17/2019</td>\n",
       "      <td>3</td>\n",
       "      <td>married</td>\n",
       "      <td>40423</td>\n",
       "    </tr>\n",
       "  </tbody>\n",
       "</table>\n",
       "<p>5 rows × 32 columns</p>\n",
       "</div>"
      ],
      "text/plain": [
       "   order_id  user_id  order_number  orders_day_of_week  order_hour_of_day  \\\n",
       "0   2539329        1             1                   2                  8   \n",
       "1   2539329        1             1                   2                  8   \n",
       "2   2539329        1             1                   2                  8   \n",
       "3   2539329        1             1                   2                  8   \n",
       "4   2539329        1             1                   2                  8   \n",
       "\n",
       "   days_since_prior_order  product_id  add_to_cart_order  reordered _merge  \\\n",
       "0                     NaN         196                  1          0   both   \n",
       "1                     NaN       14084                  2          0   both   \n",
       "2                     NaN       12427                  3          0   both   \n",
       "3                     NaN       26088                  4          0   both   \n",
       "4                     NaN       26405                  5          0   both   \n",
       "\n",
       "   ...  loyalty_flag  first_name last_name  gender    state  age date_joined  \\\n",
       "0  ...  New customer       Linda    Nguyen  Female  Alabama   31   2/17/2019   \n",
       "1  ...  New customer       Linda    Nguyen  Female  Alabama   31   2/17/2019   \n",
       "2  ...  New customer       Linda    Nguyen  Female  Alabama   31   2/17/2019   \n",
       "3  ...  New customer       Linda    Nguyen  Female  Alabama   31   2/17/2019   \n",
       "4  ...  New customer       Linda    Nguyen  Female  Alabama   31   2/17/2019   \n",
       "\n",
       "  n_dependants fam_status income  \n",
       "0            3    married  40423  \n",
       "1            3    married  40423  \n",
       "2            3    married  40423  \n",
       "3            3    married  40423  \n",
       "4            3    married  40423  \n",
       "\n",
       "[5 rows x 32 columns]"
      ]
     },
     "execution_count": 4,
     "metadata": {},
     "output_type": "execute_result"
    }
   ],
   "source": [
    "# Check the imported data\n",
    "\n",
    "ords_prods.head()"
   ]
  },
  {
   "cell_type": "markdown",
   "id": "b39a53ed",
   "metadata": {},
   "source": [
    "# 3. Histogram"
   ]
  },
  {
   "cell_type": "markdown",
   "id": "dec70881",
   "metadata": {},
   "source": [
    "**Direction 3.** You need to provide the Instacart senior stakeholders with descriptive findings about sales. Create a histogram of the “order_hour_of_day” column.\n",
    "In a markdown cell beneath your histogram, describe what the histogram demonstrates."
   ]
  },
  {
   "cell_type": "code",
   "execution_count": 5,
   "id": "c1901c03",
   "metadata": {},
   "outputs": [
    {
     "data": {
      "image/png": "[encoded data removed]",
      "text/plain": [
       "<Figure size 432x288 with 1 Axes>"
      ]
     },
     "metadata": {
      "needs_background": "light"
     },
     "output_type": "display_data"
    }
   ],
   "source": [
    "# Create a histogram of the \"order_hour_of_day\" column\n",
    "\n",
    "hist = ords_prods['order_hour_of_day'].plot.hist(bins = 60)"
   ]
  },
  {
   "cell_type": "markdown",
   "id": "34c0d145",
   "metadata": {},
   "source": [
    "**Answer: The busiest hours of day is between ~9-17, when the most orders are placed.**"
   ]
  },
  {
   "cell_type": "markdown",
   "id": "1729aa2a",
   "metadata": {},
   "source": [
    "# 4. Bar chart"
   ]
  },
  {
   "cell_type": "markdown",
   "id": "ab25f82a",
   "metadata": {},
   "source": [
    "**Direction 4.** The marketing team is curious about the distribution of orders among customers in terms of loyalty. Create a bar chart from the “loyalty_flag” column."
   ]
  },
  {
   "cell_type": "code",
   "execution_count": 6,
   "id": "f3c64e0c",
   "metadata": {},
   "outputs": [
    {
     "data": {
      "image/png": "[encoded data removed]",
      "text/plain": [
       "<Figure size 432x288 with 1 Axes>"
      ]
     },
     "metadata": {
      "needs_background": "light"
     },
     "output_type": "display_data"
    }
   ],
   "source": [
    "# Create a bar chart from the \"loyalty_flag column\"\n",
    "\n",
    "bar = ords_prods['loyalty_flag'].value_counts().plot.bar(color =['purple', 'red', 'pink'])"
   ]
  },
  {
   "cell_type": "markdown",
   "id": "cc5b0cdc",
   "metadata": {},
   "source": [
    "**Answer: The Bar chart from the loyalty flag shows that Regular customer is around 1,6, Loyal around 1,0 and New customers around 0,6 millions.**"
   ]
  },
  {
   "cell_type": "markdown",
   "id": "56c8a825",
   "metadata": {},
   "source": [
    "# 5. Line chart"
   ]
  },
  {
   "cell_type": "markdown",
   "id": "ca683ea7",
   "metadata": {},
   "source": [
    "**Direction 5.** Check whether there’s a difference in expenditure (the “prices” column) depending on the hour of the day. (Hint: To check this, you need to use an accurate sample for your line chart!)"
   ]
  },
  {
   "cell_type": "code",
   "execution_count": 7,
   "id": "9df1722d",
   "metadata": {},
   "outputs": [],
   "source": [
    "# Create a sample with random numbers\n",
    "\n",
    "np.random.seed(4)\n",
    "dev = np.random.rand(len(ords_prods)) <= 0.7"
   ]
  },
  {
   "cell_type": "code",
   "execution_count": 8,
   "id": "3e75a3d3",
   "metadata": {},
   "outputs": [
    {
     "data": {
      "text/plain": [
       "array([False,  True, False, ...,  True,  True,  True])"
      ]
     },
     "execution_count": 8,
     "metadata": {},
     "output_type": "execute_result"
    }
   ],
   "source": [
    "# Check the output\n",
    "\n",
    "dev"
   ]
  },
  {
   "cell_type": "code",
   "execution_count": 9,
   "id": "fc002b45",
   "metadata": {},
   "outputs": [],
   "source": [
    "# Split the dataframe into two samples\n",
    "\n",
    "big = ords_prods[dev]\n",
    "small = ords_prods[~dev]"
   ]
  },
  {
   "cell_type": "code",
   "execution_count": 10,
   "id": "bd0561a0",
   "metadata": {},
   "outputs": [
    {
     "data": {
      "text/plain": [
       "32435059"
      ]
     },
     "execution_count": 10,
     "metadata": {},
     "output_type": "execute_result"
    }
   ],
   "source": [
    "# Check the result and see if the rows in the two samples are the same as in the original dataframe.\n",
    "\n",
    "len(ords_prods)"
   ]
  },
  {
   "cell_type": "code",
   "execution_count": 11,
   "id": "f464d511",
   "metadata": {},
   "outputs": [
    {
     "data": {
      "text/plain": [
       "32435059"
      ]
     },
     "execution_count": 11,
     "metadata": {},
     "output_type": "execute_result"
    }
   ],
   "source": [
    "len(big) + len(small)"
   ]
  },
  {
   "cell_type": "code",
   "execution_count": 12,
   "id": "28f592d2",
   "metadata": {},
   "outputs": [],
   "source": [
    "# Create a new dataframe that contains only the \"prices\" and \"order_hour_of_day\" for the small subset\n",
    "\n",
    "df = small[['order_hour_of_day','prices']]"
   ]
  },
  {
   "cell_type": "code",
   "execution_count": 13,
   "id": "ba9b1039",
   "metadata": {},
   "outputs": [
    {
     "data": {
      "image/png": "[encoded data removed]",
      "text/plain": [
       "<Figure size 432x288 with 1 Axes>"
      ]
     },
     "metadata": {
      "needs_background": "light"
     },
     "output_type": "display_data"
    }
   ],
   "source": [
    "# Create a line chart with the small sample data -df\n",
    "\n",
    "line = sns.lineplot(data = df, x = 'order_hour_of_day',y = 'prices')"
   ]
  },
  {
   "cell_type": "markdown",
   "id": "3a4da3cb",
   "metadata": {},
   "source": [
    "**Answer: There seams to be a peak regarding prices around 5 in the morning. Could it be that customers are ordering something urgently and then the price doesn´t matter(?). There is also a peak around 19 in the evening, this is probably caused by unplanned dinners.**"
   ]
  },
  {
   "cell_type": "markdown",
   "id": "e11c5978",
   "metadata": {},
   "source": [
    "**Direction 6.**\n",
    "Now that you have information about customers, you need to conduct some exploratory analysis of customer \n",
    "demographics to inform the targeted marketing campaigns. First, determine whether there’s a connection between \n",
    "age and family status by creating a line chart exploring the connections between age and number of dependents."
   ]
  },
  {
   "cell_type": "code",
   "execution_count": 14,
   "id": "7a6c2c0d",
   "metadata": {},
   "outputs": [],
   "source": [
    "# Create a new dataframe that contains only the \"age\" and \"n_dependants\" for the small subset\n",
    "\n",
    "df_2 = small[['age','n_dependants']]"
   ]
  },
  {
   "cell_type": "code",
   "execution_count": 15,
   "id": "65ea3935",
   "metadata": {},
   "outputs": [
    {
     "data": {
      "image/png": "[encoded data removed]",
      "text/plain": [
       "<Figure size 432x288 with 1 Axes>"
      ]
     },
     "metadata": {
      "needs_background": "light"
     },
     "output_type": "display_data"
    }
   ],
   "source": [
    "line_2 = sns.lineplot(data = df_2, x = 'age',y = 'n_dependants')"
   ]
  },
  {
   "cell_type": "markdown",
   "id": "ee9a3532",
   "metadata": {},
   "source": [
    "**Answer: There not seams to be some special connections between number of dependants and age. It goes up and down. A little bit more number of dependants for the older customers (except for 19-20 years old).**"
   ]
  },
  {
   "cell_type": "markdown",
   "id": "2944353f",
   "metadata": {},
   "source": [
    "# 6. Scatterplot"
   ]
  },
  {
   "cell_type": "markdown",
   "id": "768f6675",
   "metadata": {},
   "source": [
    "**Direction 7.** You’ll also need to explore whether there’s a connection between age and spending power. To visualize this relationship, create a scatterplot using the sns.scatterplot() function.\n",
    "In a markdown cell beneath your scatterplot, describe what the scatterplot shows."
   ]
  },
  {
   "cell_type": "code",
   "execution_count": 16,
   "id": "c270324f",
   "metadata": {},
   "outputs": [
    {
     "data": {
      "image/png": "[encoded data removed]",
      "text/plain": [
       "<Figure size 432x288 with 1 Axes>"
      ]
     },
     "metadata": {
      "needs_background": "light"
     },
     "output_type": "display_data"
    }
   ],
   "source": [
    "# Create a Scatterplot\n",
    "\n",
    "scatter = sns.scatterplot(x = 'age', y = 'income',data = ords_prods)"
   ]
  },
  {
   "cell_type": "markdown",
   "id": "7c865289",
   "metadata": {},
   "source": [
    "**Answer: There are more spending power above the age of 40**"
   ]
  },
  {
   "cell_type": "markdown",
   "id": "48c7ecdc",
   "metadata": {},
   "source": [
    "# 7. Export visualizations "
   ]
  },
  {
   "cell_type": "markdown",
   "id": "357a36c3",
   "metadata": {},
   "source": [
    "**Direction 8.** Export your visualizations as “.png” files in your relevant project folder."
   ]
  },
  {
   "cell_type": "code",
   "execution_count": 17,
   "id": "3c89c13a",
   "metadata": {},
   "outputs": [],
   "source": [
    "# Export bar visualizations as an image file\n",
    "\n",
    "bar.figure.savefig(os.path.join(path, '04 Analysis','Visualizations', 'bar_loyalty.png'))"
   ]
  },
  {
   "cell_type": "code",
   "execution_count": 18,
   "id": "3ee8809a",
   "metadata": {},
   "outputs": [],
   "source": [
    "# Export histogram visualizations as an image file\n",
    "\n",
    "hist.figure.savefig(os.path.join(path, '04 Analysis','Visualizations', 'hist_order_hourofday.png'))"
   ]
  },
  {
   "cell_type": "code",
   "execution_count": 19,
   "id": "ca09f58c",
   "metadata": {},
   "outputs": [],
   "source": [
    "# Export line visualizations as an image file\n",
    "\n",
    "line.figure.savefig(os.path.join(path, '04 Analysis','Visualizations', 'line_prices_hourofday.png'))"
   ]
  },
  {
   "cell_type": "code",
   "execution_count": 20,
   "id": "60068f3b",
   "metadata": {},
   "outputs": [],
   "source": [
    "# Export line_2 visualizations as an image file\n",
    "\n",
    "line_2.figure.savefig(os.path.join(path, '04 Analysis','Visualizations', 'line_age_dependants.png'))"
   ]
  },
  {
   "cell_type": "code",
   "execution_count": null,
   "id": "fad167b3",
   "metadata": {},
   "outputs": [],
   "source": [
    "# Export line visualizations as an image file\n",
    "\n",
    "scatter.figure.savefig(os.path.join(path, '04 Analysis','Visualizations', 'scatter_age_income.png'))"
   ]
  },
  {
   "cell_type": "code",
   "execution_count": null,
   "id": "8ee1bb93",
   "metadata": {},
   "outputs": [],
   "source": []
  }
 ],
 "metadata": {
  "kernelspec": {
   "display_name": "Python 3",
   "language": "python",
   "name": "python3"
  },
  "language_info": {
   "codemirror_mode": {
    "name": "ipython",
    "version": 3
   },
   "file_extension": ".py",
   "mimetype": "text/x-python",
   "name": "python",
   "nbconvert_exporter": "python",
   "pygments_lexer": "ipython3",
   "version": "3.8.8"
  }
 },
 "nbformat": 4,
 "nbformat_minor": 5
}
