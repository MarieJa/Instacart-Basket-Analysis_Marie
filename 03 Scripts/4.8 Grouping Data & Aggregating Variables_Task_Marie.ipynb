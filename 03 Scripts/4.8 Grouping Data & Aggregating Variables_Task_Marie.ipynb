{
 "cells": [
  {
   "cell_type": "markdown",
   "id": "63069d54",
   "metadata": {},
   "source": [
    "# 4.8 Grouping Data & Aggregating Variables"
   ]
  },
  {
   "cell_type": "markdown",
   "id": "12a58011",
   "metadata": {},
   "source": [
    "1. Import libraries"
   ]
  },
  {
   "cell_type": "markdown",
   "id": "090f5448",
   "metadata": {},
   "source": [
    "2. Import data"
   ]
  },
  {
   "cell_type": "markdown",
   "id": "367c2bd1",
   "metadata": {},
   "source": [
    "3. Direction 2"
   ]
  },
  {
   "cell_type": "markdown",
   "id": "d98d8f9b",
   "metadata": {},
   "source": [
    "4. Directions 4-5"
   ]
  },
  {
   "cell_type": "markdown",
   "id": "c04f88d7",
   "metadata": {},
   "source": [
    "5. Direction 6"
   ]
  },
  {
   "cell_type": "markdown",
   "id": "4800f3b8",
   "metadata": {},
   "source": [
    "6. Direction 7"
   ]
  },
  {
   "cell_type": "markdown",
   "id": "cd533f92",
   "metadata": {},
   "source": [
    "7. Export data"
   ]
  },
  {
   "cell_type": "markdown",
   "id": "eff8fb02",
   "metadata": {},
   "source": [
    "# 1. Import libraries"
   ]
  },
  {
   "cell_type": "code",
   "execution_count": 2,
   "id": "af5c3040",
   "metadata": {},
   "outputs": [],
   "source": [
    "# Import libraries\n",
    "\n",
    "import pandas as pd\n",
    "import numpy as np\n",
    "import os"
   ]
  },
  {
   "cell_type": "markdown",
   "id": "fcf75b81",
   "metadata": {},
   "source": [
    "# 2. Import data"
   ]
  },
  {
   "cell_type": "code",
   "execution_count": 3,
   "id": "c828f8bc",
   "metadata": {},
   "outputs": [],
   "source": [
    "# Create a path\n",
    "\n",
    "path = r'/Users/marie/Documents/CareerFoundry/09-2021 Instacart Basket Analysis'"
   ]
  },
  {
   "cell_type": "code",
   "execution_count": 4,
   "id": "3e865d2e",
   "metadata": {},
   "outputs": [],
   "source": [
    "# Import data\n",
    "\n",
    "ords_prods_merge = pd.read_pickle(os.path.join(path, '02 Data', 'Prepared Data', 'orders_products_latest.pkl'))"
   ]
  },
  {
   "cell_type": "markdown",
   "id": "20bf319b",
   "metadata": {},
   "source": [
    "# 3. Direction 2\n",
    "In this Exercise, you learned how to find the aggregated mean of the “order_number” column grouped by “department_id” for a subset of your dataframe. Now, repeat this process for the entire dataframe."
   ]
  },
  {
   "cell_type": "code",
   "execution_count": 5,
   "id": "4dcf7118",
   "metadata": {},
   "outputs": [
    {
     "data": {
      "text/html": [
       "<div>\n",
       "<style scoped>\n",
       "    .dataframe tbody tr th:only-of-type {\n",
       "        vertical-align: middle;\n",
       "    }\n",
       "\n",
       "    .dataframe tbody tr th {\n",
       "        vertical-align: top;\n",
       "    }\n",
       "\n",
       "    .dataframe thead tr th {\n",
       "        text-align: left;\n",
       "    }\n",
       "\n",
       "    .dataframe thead tr:last-of-type th {\n",
       "        text-align: right;\n",
       "    }\n",
       "</style>\n",
       "<table border=\"1\" class=\"dataframe\">\n",
       "  <thead>\n",
       "    <tr>\n",
       "      <th></th>\n",
       "      <th>order_number</th>\n",
       "    </tr>\n",
       "    <tr>\n",
       "      <th></th>\n",
       "      <th>mean</th>\n",
       "    </tr>\n",
       "    <tr>\n",
       "      <th>department_id</th>\n",
       "      <th></th>\n",
       "    </tr>\n",
       "  </thead>\n",
       "  <tbody>\n",
       "    <tr>\n",
       "      <th>1.0</th>\n",
       "      <td>15.457838</td>\n",
       "    </tr>\n",
       "    <tr>\n",
       "      <th>2.0</th>\n",
       "      <td>17.277920</td>\n",
       "    </tr>\n",
       "    <tr>\n",
       "      <th>3.0</th>\n",
       "      <td>17.170395</td>\n",
       "    </tr>\n",
       "    <tr>\n",
       "      <th>4.0</th>\n",
       "      <td>17.811403</td>\n",
       "    </tr>\n",
       "    <tr>\n",
       "      <th>5.0</th>\n",
       "      <td>15.215751</td>\n",
       "    </tr>\n",
       "    <tr>\n",
       "      <th>6.0</th>\n",
       "      <td>16.439806</td>\n",
       "    </tr>\n",
       "    <tr>\n",
       "      <th>7.0</th>\n",
       "      <td>17.225802</td>\n",
       "    </tr>\n",
       "    <tr>\n",
       "      <th>8.0</th>\n",
       "      <td>15.340650</td>\n",
       "    </tr>\n",
       "    <tr>\n",
       "      <th>9.0</th>\n",
       "      <td>15.895474</td>\n",
       "    </tr>\n",
       "    <tr>\n",
       "      <th>10.0</th>\n",
       "      <td>20.197148</td>\n",
       "    </tr>\n",
       "    <tr>\n",
       "      <th>11.0</th>\n",
       "      <td>16.170638</td>\n",
       "    </tr>\n",
       "    <tr>\n",
       "      <th>12.0</th>\n",
       "      <td>15.887671</td>\n",
       "    </tr>\n",
       "    <tr>\n",
       "      <th>13.0</th>\n",
       "      <td>16.583536</td>\n",
       "    </tr>\n",
       "    <tr>\n",
       "      <th>14.0</th>\n",
       "      <td>16.773669</td>\n",
       "    </tr>\n",
       "    <tr>\n",
       "      <th>15.0</th>\n",
       "      <td>16.165037</td>\n",
       "    </tr>\n",
       "    <tr>\n",
       "      <th>16.0</th>\n",
       "      <td>17.665606</td>\n",
       "    </tr>\n",
       "    <tr>\n",
       "      <th>17.0</th>\n",
       "      <td>15.694469</td>\n",
       "    </tr>\n",
       "    <tr>\n",
       "      <th>18.0</th>\n",
       "      <td>19.310397</td>\n",
       "    </tr>\n",
       "    <tr>\n",
       "      <th>19.0</th>\n",
       "      <td>17.177343</td>\n",
       "    </tr>\n",
       "    <tr>\n",
       "      <th>20.0</th>\n",
       "      <td>16.473447</td>\n",
       "    </tr>\n",
       "    <tr>\n",
       "      <th>21.0</th>\n",
       "      <td>22.902379</td>\n",
       "    </tr>\n",
       "  </tbody>\n",
       "</table>\n",
       "</div>"
      ],
      "text/plain": [
       "              order_number\n",
       "                      mean\n",
       "department_id             \n",
       "1.0              15.457838\n",
       "2.0              17.277920\n",
       "3.0              17.170395\n",
       "4.0              17.811403\n",
       "5.0              15.215751\n",
       "6.0              16.439806\n",
       "7.0              17.225802\n",
       "8.0              15.340650\n",
       "9.0              15.895474\n",
       "10.0             20.197148\n",
       "11.0             16.170638\n",
       "12.0             15.887671\n",
       "13.0             16.583536\n",
       "14.0             16.773669\n",
       "15.0             16.165037\n",
       "16.0             17.665606\n",
       "17.0             15.694469\n",
       "18.0             19.310397\n",
       "19.0             17.177343\n",
       "20.0             16.473447\n",
       "21.0             22.902379"
      ]
     },
     "execution_count": 5,
     "metadata": {},
     "output_type": "execute_result"
    }
   ],
   "source": [
    "# Split the dataframe into groups based on “department_id.”\n",
    "# Apply the agg() function to each group to obtain the mean values for the “order_number” column.\n",
    "\n",
    "ords_prods_merge.groupby('department_id').agg({'order_number': ['mean']})"
   ]
  },
  {
   "cell_type": "markdown",
   "id": "4d1ce24d",
   "metadata": {},
   "source": [
    "**Answer: In the Exercise I only used a subset of the dataframe (1 000 000 rows) so the mean values are a little bit higher in this command since I used the entire dataframe** "
   ]
  },
  {
   "cell_type": "markdown",
   "id": "120c0ad8",
   "metadata": {},
   "source": [
    "# 4. Directions 4-5\n",
    "Follow the instructions in the Exercise for creating a loyalty flag for existing customers using the transform() and loc() functions.\n",
    "\n",
    "The marketing team at Instacart wants to know whether there’s a difference between the spending habits of the three types of customers you identified. Use the loyalty flag you created and check the basic statistics of the product prices for each loyalty category (Loyal Customer, Regular Customer, and New Customer). What you’re trying to determine is whether the prices of products purchased by loyal customers differ from those purchased by regular or new customers."
   ]
  },
  {
   "cell_type": "code",
   "execution_count": 6,
   "id": "beb74aa9",
   "metadata": {},
   "outputs": [
    {
     "data": {
      "text/html": [
       "<div>\n",
       "<style scoped>\n",
       "    .dataframe tbody tr th:only-of-type {\n",
       "        vertical-align: middle;\n",
       "    }\n",
       "\n",
       "    .dataframe tbody tr th {\n",
       "        vertical-align: top;\n",
       "    }\n",
       "\n",
       "    .dataframe thead th {\n",
       "        text-align: right;\n",
       "    }\n",
       "</style>\n",
       "<table border=\"1\" class=\"dataframe\">\n",
       "  <thead>\n",
       "    <tr style=\"text-align: right;\">\n",
       "      <th></th>\n",
       "      <th>order_id</th>\n",
       "      <th>user_id</th>\n",
       "      <th>order_number</th>\n",
       "      <th>orders_day_of_week</th>\n",
       "      <th>order_hour_of_day</th>\n",
       "      <th>days_since_prior_order</th>\n",
       "      <th>product_id</th>\n",
       "      <th>add_to_cart_order</th>\n",
       "      <th>reordered</th>\n",
       "      <th>_merge</th>\n",
       "      <th>...</th>\n",
       "      <th>aisle_id</th>\n",
       "      <th>department_id</th>\n",
       "      <th>prices</th>\n",
       "      <th>price_range_loc</th>\n",
       "      <th>busiest_day</th>\n",
       "      <th>busiest_days</th>\n",
       "      <th>Busiest days</th>\n",
       "      <th>busiest_period_of_day</th>\n",
       "      <th>max_order</th>\n",
       "      <th>loyalty_flag</th>\n",
       "    </tr>\n",
       "  </thead>\n",
       "  <tbody>\n",
       "    <tr>\n",
       "      <th>0</th>\n",
       "      <td>2539329</td>\n",
       "      <td>1</td>\n",
       "      <td>1</td>\n",
       "      <td>2</td>\n",
       "      <td>8</td>\n",
       "      <td>NaN</td>\n",
       "      <td>196</td>\n",
       "      <td>1</td>\n",
       "      <td>0</td>\n",
       "      <td>both</td>\n",
       "      <td>...</td>\n",
       "      <td>77.0</td>\n",
       "      <td>7.0</td>\n",
       "      <td>9.0</td>\n",
       "      <td>Mid range product</td>\n",
       "      <td>Regularly busy</td>\n",
       "      <td>Regular days</td>\n",
       "      <td>Regularly busy</td>\n",
       "      <td>Average orders</td>\n",
       "      <td>10</td>\n",
       "      <td>New customer</td>\n",
       "    </tr>\n",
       "  </tbody>\n",
       "</table>\n",
       "<p>1 rows × 23 columns</p>\n",
       "</div>"
      ],
      "text/plain": [
       "   order_id  user_id  order_number  orders_day_of_week  order_hour_of_day  \\\n",
       "0   2539329        1             1                   2                  8   \n",
       "\n",
       "   days_since_prior_order  product_id  add_to_cart_order  reordered _merge  \\\n",
       "0                     NaN         196                  1          0   both   \n",
       "\n",
       "   ...  aisle_id  department_id prices    price_range_loc     busiest_day  \\\n",
       "0  ...      77.0            7.0    9.0  Mid range product  Regularly busy   \n",
       "\n",
       "   busiest_days    Busiest days busiest_period_of_day max_order  loyalty_flag  \n",
       "0  Regular days  Regularly busy        Average orders        10  New customer  \n",
       "\n",
       "[1 rows x 23 columns]"
      ]
     },
     "execution_count": 6,
     "metadata": {},
     "output_type": "execute_result"
    }
   ],
   "source": [
    "# Check the correct name for the column I will use for this direction\n",
    "\n",
    "ords_prods_merge.head(1)"
   ]
  },
  {
   "cell_type": "code",
   "execution_count": 7,
   "id": "0928c1e8",
   "metadata": {},
   "outputs": [
    {
     "data": {
      "text/html": [
       "<div>\n",
       "<style scoped>\n",
       "    .dataframe tbody tr th:only-of-type {\n",
       "        vertical-align: middle;\n",
       "    }\n",
       "\n",
       "    .dataframe tbody tr th {\n",
       "        vertical-align: top;\n",
       "    }\n",
       "\n",
       "    .dataframe thead tr th {\n",
       "        text-align: left;\n",
       "    }\n",
       "\n",
       "    .dataframe thead tr:last-of-type th {\n",
       "        text-align: right;\n",
       "    }\n",
       "</style>\n",
       "<table border=\"1\" class=\"dataframe\">\n",
       "  <thead>\n",
       "    <tr>\n",
       "      <th></th>\n",
       "      <th colspan=\"3\" halign=\"left\">prices</th>\n",
       "    </tr>\n",
       "    <tr>\n",
       "      <th></th>\n",
       "      <th>mean</th>\n",
       "      <th>min</th>\n",
       "      <th>max</th>\n",
       "    </tr>\n",
       "    <tr>\n",
       "      <th>loyalty_flag</th>\n",
       "      <th></th>\n",
       "      <th></th>\n",
       "      <th></th>\n",
       "    </tr>\n",
       "  </thead>\n",
       "  <tbody>\n",
       "    <tr>\n",
       "      <th>Loyal customer</th>\n",
       "      <td>10.386336</td>\n",
       "      <td>1.0</td>\n",
       "      <td>99999.0</td>\n",
       "    </tr>\n",
       "    <tr>\n",
       "      <th>New customer</th>\n",
       "      <td>13.294670</td>\n",
       "      <td>1.0</td>\n",
       "      <td>99999.0</td>\n",
       "    </tr>\n",
       "    <tr>\n",
       "      <th>Regular customer</th>\n",
       "      <td>12.495717</td>\n",
       "      <td>1.0</td>\n",
       "      <td>99999.0</td>\n",
       "    </tr>\n",
       "  </tbody>\n",
       "</table>\n",
       "</div>"
      ],
      "text/plain": [
       "                     prices              \n",
       "                       mean  min      max\n",
       "loyalty_flag                             \n",
       "Loyal customer    10.386336  1.0  99999.0\n",
       "New customer      13.294670  1.0  99999.0\n",
       "Regular customer  12.495717  1.0  99999.0"
      ]
     },
     "execution_count": 7,
     "metadata": {},
     "output_type": "execute_result"
    }
   ],
   "source": [
    "# Check the basic statistics from each loyalty category\n",
    "\n",
    "ords_prods_merge.groupby('loyalty_flag').agg({'prices': ['mean', 'min', 'max']})"
   ]
  },
  {
   "cell_type": "markdown",
   "id": "3e75847f",
   "metadata": {},
   "source": [
    "**Answer: Loyal customer has an average that is less than a New-or a Regular customer, regarding prices**"
   ]
  },
  {
   "cell_type": "markdown",
   "id": "fc90256b",
   "metadata": {},
   "source": [
    "# 5. Direction 6\n",
    "\n",
    "The team now wants to target different types of spenders in their marketing campaigns. This can be achieved by looking at the prices of the items people are buying. Create a spending flag for each user based on the average price across all their orders using the following criteria:\n",
    "If the mean of the prices of products purchased by a user is lower than 10, then flag them as a “Low spender.”\n",
    "If the mean of the prices of products purchased by a user is higher than or equal to 10, then flag them as a “High spender.”"
   ]
  },
  {
   "cell_type": "code",
   "execution_count": 13,
   "id": "bfcd3be2",
   "metadata": {},
   "outputs": [],
   "source": [
    "# Create a new column \"spending\" to dataframe\n",
    "# Split the data into groups based on the \"user_id\" and \"prices\" column\n",
    "# Apply the transform() function to generate the mean price for each user.\n",
    "\n",
    "ords_prods_merge['spending'] = ords_prods_merge.groupby(['user_id'])['prices'].transform(np.mean)"
   ]
  },
  {
   "cell_type": "code",
   "execution_count": 14,
   "id": "8bc38307",
   "metadata": {},
   "outputs": [],
   "source": [
    "# Create spending flag depending on prices\n",
    "\n",
    "ords_prods_merge.loc[ords_prods_merge['prices'] < 10, 'spending_flag'] = 'Low spender'\n",
    "ords_prods_merge.loc[ords_prods_merge['prices'] >= 10, 'spending_flag'] = 'High spender'"
   ]
  },
  {
   "cell_type": "code",
   "execution_count": 15,
   "id": "be24871f",
   "metadata": {},
   "outputs": [
    {
     "data": {
      "text/plain": [
       "Low spender     21760937\n",
       "High spender    10643922\n",
       "NaN                30200\n",
       "Name: spending_flag, dtype: int64"
      ]
     },
     "execution_count": 15,
     "metadata": {},
     "output_type": "execute_result"
    }
   ],
   "source": [
    "# Check the frequency on new column \"Spending Flag\"\n",
    "\n",
    "ords_prods_merge['spending_flag'].value_counts(dropna=False)"
   ]
  },
  {
   "cell_type": "markdown",
   "id": "bfc69c16",
   "metadata": {},
   "source": [
    "**Answer: The high spender customers represent about one third of Instacarts turnover.**"
   ]
  },
  {
   "cell_type": "markdown",
   "id": "4e61f1e4",
   "metadata": {},
   "source": [
    "# 6. Direction 7"
   ]
  },
  {
   "cell_type": "markdown",
   "id": "5e15966c",
   "metadata": {},
   "source": [
    "In order to send relevant notifications to users within the app (for instance, asking users if they want to buy \n",
    "the same item again), the Instacart team wants you to determine frequent versus non-frequent customers. \n",
    "Create an order frequency flag that marks the regularity of a user’s ordering behavior according to the median \n",
    "in the “days_since_prior_order” column. The criteria for the flag should be as follows:\n",
    "If the median of “days_since_prior_order” is higher than 20, then the customer should be labeled a “Non-frequent customer.”\n",
    "If the median is higher than 10 and lower than or equal to 20, then the customer should be labeled a “Regular customer.”\n",
    "If the median is lower than or equal to 10, then the customer should be labeled a “Frequent customer.”"
   ]
  },
  {
   "cell_type": "code",
   "execution_count": 16,
   "id": "d3f719fa",
   "metadata": {},
   "outputs": [],
   "source": [
    "# Create a new column \"user_behavior\" to dataframe\n",
    "# Split the data into groups based on the \"user_id\" and \"days_since_prior_order\" column\n",
    "# Apply the transform() function to generate the median behavior for customers.\n",
    "\n",
    "ords_prods_merge['user_behavior'] = ords_prods_merge.groupby(['user_id'])['days_since_prior_order'].transform(np.median)"
   ]
  },
  {
   "cell_type": "code",
   "execution_count": 17,
   "id": "5af808d5",
   "metadata": {},
   "outputs": [],
   "source": [
    "# Create behavior flag depending on days since prior order\n",
    "\n",
    "ords_prods_merge.loc[ords_prods_merge['days_since_prior_order'] >20, 'behavior_flag'] = 'Non-frequent customer'"
   ]
  },
  {
   "cell_type": "code",
   "execution_count": 18,
   "id": "aaa01b61",
   "metadata": {},
   "outputs": [],
   "source": [
    "ords_prods_merge.loc[(ords_prods_merge['days_since_prior_order'] >10) & (ords_prods_merge['days_since_prior_order'] <=20), 'behavior_flag'] = 'Regular customer'"
   ]
  },
  {
   "cell_type": "code",
   "execution_count": 19,
   "id": "614923ed",
   "metadata": {},
   "outputs": [],
   "source": [
    "ords_prods_merge.loc[ords_prods_merge['days_since_prior_order'] <10, 'behavior_flag'] = 'Frequent customer'"
   ]
  },
  {
   "cell_type": "code",
   "execution_count": 21,
   "id": "ff7621d6",
   "metadata": {},
   "outputs": [
    {
     "data": {
      "text/plain": [
       "Frequent customer        18092009\n",
       "Regular customer          6061501\n",
       "Non-frequent customer     5235275\n",
       "NaN                       3046274\n",
       "Name: behavior_flag, dtype: int64"
      ]
     },
     "execution_count": 21,
     "metadata": {},
     "output_type": "execute_result"
    }
   ],
   "source": [
    "# Check the frequency on behavior_flag\n",
    "\n",
    "ords_prods_merge['behavior_flag'].value_counts(dropna=False)"
   ]
  },
  {
   "cell_type": "markdown",
   "id": "d3ee7bfe",
   "metadata": {},
   "source": [
    "**Answer: Over 50% of the customers are \"Frequent customer\"**"
   ]
  },
  {
   "cell_type": "markdown",
   "id": "6ffe64d7",
   "metadata": {},
   "source": [
    "# 7. Export Data"
   ]
  },
  {
   "cell_type": "code",
   "execution_count": 22,
   "id": "964b5208",
   "metadata": {},
   "outputs": [],
   "source": [
    "# Export dataframe in pickle format to Prepared data\n",
    "\n",
    "ords_prods_merge.to_pickle(os.path.join(path, '02 Data','Prepared Data', 'orders_products_latest.pkl'))"
   ]
  }
 ],
 "metadata": {
  "kernelspec": {
   "display_name": "Python 3",
   "language": "python",
   "name": "python3"
  },
  "language_info": {
   "codemirror_mode": {
    "name": "ipython",
    "version": 3
   },
   "file_extension": ".py",
   "mimetype": "text/x-python",
   "name": "python",
   "nbconvert_exporter": "python",
   "pygments_lexer": "ipython3",
   "version": "3.8.8"
  }
 },
 "nbformat": 4,
 "nbformat_minor": 5
}
